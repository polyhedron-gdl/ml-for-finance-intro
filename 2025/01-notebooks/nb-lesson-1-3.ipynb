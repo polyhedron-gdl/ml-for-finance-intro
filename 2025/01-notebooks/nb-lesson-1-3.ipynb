{
 "cells": [
  {
   "cell_type": "markdown",
   "id": "c1f18b43",
   "metadata": {
    "id": "c1f18b43"
   },
   "source": [
    "<table align=\"left\">\n",
    "  <td>\n",
    "    <a target=\"_blank\" href=\"https://colab.research.google.com/github/polyhedron-gdl/ml-for-finance-intro/blob/main/2025/01-notebooks/nb-lesson-1-3.ipynb\">\n",
    "        <img src=\"https://www.tensorflow.org/images/colab_logo_32px.png\" />Run in Google Colab</a>\n",
    "  </td>\n",
    "</table>"
   ]
  },
  {
   "cell_type": "markdown",
   "id": "2a43c976",
   "metadata": {
    "id": "2a43c976"
   },
   "source": [
    "# Remote Data Access with Pandas"
   ]
  },
  {
   "cell_type": "code",
   "execution_count": 103,
   "id": "36b7f444",
   "metadata": {
    "id": "36b7f444"
   },
   "outputs": [],
   "source": [
    "import pandas as pd\n",
    "import matplotlib.pyplot as plt\n",
    "\n",
    "import warnings\n",
    "warnings.filterwarnings(\"ignore\")"
   ]
  },
  {
   "cell_type": "markdown",
   "id": "adf7c3be",
   "metadata": {
    "id": "adf7c3be"
   },
   "source": [
    "## What is `pandas-datareader`\n",
    "\n",
    "\n",
    "`pandas-datareader` is an extension to the popular `pandas` library in Python, designed to simplify the process of accessing and importing data from various financial and economic sources. It is particularly useful in data science and finance applications where real-time or historical data is required for analysis."
   ]
  },
  {
   "cell_type": "markdown",
   "id": "009ea855",
   "metadata": {
    "id": "009ea855"
   },
   "source": [
    "### Key Features of `pandas-datareader`\n",
    "\n",
    "1. **Data Acquisition from Multiple Sources**:\n",
    "   - Fetch financial data such as stock prices, indices, and exchange rates.\n",
    "   - Access macroeconomic data like GDP, unemployment rates, and inflation.\n",
    "   - Supported sources include Yahoo Finance, Alpha Vantage, World Bank, and FRED (Federal Reserve Economic Data).\n",
    "\n",
    "<p></p>\n",
    "\n",
    "2. **Seamless Integration with `pandas`**:\n",
    "   - The data retrieved is returned as a `pandas.DataFrame` or `pandas.Series`, enabling immediate compatibility with pandas' analytical tools.\n",
    "   - Built-in functionality to handle time-series data efficiently.\n",
    "\n",
    "<p></p>\n",
    "\n",
    "3. **Ease of Use**:\n",
    "   - Simple API for fetching data with minimal setup.\n",
    "   - Provides clear error messages for unsupported sources or connectivity issues.\n",
    "\n",
    "<p></p>\n",
    "\n",
    "4. **Customizable Queries**:\n",
    "   - Retrieve data for specific time periods, tickers, or categories.\n",
    "   - Filter results based on user-defined criteria."
   ]
  },
  {
   "cell_type": "markdown",
   "id": "9a388ecd",
   "metadata": {
    "id": "9a388ecd"
   },
   "source": [
    "### Installation\n",
    "\n",
    "To use `pandas-datareader`, install it via pip:\n",
    "```bash\n",
    "pip install pandas-datareader\n",
    "```\n",
    "\n",
    "### Core Functions\n",
    "\n",
    "Here are some of the key functionalities provided by `pandas-datareader`, for the full list follow this [link](https://pandas-datareader.readthedocs.io/en/latest/) to the documentation web page."
   ]
  },
  {
   "cell_type": "code",
   "execution_count": 104,
   "id": "78969b6d",
   "metadata": {
    "id": "78969b6d"
   },
   "outputs": [],
   "source": [
    "from pandas_datareader import data as pdr"
   ]
  },
  {
   "cell_type": "markdown",
   "id": "77bf4708",
   "metadata": {
    "id": "77bf4708"
   },
   "source": [
    "1. **Accessing Macroeconomic Data**\n",
    "\n",
    "Fetch economic indicators such as interest rates or GDP data from FRED. The St. Louis [FRED](https://fred.stlouisfed.org/) (Federal Reserve Economic Data) is a comprehensive online database managed by the Federal Reserve Bank of St. Louis. It provides free access to a vast collection of economic and financial data that spans across various sectors, geographies, and time periods.\n",
    "\n",
    "FRED is widely used by economists, researchers, analysts, and students to retrieve historical data for analysis, visualization, and forecasting."
   ]
  },
  {
   "cell_type": "code",
   "execution_count": 105,
   "id": "76008c79",
   "metadata": {
    "colab": {
     "base_uri": "https://localhost:8080/"
    },
    "id": "76008c79",
    "outputId": "9177d72a-28e4-481a-d976-e1f856bfcbc6"
   },
   "outputs": [
    {
     "name": "stdout",
     "output_type": "stream",
     "text": [
      "            UNRATE\n",
      "DATE              \n",
      "2020-01-01     3.6\n",
      "2020-02-01     3.5\n",
      "2020-03-01     4.4\n",
      "2020-04-01    14.8\n",
      "2020-05-01    13.2\n"
     ]
    }
   ],
   "source": [
    "# Example: Retrieve US unemployment rate data\n",
    "unemployment_data = pdr.get_data_fred('UNRATE', start='2020-01-01', end='2023-01-01')\n",
    "print(unemployment_data.head())"
   ]
  },
  {
   "cell_type": "code",
   "execution_count": 106,
   "id": "f6768167",
   "metadata": {
    "colab": {
     "base_uri": "https://localhost:8080/",
     "height": 238
    },
    "id": "f6768167",
    "outputId": "45e78d92-b0c8-4adc-e0a5-fdccad7dab2b"
   },
   "outputs": [
    {
     "data": {
      "text/html": [
       "<div>\n",
       "<style scoped>\n",
       "    .dataframe tbody tr th:only-of-type {\n",
       "        vertical-align: middle;\n",
       "    }\n",
       "\n",
       "    .dataframe tbody tr th {\n",
       "        vertical-align: top;\n",
       "    }\n",
       "\n",
       "    .dataframe thead th {\n",
       "        text-align: right;\n",
       "    }\n",
       "</style>\n",
       "<table border=\"1\" class=\"dataframe\">\n",
       "  <thead>\n",
       "    <tr style=\"text-align: right;\">\n",
       "      <th></th>\n",
       "      <th>DGS10</th>\n",
       "    </tr>\n",
       "    <tr>\n",
       "      <th>DATE</th>\n",
       "      <th></th>\n",
       "    </tr>\n",
       "  </thead>\n",
       "  <tbody>\n",
       "    <tr>\n",
       "      <th>2010-01-01</th>\n",
       "      <td>NaN</td>\n",
       "    </tr>\n",
       "    <tr>\n",
       "      <th>2010-01-04</th>\n",
       "      <td>3.85</td>\n",
       "    </tr>\n",
       "    <tr>\n",
       "      <th>2010-01-05</th>\n",
       "      <td>3.77</td>\n",
       "    </tr>\n",
       "    <tr>\n",
       "      <th>2010-01-06</th>\n",
       "      <td>3.85</td>\n",
       "    </tr>\n",
       "    <tr>\n",
       "      <th>2010-01-07</th>\n",
       "      <td>3.85</td>\n",
       "    </tr>\n",
       "  </tbody>\n",
       "</table>\n",
       "</div>"
      ],
      "text/plain": [
       "            DGS10\n",
       "DATE             \n",
       "2010-01-01    NaN\n",
       "2010-01-04   3.85\n",
       "2010-01-05   3.77\n",
       "2010-01-06   3.85\n",
       "2010-01-07   3.85"
      ]
     },
     "execution_count": 106,
     "metadata": {},
     "output_type": "execute_result"
    }
   ],
   "source": [
    "# Example: Fetching the U.S. 10-Year Treasury Yield\n",
    "# The FRED series ID for the 10-year Treasury yield is \"DGS10\".\n",
    "\n",
    "import pandas_datareader as pdr\n",
    "import datetime\n",
    "\n",
    "# Define the time period\n",
    "start_date = datetime.datetime(2010, 1, 1)\n",
    "end_date = datetime.datetime(2024, 2, 1)\n",
    "\n",
    "# Fetch 10-Year Treasury Yield data from FRED\n",
    "interest_rates = pdr.data.DataReader(\"DGS10\", \"fred\", start_date, end_date)\n",
    "\n",
    "# Display the first few rows\n",
    "interest_rates.head()"
   ]
  },
  {
   "cell_type": "markdown",
   "id": "b08b702c",
   "metadata": {
    "id": "b08b702c"
   },
   "source": [
    "**Explanation:**\n",
    "\n",
    "- `\"DGS10\"` → FRED series ID for the **10-Year Treasury Constant Maturity Rate**.\n",
    "\n",
    "- `\"fred\"` → Specifies that we’re pulling data from the **FRED database**.\n",
    "\n",
    "- `start_date, end_date` → Defines the time range for the data."
   ]
  },
  {
   "cell_type": "code",
   "execution_count": 107,
   "id": "b3d8bb49",
   "metadata": {
    "colab": {
     "base_uri": "https://localhost:8080/",
     "height": 238
    },
    "id": "b3d8bb49",
    "outputId": "ee334679-5109-4194-fd69-47837b3988a1"
   },
   "outputs": [
    {
     "data": {
      "text/html": [
       "<div>\n",
       "<style scoped>\n",
       "    .dataframe tbody tr th:only-of-type {\n",
       "        vertical-align: middle;\n",
       "    }\n",
       "\n",
       "    .dataframe tbody tr th {\n",
       "        vertical-align: top;\n",
       "    }\n",
       "\n",
       "    .dataframe thead th {\n",
       "        text-align: right;\n",
       "    }\n",
       "</style>\n",
       "<table border=\"1\" class=\"dataframe\">\n",
       "  <thead>\n",
       "    <tr style=\"text-align: right;\">\n",
       "      <th></th>\n",
       "      <th>DGS10</th>\n",
       "      <th>DGS2</th>\n",
       "      <th>DGS3MO</th>\n",
       "    </tr>\n",
       "    <tr>\n",
       "      <th>DATE</th>\n",
       "      <th></th>\n",
       "      <th></th>\n",
       "      <th></th>\n",
       "    </tr>\n",
       "  </thead>\n",
       "  <tbody>\n",
       "    <tr>\n",
       "      <th>2010-01-01</th>\n",
       "      <td>NaN</td>\n",
       "      <td>NaN</td>\n",
       "      <td>NaN</td>\n",
       "    </tr>\n",
       "    <tr>\n",
       "      <th>2010-01-04</th>\n",
       "      <td>3.85</td>\n",
       "      <td>1.09</td>\n",
       "      <td>0.08</td>\n",
       "    </tr>\n",
       "    <tr>\n",
       "      <th>2010-01-05</th>\n",
       "      <td>3.77</td>\n",
       "      <td>1.01</td>\n",
       "      <td>0.07</td>\n",
       "    </tr>\n",
       "    <tr>\n",
       "      <th>2010-01-06</th>\n",
       "      <td>3.85</td>\n",
       "      <td>1.01</td>\n",
       "      <td>0.06</td>\n",
       "    </tr>\n",
       "    <tr>\n",
       "      <th>2010-01-07</th>\n",
       "      <td>3.85</td>\n",
       "      <td>1.03</td>\n",
       "      <td>0.05</td>\n",
       "    </tr>\n",
       "  </tbody>\n",
       "</table>\n",
       "</div>"
      ],
      "text/plain": [
       "            DGS10  DGS2  DGS3MO\n",
       "DATE                           \n",
       "2010-01-01    NaN   NaN     NaN\n",
       "2010-01-04   3.85  1.09    0.08\n",
       "2010-01-05   3.77  1.01    0.07\n",
       "2010-01-06   3.85  1.01    0.06\n",
       "2010-01-07   3.85  1.03    0.05"
      ]
     },
     "execution_count": 107,
     "metadata": {},
     "output_type": "execute_result"
    }
   ],
   "source": [
    "# Example: Fetching Multiple Interest Rate Series\n",
    "# You can request multiple interest rate series at once by passing a list of series IDs.\n",
    "\n",
    "# List of interest rate series IDs\n",
    "series_ids = [\"DGS10\", \"DGS2\", \"DGS3MO\"]  # 10Y, 2Y, and 3-Month Treasury rates\n",
    "\n",
    "# Fetch data\n",
    "rates = pdr.data.DataReader(series_ids, \"fred\", start_date, end_date)\n",
    "\n",
    "# Print the first few rows\n",
    "rates.head()"
   ]
  },
  {
   "cell_type": "markdown",
   "id": "6ecba20e",
   "metadata": {
    "id": "6ecba20e"
   },
   "source": [
    "**FRED Series IDs:**\n",
    "\n",
    "- `\"DGS10\"` → **10-Year Treasury Rate**\n",
    "\n",
    "- `\"DGS2\"` → **2-Year Treasury Rate**\n",
    "\n",
    "- `\"DGS3MO\"` → **3-Month Treasury Rate**"
   ]
  },
  {
   "cell_type": "code",
   "execution_count": 108,
   "id": "0afc808d",
   "metadata": {
    "colab": {
     "base_uri": "https://localhost:8080/",
     "height": 487
    },
    "id": "0afc808d",
    "outputId": "3812f344-aa45-45f1-977c-6c2f21e45204",
    "scrolled": false
   },
   "outputs": [
    {
     "data": {
      "image/png": "[encoded data removed]",
      "text/plain": [
       "<Figure size 1000x500 with 1 Axes>"
      ]
     },
     "metadata": {},
     "output_type": "display_data"
    }
   ],
   "source": [
    "# Example: Plotting the Interest Rate Data\n",
    "# To visualize how interest rates change over time:\n",
    "\n",
    "import matplotlib.pyplot as plt\n",
    "\n",
    "# Plot the interest rate trends\n",
    "rates.plot(figsize=(10, 5), title=\"US Treasury Interest Rates\")\n",
    "plt.xlabel(\"Year\")\n",
    "plt.ylabel(\"Rate (%)\")\n",
    "plt.grid()\n",
    "plt.show()"
   ]
  },
  {
   "cell_type": "code",
   "execution_count": 109,
   "id": "0b4ade68",
   "metadata": {
    "colab": {
     "base_uri": "https://localhost:8080/",
     "height": 487
    },
    "id": "0b4ade68",
    "outputId": "446bd07b-7bde-40a8-a2b5-5f9ed49d2391"
   },
   "outputs": [
    {
     "data": {
      "image/png": "[encoded data removed]",
      "text/plain": [
       "<Figure size 1000x500 with 1 Axes>"
      ]
     },
     "metadata": {},
     "output_type": "display_data"
    }
   ],
   "source": [
    "# Example: Calculating Interest Rate Spread\n",
    "# You can analyze the yield curve by computing spreads, such as the 10-Year minus 2-Year Treasury yield:\n",
    "\n",
    "# Calculate the yield spread (10Y - 2Y)\n",
    "rates[\"Spread_10Y_2Y\"] = rates[\"DGS10\"] - rates[\"DGS2\"]\n",
    "\n",
    "# Plot the spread\n",
    "rates[\"Spread_10Y_2Y\"].plot(figsize=(10, 5), title=\"10-Year Minus 2-Year Spread\")\n",
    "plt.axhline(0, color=\"red\", linestyle=\"--\")  # Mark zero line\n",
    "plt.grid()\n",
    "plt.show()"
   ]
  },
  {
   "cell_type": "markdown",
   "id": "bb054495",
   "metadata": {
    "id": "bb054495"
   },
   "source": [
    "**Why this matters?**  \n",
    "\n",
    "- A **negative spread** (inverted yield curve) often signals **recession risks**."
   ]
  },
  {
   "cell_type": "markdown",
   "id": "956abe65",
   "metadata": {
    "id": "956abe65"
   },
   "source": [
    "2. **World Bank Data**\n",
    "\n",
    "Retrieve global economic indicators from the World Bank:"
   ]
  },
  {
   "cell_type": "markdown",
   "id": "bc62ce9e",
   "metadata": {
    "id": "bc62ce9e"
   },
   "source": [
    "This Python script retrieves **World Bank GDP data** for the **United States** from **2010 to 2022** using the `pandas_datareader` library and formats it for readability.\n",
    "\n",
    "1. **Import World Bank Data Module:**\n",
    "   ```python\n",
    "   from pandas_datareader import wb\n",
    "   ```\n",
    "   - This imports the `wb` module from `pandas_datareader`, which allows retrieving economic indicators from the **World Bank**.\n",
    "\n",
    "2. **Retrieve GDP Data:**\n",
    "   ```python\n",
    "   gdp_data = wb.download(indicator='NY.GDP.MKTP.CD', country=['US'], start=2010, end=2022)\n",
    "   ```\n",
    "   - The `wb.download()` function is used to fetch **Gross Domestic Product (GDP)** data:\n",
    "     - `'NY.GDP.MKTP.CD'` → GDP in **current US dollars**.\n",
    "     - `country=['US']` → Fetches data for the **United States**.\n",
    "     - `start=2010, end=2022` → Gets annual GDP values from **2010 to 2022**.\n",
    "\n",
    "3. **Format GDP for Readability:**\n",
    "   ```python\n",
    "   gdp_data['NY.GDP.MKTP.CD'] = gdp_data['NY.GDP.MKTP.CD'].apply(lambda x: f\"{x:,.0f}\")\n",
    "   ```\n",
    "   - Applies **thousands separator formatting** to GDP values (e.g., **\"21,000,000,000,000\"** instead of **\"21000000000000\"**).\n",
    "   - `.apply(lambda x: f\"{x:,.0f}\")`:\n",
    "     - Uses **Python string formatting** to insert commas every three digits.\n"
   ]
  },
  {
   "cell_type": "code",
   "execution_count": 110,
   "id": "4789cfe5",
   "metadata": {
    "colab": {
     "base_uri": "https://localhost:8080/"
    },
    "id": "4789cfe5",
    "outputId": "6d0b01c3-3c58-4bc9-8de8-27ffa3deda8d"
   },
   "outputs": [
    {
     "name": "stdout",
     "output_type": "stream",
     "text": [
      "                        NY.GDP.MKTP.CD\n",
      "country       year                    \n",
      "United States 2022  26,006,893,000,000\n",
      "              2021  23,681,171,000,000\n",
      "              2020  21,354,105,000,000\n",
      "              2019  21,539,982,000,000\n",
      "              2018  20,656,516,000,000\n"
     ]
    }
   ],
   "source": [
    "# Example: Retrieve World Bank GDP data for a specific country\n",
    "from pandas_datareader import wb\n",
    "\n",
    "gdp_data = wb.download(indicator='NY.GDP.MKTP.CD', country=['US'], start=2010, end=2022)\n",
    "# Format the GDP with points separating thousands\n",
    "gdp_data['NY.GDP.MKTP.CD'] = gdp_data['NY.GDP.MKTP.CD'].apply(lambda x: f\"{x:,.0f}\")\n",
    "# Print the formatted GDP data\n",
    "print(gdp_data.head())"
   ]
  },
  {
   "cell_type": "markdown",
   "id": "e8e1bbea",
   "metadata": {
    "id": "e8e1bbea"
   },
   "source": [
    "4. **Google and Alpha Vantage (Deprecated or API Key Required)**\n",
    "\n",
    "Some sources (like Google Finance) are no longer supported due to service changes. For Alpha Vantage, you need an API key:\n",
    "```python\n",
    "# Example with Alpha Vantage\n",
    "alpha_vantage_data = pdr.av.time_series.AVTimeSeriesReader(symbols='AAPL', api_key='YOUR_API_KEY')\n",
    "print(alpha_vantage_data.read())\n",
    "```"
   ]
  },
  {
   "cell_type": "markdown",
   "id": "f50a9c62",
   "metadata": {
    "id": "f50a9c62"
   },
   "source": [
    "### Advantages\n",
    "\n",
    "1. **Efficient Data Retrieval**:\n",
    "   - Simplifies the process of obtaining structured financial data.\n",
    "   - Automates repetitive data-fetching tasks.\n",
    "\n",
    "2. **Broad Range of Data Sources**:\n",
    "   - Supports multiple reliable data providers, from economic databases to financial services.\n",
    "\n",
    "3. **Time-Series Handling**:\n",
    "   - Data is formatted as `pandas` time-series objects, allowing easy manipulation and plotting.\n",
    "\n",
    "4. **Customizable Queries**:\n",
    "   - Specify date ranges, frequency, and fields of interest.\n",
    "\n",
    "\n",
    "### Common Challenges\n",
    "\n",
    "1. **API Key Requirements**:\n",
    "   - Some sources like Alpha Vantage require API keys, which may have rate limits.\n",
    "\n",
    "2. **Deprecated Sources**:\n",
    "   - Certain data providers (e.g., Google Finance) are no longer supported.\n",
    "\n",
    "3. **Connectivity Issues**:\n",
    "   - Retrieval may fail if the data provider is down or the API service changes.\n",
    "\n",
    "4. **Data Cleaning**:\n",
    "   - While the data is structured, some sources may require additional cleaning for specific use cases.\n",
    "\n",
    "### Alternatives\n",
    "\n",
    "If `pandas-datareader` doesn’t meet your needs, consider alternatives:\n",
    "- **`yfinance`**: A more robust tool for Yahoo Finance data.\n",
    "- **`Quandl`**: High-quality financial, economic, and alternative datasets (requires API key).\n",
    "- **`alpha_vantage`**: Python library specifically for Alpha Vantage (requires API key).\n",
    "\n",
    "### Best Practices\n",
    "\n",
    "1. **Check for Updates**:\n",
    "   - Ensure you’re using the latest version of `pandas-datareader` as data source APIs frequently change.\n",
    "\n",
    "2. **Error Handling**:\n",
    "   - Wrap calls in try-except blocks to handle connectivity or API errors gracefully.\n",
    "   ```python\n",
    "   try:\n",
    "       stock_data = pdr.get_data_yahoo('AAPL', start='2022-01-01', end='2023-01-01')\n",
    "   except Exception as e:\n",
    "       print(f\"Error fetching data: {e}\")\n",
    "   ```\n",
    "\n",
    "3. **Use with Larger Pipelines**:\n",
    "   - Combine `pandas-datareader` with libraries like `numpy` and `matplotlib` for advanced analytics and visualization."
   ]
  },
  {
   "cell_type": "markdown",
   "id": "66c9fe4e",
   "metadata": {
    "id": "66c9fe4e"
   },
   "source": [
    "### Some Others Example with FRED"
   ]
  },
  {
   "cell_type": "markdown",
   "id": "e7854e23",
   "metadata": {
    "id": "e7854e23"
   },
   "source": [
    "#### The VIX Index\n",
    "\n",
    "**What is the VIX Index?**\n",
    "\n",
    "The **VIX Index**, often referred to as the \"Fear Index\" or \"Fear Gauge,\" is a financial benchmark that represents the market's expectation of volatility over the next 30 days. It is derived from the prices of options on the **S&P 500 Index (SPX)**. The VIX is widely used as a measure of market sentiment, particularly investor fear or uncertainty.\n",
    "\n",
    "**Key Features of the VIX Index**\n",
    "\n",
    "**1. Calculation**\n",
    "\n",
    "- The VIX is calculated by the Chicago Board Options Exchange (CBOE) using a weighted average of the implied volatilities of a wide range of SPX call and put options.\n",
    "- It reflects the market's expectations of future price fluctuations, not the actual or historical volatility of the S&P 500.\n",
    "\n",
    "**2. Volatility as an Asset Class**\n",
    "\n",
    "- A higher VIX indicates increased market uncertainty and fear, often correlating with significant market downturns or events.\n",
    "- A lower VIX suggests calm market conditions, indicating lower expected price swings.\n",
    "\n",
    "**Interpreting VIX Values**\n",
    "\n",
    "- **Low VIX (<15)**: Suggests stability and investor confidence in the market.\n",
    "- **Moderate VIX (15–25)**: Indicates average levels of market uncertainty or expected volatility.\n",
    "- **High VIX (>25)**: Reflects elevated uncertainty, often due to geopolitical events, economic crises, or market shocks.\n",
    "\n",
    "**Why the VIX Matters**\n",
    "\n",
    "1. **Market Sentiment Indicator**:\n",
    "   - The VIX is often used as a barometer for investor sentiment. A rising VIX signals fear and potential risk-off behavior, while a declining VIX suggests confidence.\n",
    "   \n",
    "2. **Hedging and Speculation**:\n",
    "   - Traders and portfolio managers use the VIX for hedging portfolios or speculating on future market volatility via derivatives such as VIX futures, options, or exchange-traded products (ETPs).\n",
    "   \n",
    "3. **Leading Indicator**:\n",
    "   - The VIX can sometimes act as a leading indicator for equity market movements, as spikes in the VIX often precede sharp market declines.\n",
    "\n",
    "**Practical Applications**\n",
    "\n",
    "1. **Portfolio Protection**:\n",
    "   Investors use VIX options or futures to hedge against downside risks in their equity portfolios.\n",
    "   \n",
    "2. **Volatility-Based Strategies**:\n",
    "   Quantitative traders use the VIX in strategies like volatility arbitrage or pairs trading with other volatility instruments.\n",
    "\n",
    "3. **Economic Analysis**:\n",
    "   Economists and analysts observe the VIX to gauge market reactions to macroeconomic news, Federal Reserve decisions, or geopolitical developments."
   ]
  },
  {
   "cell_type": "code",
   "execution_count": 111,
   "id": "62dc2d5b",
   "metadata": {
    "colab": {
     "base_uri": "https://localhost:8080/",
     "height": 586
    },
    "id": "62dc2d5b",
    "outputId": "99fd6310-26a8-4a58-8af6-f6901843c860"
   },
   "outputs": [
    {
     "name": "stdout",
     "output_type": "stream",
     "text": [
      "            VIXCLS\n",
      "DATE              \n",
      "2023-01-17   19.36\n",
      "2023-01-18   20.34\n",
      "2023-01-19   20.52\n",
      "2023-01-20   19.85\n",
      "2023-01-23   19.81\n",
      "Number of nan values in the VIX dataframe: 292\n",
      "The mean of the dataset = 0.00030844935189630385\n"
     ]
    },
    {
     "data": {
      "image/png": "[encoded data removed]",
      "text/plain": [
       "<Figure size 640x480 with 1 Axes>"
      ]
     },
     "metadata": {},
     "output_type": "display_data"
    }
   ],
   "source": [
    "# Setting the beginning and end of the historical data\n",
    "start_date = '1990-01-01'\n",
    "end_date   = '2023-01-23'\n",
    "\n",
    "# Creating a dataframe and downloading the VIX data\n",
    "vix = pdr.DataReader('VIXCLS', 'fred', start_date, end_date)\n",
    "\n",
    "# Printing the latest five observations of the dataframe\n",
    "print(vix.tail())\n",
    "\n",
    "# Calculating the number of nan values\n",
    "count_nan = vix['VIXCLS'].isnull().sum()\n",
    "\n",
    "# Printing the result\n",
    "print('Number of nan values in the VIX dataframe: ' + str(count_nan))\n",
    "\n",
    "# Dropping the NaN values from the rows\n",
    "vix = vix.dropna()\n",
    "\n",
    "# Taking the differences in an attempt to make the data stationary\n",
    "# (see appendix for a description of the diff method)\n",
    "vix = vix.diff(periods = 1, axis = 0)\n",
    "\n",
    "# Dropping the first value of the data frame\n",
    "# This statement modifies vix by selecting a subset of its rows and\n",
    "# columns using .iloc[], which is used for integer-based indexing in Pandas.\n",
    "# Remember python slicing-> [1:, ] (Row selection) → Excludes the first row (index 0) and keeps all rows from index 1 onward.\n",
    "#                           [, : ] (Column selection) → Selects all columns.\n",
    "vix = vix.iloc[1: , :]\n",
    "\n",
    "# Calculating the mean of the dataset\n",
    "mean = vix[\"VIXCLS\"].mean()\n",
    "\n",
    "# Printing the result\n",
    "print('The mean of the dataset = ' + str(mean))\n",
    "\n",
    "# Importing the required library\n",
    "import matplotlib.pyplot as plt\n",
    "\n",
    "# Plotting the latest 250 observations in black with a label\n",
    "# Note the negative index ...\n",
    "plt.plot(vix[-250:], color = 'black', linewidth = 1.5, label = 'Change in VIX')\n",
    "\n",
    "# Plotting a red dashed horizontal line that is equal to mean\n",
    "plt.axhline(y = mean, color = 'red', linestyle = 'dashed')\n",
    "\n",
    "# Calling a grid to facilitate the visual component\n",
    "plt.grid()\n",
    "\n",
    "# Calling the legend function so it appears with the chart\n",
    "plt.legend()\n",
    "\n",
    "# Calling the plot\n",
    "plt.show()"
   ]
  },
  {
   "cell_type": "markdown",
   "id": "5070e9ed",
   "metadata": {
    "id": "5070e9ed"
   },
   "source": [
    "#### CPIAUCSL Data in the FRED Database\n",
    "\n",
    "The CPIAUCSL is a dataset in the FRED (Federal Reserve Economic Data) database representing the Consumer Price Index for All Urban Consumers: All Items, Seasonally Adjusted. It is a key economic indicator published by the Bureau of Labor Statistics (BLS) and provides a measure of the average change in prices paid by urban consumers for a broad basket of goods and services over time. The CPIAUCSL measures inflation by tracking the price changes of goods and services consumed by urban households, which comprise about 93% of the U.S. population.\n",
    "\n",
    "**Data Characteristics**\n",
    "\n",
    "- Frequency: Monthly\n",
    "- Units: Index (1982–1984 = 100) The base period is set to 1982–1984, meaning the average index value during that period is 100.\n",
    "- Seasonal Adjustment: The data is adjusted for predictable seasonal patterns to provide a clearer picture of underlying trends."
   ]
  },
  {
   "cell_type": "code",
   "execution_count": 112,
   "id": "16137705",
   "metadata": {
    "colab": {
     "base_uri": "https://localhost:8080/"
    },
    "id": "16137705",
    "outputId": "44a6c7cd-d4fc-40ec-8fb2-75633c43a9e9"
   },
   "outputs": [
    {
     "name": "stdout",
     "output_type": "stream",
     "text": [
      "            CPIAUCSL\n",
      "DATE                \n",
      "2022-09-01   296.341\n",
      "2022-10-01   297.863\n",
      "2022-11-01   298.648\n",
      "2022-12-01   298.812\n",
      "2023-01-01   300.356\n"
     ]
    }
   ],
   "source": [
    "# Setting the beginning and end of the historical data\n",
    "start_date = '1950-01-01'\n",
    "end_date   = '2023-01-23'\n",
    "\n",
    "# Creating a dataframe and downloading the CPI data\n",
    "cpi = pdr.DataReader('CPIAUCSL', 'fred', start_date, end_date)\n",
    "\n",
    "# Printing the latest five observations of the dataframe\n",
    "print(cpi.tail())"
   ]
  },
  {
   "cell_type": "code",
   "execution_count": 113,
   "id": "ed3e9dba",
   "metadata": {
    "colab": {
     "base_uri": "https://localhost:8080/"
    },
    "id": "ed3e9dba",
    "outputId": "ae552861-5b7e-4152-8074-4c8a876691c9"
   },
   "outputs": [
    {
     "name": "stdout",
     "output_type": "stream",
     "text": [
      "Number of nan values in the CPI dataframe: 0\n"
     ]
    }
   ],
   "source": [
    "# Checking if there are nan values in the CPI dataframe\n",
    "count_nan = cpi['CPIAUCSL'].isnull().sum()\n",
    "\n",
    "# Printing the result\n",
    "print('Number of nan values in the CPI dataframe: ' + str(count_nan))"
   ]
  },
  {
   "cell_type": "code",
   "execution_count": 114,
   "id": "bc5ce64b",
   "metadata": {
    "colab": {
     "base_uri": "https://localhost:8080/"
    },
    "id": "bc5ce64b",
    "outputId": "1c998032-1084-4031-f59a-ec1744151039"
   },
   "outputs": [
    {
     "name": "stdout",
     "output_type": "stream",
     "text": [
      "\n",
      "----------------------------------------------------------------------------------------------------\n",
      "Dataframe BEFORE index resetting\n",
      "----------------------------------------------------------------------------------------------------\n",
      "\n",
      "            CPIAUCSL\n",
      "DATE                \n",
      "1951-01-01  7.954062\n",
      "1951-02-01  9.402795\n",
      "1951-03-01  9.475465\n",
      "1951-04-01  9.598309\n",
      "1951-05-01  9.339504\n",
      "...              ...\n",
      "2022-09-01  8.198272\n",
      "2022-10-01  7.751941\n",
      "2022-11-01  7.119466\n",
      "2022-12-01  6.411498\n",
      "2023-01-01  6.362123\n",
      "\n",
      "[865 rows x 1 columns]\n",
      "\n",
      "----------------------------------------------------------------------------------------------------\n",
      "Dataframe AFTER index resetting\n",
      "----------------------------------------------------------------------------------------------------\n",
      "\n",
      "          DATE  CPIAUCSL\n",
      "0   1951-01-01  7.954062\n",
      "1   1951-02-01  9.402795\n",
      "2   1951-03-01  9.475465\n",
      "3   1951-04-01  9.598309\n",
      "4   1951-05-01  9.339504\n",
      "..         ...       ...\n",
      "860 2022-09-01  8.198272\n",
      "861 2022-10-01  7.751941\n",
      "862 2022-11-01  7.119466\n",
      "863 2022-12-01  6.411498\n",
      "864 2023-01-01  6.362123\n",
      "\n",
      "[865 rows x 2 columns]\n"
     ]
    }
   ],
   "source": [
    "# Transforming the CPI into a year-on-year measure\n",
    "# The pct_change() method in Pandas calculates the\n",
    "# percentage change between consecutive elements in\n",
    "# a Series or DataFrame.\n",
    "cpi = cpi.pct_change(periods = 12, axis = 0) * 100\n",
    "\n",
    "# Dropping the nan values from the rows\n",
    "cpi = cpi.dropna()\n",
    "print(\"\\n\" + 100*\"-\")\n",
    "print(\"Dataframe BEFORE index resetting\")\n",
    "print(100*\"-\" + \"\\n\")\n",
    "print(cpi)\n",
    "\n",
    "# Resetting the index\n",
    "cpi = cpi.reset_index()\n",
    "print(\"\\n\"+100*\"-\")\n",
    "print(\"Dataframe AFTER index resetting\")\n",
    "print(100*\"-\" + \"\\n\")\n",
    "print(cpi)"
   ]
  },
  {
   "cell_type": "code",
   "execution_count": 115,
   "id": "c7374e7c",
   "metadata": {
    "colab": {
     "base_uri": "https://localhost:8080/",
     "height": 430
    },
    "id": "c7374e7c",
    "outputId": "19712425-7424-4909-c2fd-142e5896338c"
   },
   "outputs": [
    {
     "data": {
      "image/png": "[encoded data removed]",
      "text/plain": [
       "<Figure size 640x480 with 1 Axes>"
      ]
     },
     "metadata": {},
     "output_type": "display_data"
    }
   ],
   "source": [
    "# Creating the chart\n",
    "fig, ax = plt.subplots()\n",
    "ax.scatter(cpi['DATE'], cpi['CPIAUCSL'], color = 'black',\n",
    "           s = 8,  label = 'Change in CPI Year-on-Year')\n",
    "\n",
    "# Calling the grid function for better interpretability\n",
    "plt.grid()\n",
    "\n",
    "# Calling the legend function to show the labels\n",
    "plt.legend()\n",
    "\n",
    "# Showing the plot\n",
    "plt.show()\n",
    "plt.close()"
   ]
  },
  {
   "cell_type": "markdown",
   "id": "e1c4c040",
   "metadata": {
    "id": "e1c4c040"
   },
   "source": [
    "Let's make some comparison with the UK using che `GBRCPIALLMINMEI` index. The GBRCPIALLMINMEI dataset in the FRED (Federal Reserve Economic Data) database represents the Consumer Price Index (CPI) for All Items in the United Kingdom, not seasonally adjusted. It is a measure of the average change over time in the prices paid by consumers in the UK for a broad basket of goods and services."
   ]
  },
  {
   "cell_type": "code",
   "execution_count": 116,
   "id": "7e32e422",
   "metadata": {
    "id": "7e32e422"
   },
   "outputs": [],
   "source": [
    "# Setting the beginning and end of the historical data\n",
    "start_date = '1995-01-01'\n",
    "end_date   = '2022-12-01'"
   ]
  },
  {
   "cell_type": "code",
   "execution_count": 117,
   "id": "41f9daa4",
   "metadata": {
    "id": "41f9daa4"
   },
   "outputs": [],
   "source": [
    "# Creating a dataframe and downloading the CPI data using its code name and its source\n",
    "cpi_us = pdr.DataReader('CPIAUCSL', 'fred', start_date, end_date)\n",
    "cpi_uk = pdr.DataReader('GBRCPIALLMINMEI', 'fred', start_date, end_date)"
   ]
  },
  {
   "cell_type": "code",
   "execution_count": 118,
   "id": "83d7b734",
   "metadata": {
    "id": "83d7b734"
   },
   "outputs": [],
   "source": [
    "# Dropping the NaN values from the rows\n",
    "cpi_us = cpi_us.dropna()\n",
    "cpi_uk = cpi_uk.dropna()"
   ]
  },
  {
   "cell_type": "code",
   "execution_count": 119,
   "id": "71be6320",
   "metadata": {
    "id": "71be6320"
   },
   "outputs": [],
   "source": [
    "# Transforming the CPI into a year-on-year measure\n",
    "cpi_us = cpi_us.pct_change(periods = 12, axis = 0) * 100\n",
    "cpi_us = cpi_us.dropna()\n",
    "cpi_uk = cpi_uk.pct_change(periods = 12, axis = 0) * 100\n",
    "cpi_uk = cpi_uk.dropna()"
   ]
  },
  {
   "cell_type": "code",
   "execution_count": 120,
   "id": "73a81f80",
   "metadata": {
    "colab": {
     "base_uri": "https://localhost:8080/",
     "height": 452
    },
    "id": "73a81f80",
    "outputId": "56f11d4f-1f54-419b-c28f-224cfafa7576"
   },
   "outputs": [
    {
     "data": {
      "image/png": "[encoded data removed]",
      "text/plain": [
       "<Figure size 640x480 with 1 Axes>"
      ]
     },
     "metadata": {},
     "output_type": "display_data"
    }
   ],
   "source": [
    "# Creating the chart\n",
    "fig, ax = plt.subplots()\n",
    "ax.scatter(cpi_us['CPIAUCSL'], cpi_uk['GBRCPIALLMINMEI'], color = 'black', s = 8, label = 'Change in CPI Year-on-Year')\n",
    "\n",
    "# Adding a few aesthetic elements to the chart\n",
    "ax.set_xlabel('US CPI')\n",
    "ax.set_ylabel('UK CPI')\n",
    "ax.axvline(x = 0, color='blue', linestyle = 'dashed', linewidth = 1)  # vertical line\n",
    "ax.axhline(y = 0, color='blue', linestyle = 'dashed', linewidth = 1)  # horizontal line\n",
    "ax.set_ylim(-2,)\n",
    "\n",
    "# Calling the grid function for better interpretability\n",
    "plt.grid()\n",
    "\n",
    "# Calling the legend function to show the labels\n",
    "plt.legend()\n",
    "\n",
    "# Showing the plot\n",
    "plt.show()\n",
    "plt.close()\n"
   ]
  },
  {
   "cell_type": "markdown",
   "id": "e8493cb4",
   "metadata": {
    "id": "e8493cb4"
   },
   "source": [
    "## What are Bars?"
   ]
  },
  {
   "cell_type": "markdown",
   "id": "5369e98a",
   "metadata": {
    "id": "5369e98a"
   },
   "source": [
    "In the context of **financial data structures**, the term **BAR** refers to a fundamental unit of time-based price data used primarily in **technical analysis** and charting. A \"bar\" aggregates market data over a specific period, such as a minute, an hour, a day, or even a week, to represent price movements for that duration. Generally, each bar contains four key price components:\n",
    "\n",
    "1. **Open Price**: The price at which the first trade occurred during the bar's time period.  \n",
    "2. **High Price**: The highest price reached during the bar's time period.  \n",
    "3. **Low Price**: The lowest price reached during the bar's time period.  \n",
    "4. **Close Price**: The price at which the last trade occurred during the bar's time period.  \n",
    "\n",
    "Together, these four prices form what is known as an **OHLC** bar (Open-High-Low-Close). Each bar also includes a **volume** component, representing the total quantity of assets traded during that period.\n",
    "\n",
    "### Visual Representation of a BAR  \n",
    "\n",
    "- **Body**: A vertical line between the high and low prices indicates the price range for the time period.  \n",
    "- **Tick marks**:\n",
    "   - A small horizontal tick to the left represents the **open price**.\n",
    "   - A small horizontal tick to the right represents the **close price**.\n",
    "\n",
    "![./pic/lesson-1-3_pic_0.png](https://github.com/polyhedron-gdl/ml-for-finance-intro/blob/main/2025/01-notebooks/pic/lesson-1-3_pic_0.png?raw=1)\n",
    "\n",
    "### Applications of BAR in Financial Data Structures\n",
    "\n",
    "1. **Charting and Visualization**: Bars are used to create bar charts, where each bar shows price movement for a set period. This is useful for visualizing trends over time.  \n",
    "2. **Technical Indicators**: Bars provide inputs for calculating indicators such as moving averages, Relative Strength Index (RSI), Bollinger Bands, etc.  \n",
    "3. **Trading Strategies**: Traders analyze bar data to identify patterns like price breakouts, reversals, or continuation patterns.  \n",
    "4. **Aggregation of Data**: Bars can be aggregated into different timeframes (e.g., 1-minute bars into 15-minute bars, daily bars into weekly bars).  \n",
    "\n",
    "### Types of Bars  \n",
    "\n",
    "- **Time-Based Bars**: Aggregated based on fixed time intervals (e.g., 1 minute, 1 hour, 1 day).  \n",
    "- **Volume-Based Bars**: A new bar is formed after a specified number of units are traded.  \n",
    "- **Range Bars**: Created when the price moves a specified range (e.g., 10 points).  \n",
    "- **Tick Bars**: A bar is created after a certain number of trades (e.g., 100 trades).\n",
    "\n",
    "The **BAR** concept, while simple, is a powerful way to represent market data efficiently and serves as the foundation for most financial data structures used in trading systems and analytics."
   ]
  },
  {
   "cell_type": "markdown",
   "id": "bd12d664",
   "metadata": {
    "id": "bd12d664"
   },
   "source": [
    "## Yahoo! Finance"
   ]
  },
  {
   "cell_type": "markdown",
   "id": "94912cd8",
   "metadata": {
    "id": "94912cd8"
   },
   "source": [
    "Yahoo Finance is a widely used platform for accessing financial market data, including stock prices, historical data, and company financials. By using the `yfinance` Python library, we can programmatically access this data and process it with pandas."
   ]
  },
  {
   "cell_type": "markdown",
   "id": "28781cdf",
   "metadata": {
    "id": "28781cdf"
   },
   "source": [
    "**Import Required Libraries**\n",
    "\n",
    "Begin by importing the necessary libraries:"
   ]
  },
  {
   "cell_type": "code",
   "execution_count": 121,
   "id": "be82c078",
   "metadata": {
    "id": "be82c078"
   },
   "outputs": [],
   "source": [
    "import yfinance as yf"
   ]
  },
  {
   "cell_type": "markdown",
   "id": "0910f6a3",
   "metadata": {
    "id": "0910f6a3"
   },
   "source": [
    "#### Stock and Index"
   ]
  },
  {
   "cell_type": "markdown",
   "id": "cb4504c3",
   "metadata": {
    "id": "cb4504c3"
   },
   "source": [
    "**Single Ticker**\n",
    "\n",
    "To download historical data for a single stock. This returns a pandas DataFrame containing open, high, low, close, volume, and adjusted close prices."
   ]
  },
  {
   "cell_type": "code",
   "execution_count": 122,
   "id": "2577c250",
   "metadata": {
    "colab": {
     "base_uri": "https://localhost:8080/",
     "height": 286
    },
    "id": "2577c250",
    "outputId": "e8d6070b-fd18-4bc9-d882-1acff0c59f50"
   },
   "outputs": [
    {
     "name": "stderr",
     "output_type": "stream",
     "text": [
      "[*********************100%%**********************]  1 of 1 completed\n"
     ]
    },
    {
     "data": {
      "text/html": [
       "<div>\n",
       "<style scoped>\n",
       "    .dataframe tbody tr th:only-of-type {\n",
       "        vertical-align: middle;\n",
       "    }\n",
       "\n",
       "    .dataframe tbody tr th {\n",
       "        vertical-align: top;\n",
       "    }\n",
       "\n",
       "    .dataframe thead th {\n",
       "        text-align: right;\n",
       "    }\n",
       "</style>\n",
       "<table border=\"1\" class=\"dataframe\">\n",
       "  <thead>\n",
       "    <tr style=\"text-align: right;\">\n",
       "      <th></th>\n",
       "      <th>Open</th>\n",
       "      <th>High</th>\n",
       "      <th>Low</th>\n",
       "      <th>Close</th>\n",
       "      <th>Adj Close</th>\n",
       "      <th>Volume</th>\n",
       "    </tr>\n",
       "    <tr>\n",
       "      <th>Date</th>\n",
       "      <th></th>\n",
       "      <th></th>\n",
       "      <th></th>\n",
       "      <th></th>\n",
       "      <th></th>\n",
       "      <th></th>\n",
       "    </tr>\n",
       "  </thead>\n",
       "  <tbody>\n",
       "    <tr>\n",
       "      <th>2020-01-02</th>\n",
       "      <td>74.059998</td>\n",
       "      <td>75.150002</td>\n",
       "      <td>73.797501</td>\n",
       "      <td>75.087502</td>\n",
       "      <td>72.716057</td>\n",
       "      <td>135480400</td>\n",
       "    </tr>\n",
       "    <tr>\n",
       "      <th>2020-01-03</th>\n",
       "      <td>74.287498</td>\n",
       "      <td>75.144997</td>\n",
       "      <td>74.125000</td>\n",
       "      <td>74.357498</td>\n",
       "      <td>72.009117</td>\n",
       "      <td>146322800</td>\n",
       "    </tr>\n",
       "    <tr>\n",
       "      <th>2020-01-06</th>\n",
       "      <td>73.447502</td>\n",
       "      <td>74.989998</td>\n",
       "      <td>73.187500</td>\n",
       "      <td>74.949997</td>\n",
       "      <td>72.582909</td>\n",
       "      <td>118387200</td>\n",
       "    </tr>\n",
       "    <tr>\n",
       "      <th>2020-01-07</th>\n",
       "      <td>74.959999</td>\n",
       "      <td>75.224998</td>\n",
       "      <td>74.370003</td>\n",
       "      <td>74.597504</td>\n",
       "      <td>72.241554</td>\n",
       "      <td>108872000</td>\n",
       "    </tr>\n",
       "    <tr>\n",
       "      <th>2020-01-08</th>\n",
       "      <td>74.290001</td>\n",
       "      <td>76.110001</td>\n",
       "      <td>74.290001</td>\n",
       "      <td>75.797501</td>\n",
       "      <td>73.403641</td>\n",
       "      <td>132079200</td>\n",
       "    </tr>\n",
       "  </tbody>\n",
       "</table>\n",
       "</div>"
      ],
      "text/plain": [
       "                 Open       High        Low      Close  Adj Close     Volume\n",
       "Date                                                                        \n",
       "2020-01-02  74.059998  75.150002  73.797501  75.087502  72.716057  135480400\n",
       "2020-01-03  74.287498  75.144997  74.125000  74.357498  72.009117  146322800\n",
       "2020-01-06  73.447502  74.989998  73.187500  74.949997  72.582909  118387200\n",
       "2020-01-07  74.959999  75.224998  74.370003  74.597504  72.241554  108872000\n",
       "2020-01-08  74.290001  76.110001  74.290001  75.797501  73.403641  132079200"
      ]
     },
     "execution_count": 122,
     "metadata": {},
     "output_type": "execute_result"
    }
   ],
   "source": [
    "# Download historical data for Apple (AAPL)\n",
    "apple_data = yf.download(\"AAPL\", start=\"2020-01-01\", end=\"2022-01-01\")\n",
    "apple_data.head()"
   ]
  },
  {
   "cell_type": "code",
   "execution_count": 123,
   "id": "5b840f59",
   "metadata": {
    "colab": {
     "base_uri": "https://localhost:8080/"
    },
    "id": "5b840f59",
    "outputId": "85dee6af-1e20-41ba-b674-ad3b97d6b447"
   },
   "outputs": [],
   "source": [
    "#!pip install mplfinance"
   ]
  },
  {
   "cell_type": "code",
   "execution_count": 129,
   "id": "8bbd8258",
   "metadata": {
    "colab": {
     "base_uri": "https://localhost:8080/",
     "height": 380
    },
    "id": "8bbd8258",
    "outputId": "a231688c-7e51-4ca3-fe52-11c30e7dd585"
   },
   "outputs": [
    {
     "name": "stderr",
     "output_type": "stream",
     "text": [
      "[*********************100%%**********************]  1 of 1 completed\n"
     ]
    },
    {
     "data": {
      "text/html": [
       "<div>\n",
       "<style scoped>\n",
       "    .dataframe tbody tr th:only-of-type {\n",
       "        vertical-align: middle;\n",
       "    }\n",
       "\n",
       "    .dataframe tbody tr th {\n",
       "        vertical-align: top;\n",
       "    }\n",
       "\n",
       "    .dataframe thead th {\n",
       "        text-align: right;\n",
       "    }\n",
       "</style>\n",
       "<table border=\"1\" class=\"dataframe\">\n",
       "  <thead>\n",
       "    <tr style=\"text-align: right;\">\n",
       "      <th></th>\n",
       "      <th>Open</th>\n",
       "      <th>High</th>\n",
       "      <th>Low</th>\n",
       "      <th>Close</th>\n",
       "      <th>Adj Close</th>\n",
       "      <th>Volume</th>\n",
       "    </tr>\n",
       "    <tr>\n",
       "      <th>Date</th>\n",
       "      <th></th>\n",
       "      <th></th>\n",
       "      <th></th>\n",
       "      <th></th>\n",
       "      <th></th>\n",
       "      <th></th>\n",
       "    </tr>\n",
       "  </thead>\n",
       "  <tbody>\n",
       "    <tr>\n",
       "      <th>2020-01-02</th>\n",
       "      <td>74.059998</td>\n",
       "      <td>75.150002</td>\n",
       "      <td>73.797501</td>\n",
       "      <td>75.087502</td>\n",
       "      <td>72.716072</td>\n",
       "      <td>135480400</td>\n",
       "    </tr>\n",
       "    <tr>\n",
       "      <th>2020-01-03</th>\n",
       "      <td>74.287498</td>\n",
       "      <td>75.144997</td>\n",
       "      <td>74.125000</td>\n",
       "      <td>74.357498</td>\n",
       "      <td>72.009109</td>\n",
       "      <td>146322800</td>\n",
       "    </tr>\n",
       "    <tr>\n",
       "      <th>2020-01-06</th>\n",
       "      <td>73.447502</td>\n",
       "      <td>74.989998</td>\n",
       "      <td>73.187500</td>\n",
       "      <td>74.949997</td>\n",
       "      <td>72.582893</td>\n",
       "      <td>118387200</td>\n",
       "    </tr>\n",
       "    <tr>\n",
       "      <th>2020-01-07</th>\n",
       "      <td>74.959999</td>\n",
       "      <td>75.224998</td>\n",
       "      <td>74.370003</td>\n",
       "      <td>74.597504</td>\n",
       "      <td>72.241539</td>\n",
       "      <td>108872000</td>\n",
       "    </tr>\n",
       "    <tr>\n",
       "      <th>2020-01-08</th>\n",
       "      <td>74.290001</td>\n",
       "      <td>76.110001</td>\n",
       "      <td>74.290001</td>\n",
       "      <td>75.797501</td>\n",
       "      <td>73.403648</td>\n",
       "      <td>132079200</td>\n",
       "    </tr>\n",
       "    <tr>\n",
       "      <th>2020-01-09</th>\n",
       "      <td>76.809998</td>\n",
       "      <td>77.607498</td>\n",
       "      <td>76.550003</td>\n",
       "      <td>77.407501</td>\n",
       "      <td>74.962784</td>\n",
       "      <td>170108400</td>\n",
       "    </tr>\n",
       "    <tr>\n",
       "      <th>2020-01-10</th>\n",
       "      <td>77.650002</td>\n",
       "      <td>78.167503</td>\n",
       "      <td>77.062500</td>\n",
       "      <td>77.582497</td>\n",
       "      <td>75.132256</td>\n",
       "      <td>140644800</td>\n",
       "    </tr>\n",
       "    <tr>\n",
       "      <th>2020-01-13</th>\n",
       "      <td>77.910004</td>\n",
       "      <td>79.267502</td>\n",
       "      <td>77.787498</td>\n",
       "      <td>79.239998</td>\n",
       "      <td>76.737419</td>\n",
       "      <td>121532000</td>\n",
       "    </tr>\n",
       "  </tbody>\n",
       "</table>\n",
       "</div>"
      ],
      "text/plain": [
       "                 Open       High        Low      Close  Adj Close     Volume\n",
       "Date                                                                        \n",
       "2020-01-02  74.059998  75.150002  73.797501  75.087502  72.716072  135480400\n",
       "2020-01-03  74.287498  75.144997  74.125000  74.357498  72.009109  146322800\n",
       "2020-01-06  73.447502  74.989998  73.187500  74.949997  72.582893  118387200\n",
       "2020-01-07  74.959999  75.224998  74.370003  74.597504  72.241539  108872000\n",
       "2020-01-08  74.290001  76.110001  74.290001  75.797501  73.403648  132079200\n",
       "2020-01-09  76.809998  77.607498  76.550003  77.407501  74.962784  170108400\n",
       "2020-01-10  77.650002  78.167503  77.062500  77.582497  75.132256  140644800\n",
       "2020-01-13  77.910004  79.267502  77.787498  79.239998  76.737419  121532000"
      ]
     },
     "execution_count": 129,
     "metadata": {},
     "output_type": "execute_result"
    }
   ],
   "source": [
    "import mplfinance as mpf\n",
    "\n",
    "# Download historical data for Apple (AAPL)\n",
    "apple_data = yf.download(\"AAPL\", start=\"2020-01-01\", end=\"2020-01-14\")\n",
    "apple_data.head(15)"
   ]
  },
  {
   "cell_type": "code",
   "execution_count": 130,
   "id": "lpB2fBN96Ycn",
   "metadata": {
    "colab": {
     "base_uri": "https://localhost:8080/"
    },
    "id": "lpB2fBN96Ycn",
    "outputId": "0541c6c2-bc10-44ae-ada2-e66013f73540"
   },
   "outputs": [
    {
     "name": "stdout",
     "output_type": "stream",
     "text": [
      "Open         float64\n",
      "High         float64\n",
      "Low          float64\n",
      "Close        float64\n",
      "Adj Close    float64\n",
      "Volume         int64\n",
      "dtype: object\n"
     ]
    }
   ],
   "source": [
    "# Ensure all values are numeric\n",
    "apple_data = apple_data.apply(pd.to_numeric, errors='coerce')\n",
    "# Drop rows with NaN values\n",
    "apple_data.dropna(inplace=True)\n",
    "# mplfinance requires the DataFrame's index to be in DateTime format.\n",
    "apple_data.index = pd.to_datetime(apple_data.index)\n",
    "print(apple_data.dtypes)"
   ]
  },
  {
   "cell_type": "code",
   "execution_count": 131,
   "id": "ItdJk0nr6DMW",
   "metadata": {
    "colab": {
     "base_uri": "https://localhost:8080/",
     "height": 356
    },
    "id": "ItdJk0nr6DMW",
    "outputId": "dde1d04f-d798-4434-d283-9de9af07e416"
   },
   "outputs": [
    {
     "data": {
      "image/png": "[encoded data removed]",
      "text/plain": [
       "<Figure size 1200x800 with 4 Axes>"
      ]
     },
     "metadata": {},
     "output_type": "display_data"
    }
   ],
   "source": [
    "# Plot the OHLC chart\n",
    "mpf.plot(\n",
    "    apple_data,\n",
    "    type='candle',  # 'candle' for candlestick chart\n",
    "    style='yahoo',  # Yahoo Finance style\n",
    "    title='Apple (AAPL) OHLC Chart',\n",
    "    ylabel='Price (USD)',\n",
    "    volume=True,    # Include volume in the plot\n",
    "    figsize=(12, 8) # Set the size of the plot\n",
    ")"
   ]
  },
  {
   "cell_type": "markdown",
   "id": "8f6ba380",
   "metadata": {
    "id": "8f6ba380"
   },
   "source": [
    "**Multiple Tickers**\n",
    "\n",
    "To fetch data for multiple stocks:"
   ]
  },
  {
   "cell_type": "code",
   "execution_count": null,
   "id": "0f5c7574",
   "metadata": {
    "id": "0f5c7574",
    "outputId": "7a2655df-78aa-48fe-be0e-159621222127"
   },
   "outputs": [
    {
     "name": "stderr",
     "output_type": "stream",
     "text": [
      "[*********************100%%**********************]  3 of 3 completed\n"
     ]
    },
    {
     "data": {
      "text/html": [
       "<div>\n",
       "<style scoped>\n",
       "    .dataframe tbody tr th:only-of-type {\n",
       "        vertical-align: middle;\n",
       "    }\n",
       "\n",
       "    .dataframe tbody tr th {\n",
       "        vertical-align: top;\n",
       "    }\n",
       "\n",
       "    .dataframe thead tr th {\n",
       "        text-align: left;\n",
       "    }\n",
       "\n",
       "    .dataframe thead tr:last-of-type th {\n",
       "        text-align: right;\n",
       "    }\n",
       "</style>\n",
       "<table border=\"1\" class=\"dataframe\">\n",
       "  <thead>\n",
       "    <tr>\n",
       "      <th>Price</th>\n",
       "      <th colspan=\"3\" halign=\"left\">Adj Close</th>\n",
       "      <th colspan=\"3\" halign=\"left\">Close</th>\n",
       "      <th colspan=\"3\" halign=\"left\">High</th>\n",
       "      <th colspan=\"3\" halign=\"left\">Low</th>\n",
       "      <th colspan=\"3\" halign=\"left\">Open</th>\n",
       "      <th colspan=\"3\" halign=\"left\">Volume</th>\n",
       "    </tr>\n",
       "    <tr>\n",
       "      <th>Ticker</th>\n",
       "      <th>AAPL</th>\n",
       "      <th>GOOGL</th>\n",
       "      <th>MSFT</th>\n",
       "      <th>AAPL</th>\n",
       "      <th>GOOGL</th>\n",
       "      <th>MSFT</th>\n",
       "      <th>AAPL</th>\n",
       "      <th>GOOGL</th>\n",
       "      <th>MSFT</th>\n",
       "      <th>AAPL</th>\n",
       "      <th>GOOGL</th>\n",
       "      <th>MSFT</th>\n",
       "      <th>AAPL</th>\n",
       "      <th>GOOGL</th>\n",
       "      <th>MSFT</th>\n",
       "      <th>AAPL</th>\n",
       "      <th>GOOGL</th>\n",
       "      <th>MSFT</th>\n",
       "    </tr>\n",
       "    <tr>\n",
       "      <th>Date</th>\n",
       "      <th></th>\n",
       "      <th></th>\n",
       "      <th></th>\n",
       "      <th></th>\n",
       "      <th></th>\n",
       "      <th></th>\n",
       "      <th></th>\n",
       "      <th></th>\n",
       "      <th></th>\n",
       "      <th></th>\n",
       "      <th></th>\n",
       "      <th></th>\n",
       "      <th></th>\n",
       "      <th></th>\n",
       "      <th></th>\n",
       "      <th></th>\n",
       "      <th></th>\n",
       "      <th></th>\n",
       "    </tr>\n",
       "  </thead>\n",
       "  <tbody>\n",
       "    <tr>\n",
       "      <th>2020-01-02</th>\n",
       "      <td>72.716080</td>\n",
       "      <td>68.186821</td>\n",
       "      <td>153.630707</td>\n",
       "      <td>75.087502</td>\n",
       "      <td>68.433998</td>\n",
       "      <td>160.619995</td>\n",
       "      <td>75.150002</td>\n",
       "      <td>68.433998</td>\n",
       "      <td>160.729996</td>\n",
       "      <td>73.797501</td>\n",
       "      <td>67.324501</td>\n",
       "      <td>158.330002</td>\n",
       "      <td>74.059998</td>\n",
       "      <td>67.420502</td>\n",
       "      <td>158.779999</td>\n",
       "      <td>135480400</td>\n",
       "      <td>27278000</td>\n",
       "      <td>22622100</td>\n",
       "    </tr>\n",
       "    <tr>\n",
       "      <th>2020-01-03</th>\n",
       "      <td>72.009125</td>\n",
       "      <td>67.830109</td>\n",
       "      <td>151.717743</td>\n",
       "      <td>74.357498</td>\n",
       "      <td>68.075996</td>\n",
       "      <td>158.619995</td>\n",
       "      <td>75.144997</td>\n",
       "      <td>68.687500</td>\n",
       "      <td>159.949997</td>\n",
       "      <td>74.125000</td>\n",
       "      <td>67.365997</td>\n",
       "      <td>158.059998</td>\n",
       "      <td>74.287498</td>\n",
       "      <td>67.400002</td>\n",
       "      <td>158.320007</td>\n",
       "      <td>146322800</td>\n",
       "      <td>23408000</td>\n",
       "      <td>21116200</td>\n",
       "    </tr>\n",
       "    <tr>\n",
       "      <th>2020-01-06</th>\n",
       "      <td>72.582893</td>\n",
       "      <td>69.638054</td>\n",
       "      <td>152.109879</td>\n",
       "      <td>74.949997</td>\n",
       "      <td>69.890503</td>\n",
       "      <td>159.029999</td>\n",
       "      <td>74.989998</td>\n",
       "      <td>69.916000</td>\n",
       "      <td>159.100006</td>\n",
       "      <td>73.187500</td>\n",
       "      <td>67.550003</td>\n",
       "      <td>156.509995</td>\n",
       "      <td>73.447502</td>\n",
       "      <td>67.581497</td>\n",
       "      <td>157.080002</td>\n",
       "      <td>118387200</td>\n",
       "      <td>46768000</td>\n",
       "      <td>20813700</td>\n",
       "    </tr>\n",
       "    <tr>\n",
       "      <th>2020-01-07</th>\n",
       "      <td>72.241539</td>\n",
       "      <td>69.503548</td>\n",
       "      <td>150.722946</td>\n",
       "      <td>74.597504</td>\n",
       "      <td>69.755501</td>\n",
       "      <td>157.580002</td>\n",
       "      <td>75.224998</td>\n",
       "      <td>70.175003</td>\n",
       "      <td>159.669998</td>\n",
       "      <td>74.370003</td>\n",
       "      <td>69.578003</td>\n",
       "      <td>157.320007</td>\n",
       "      <td>74.959999</td>\n",
       "      <td>70.023003</td>\n",
       "      <td>159.320007</td>\n",
       "      <td>108872000</td>\n",
       "      <td>34330000</td>\n",
       "      <td>21634100</td>\n",
       "    </tr>\n",
       "    <tr>\n",
       "      <th>2020-01-08</th>\n",
       "      <td>73.403656</td>\n",
       "      <td>69.998245</td>\n",
       "      <td>153.123779</td>\n",
       "      <td>75.797501</td>\n",
       "      <td>70.251999</td>\n",
       "      <td>160.089996</td>\n",
       "      <td>76.110001</td>\n",
       "      <td>70.592499</td>\n",
       "      <td>160.800003</td>\n",
       "      <td>74.290001</td>\n",
       "      <td>69.631500</td>\n",
       "      <td>157.949997</td>\n",
       "      <td>74.290001</td>\n",
       "      <td>69.740997</td>\n",
       "      <td>158.929993</td>\n",
       "      <td>132079200</td>\n",
       "      <td>35314000</td>\n",
       "      <td>27746500</td>\n",
       "    </tr>\n",
       "  </tbody>\n",
       "</table>\n",
       "</div>"
      ],
      "text/plain": [
       "Price       Adj Close                             Close             \\\n",
       "Ticker           AAPL      GOOGL        MSFT       AAPL      GOOGL   \n",
       "Date                                                                 \n",
       "2020-01-02  72.716080  68.186821  153.630707  75.087502  68.433998   \n",
       "2020-01-03  72.009125  67.830109  151.717743  74.357498  68.075996   \n",
       "2020-01-06  72.582893  69.638054  152.109879  74.949997  69.890503   \n",
       "2020-01-07  72.241539  69.503548  150.722946  74.597504  69.755501   \n",
       "2020-01-08  73.403656  69.998245  153.123779  75.797501  70.251999   \n",
       "\n",
       "Price                        High                               Low  \\\n",
       "Ticker            MSFT       AAPL      GOOGL        MSFT       AAPL   \n",
       "Date                                                                  \n",
       "2020-01-02  160.619995  75.150002  68.433998  160.729996  73.797501   \n",
       "2020-01-03  158.619995  75.144997  68.687500  159.949997  74.125000   \n",
       "2020-01-06  159.029999  74.989998  69.916000  159.100006  73.187500   \n",
       "2020-01-07  157.580002  75.224998  70.175003  159.669998  74.370003   \n",
       "2020-01-08  160.089996  76.110001  70.592499  160.800003  74.290001   \n",
       "\n",
       "Price                                   Open                         \\\n",
       "Ticker          GOOGL        MSFT       AAPL      GOOGL        MSFT   \n",
       "Date                                                                  \n",
       "2020-01-02  67.324501  158.330002  74.059998  67.420502  158.779999   \n",
       "2020-01-03  67.365997  158.059998  74.287498  67.400002  158.320007   \n",
       "2020-01-06  67.550003  156.509995  73.447502  67.581497  157.080002   \n",
       "2020-01-07  69.578003  157.320007  74.959999  70.023003  159.320007   \n",
       "2020-01-08  69.631500  157.949997  74.290001  69.740997  158.929993   \n",
       "\n",
       "Price          Volume                      \n",
       "Ticker           AAPL     GOOGL      MSFT  \n",
       "Date                                       \n",
       "2020-01-02  135480400  27278000  22622100  \n",
       "2020-01-03  146322800  23408000  21116200  \n",
       "2020-01-06  118387200  46768000  20813700  \n",
       "2020-01-07  108872000  34330000  21634100  \n",
       "2020-01-08  132079200  35314000  27746500  "
      ]
     },
     "execution_count": 29,
     "metadata": {},
     "output_type": "execute_result"
    }
   ],
   "source": [
    "tickers = [\"AAPL\", \"MSFT\", \"GOOGL\"]\n",
    "data = yf.download(tickers, start=\"2020-01-01\", end=\"2023-12-31\")\n",
    "data.head()"
   ]
  },
  {
   "cell_type": "markdown",
   "id": "c4f520d3",
   "metadata": {
    "id": "c4f520d3"
   },
   "source": [
    "This returns a multi-index DataFrame where the first level of the index contains the tickers.\n",
    "\n",
    "**Closing Prices**\n",
    "\n",
    "To extract the closing prices for all tickers:"
   ]
  },
  {
   "cell_type": "code",
   "execution_count": null,
   "id": "3ecf0157",
   "metadata": {
    "id": "3ecf0157",
    "outputId": "a14ec41e-910a-4cd3-fd36-0167724cb991"
   },
   "outputs": [
    {
     "name": "stdout",
     "output_type": "stream",
     "text": [
      "Ticker           AAPL      GOOGL        MSFT\n",
      "Date                                        \n",
      "2020-01-02  75.087502  68.433998  160.619995\n",
      "2020-01-03  74.357498  68.075996  158.619995\n",
      "2020-01-06  74.949997  69.890503  159.029999\n",
      "2020-01-07  74.597504  69.755501  157.580002\n",
      "2020-01-08  75.797501  70.251999  160.089996\n"
     ]
    }
   ],
   "source": [
    "close_prices = data[\"Close\"]\n",
    "print(close_prices.head())"
   ]
  },
  {
   "cell_type": "markdown",
   "id": "3ae10a56",
   "metadata": {
    "id": "3ae10a56"
   },
   "source": [
    "**Calculating Daily Returns**"
   ]
  },
  {
   "cell_type": "code",
   "execution_count": null,
   "id": "20a9bc03",
   "metadata": {
    "id": "20a9bc03",
    "outputId": "1fbdf731-4150-4111-b730-9519f8859346"
   },
   "outputs": [
    {
     "name": "stdout",
     "output_type": "stream",
     "text": [
      "Date\n",
      "2024-11-01         NaN\n",
      "2024-11-04   -0.004038\n",
      "2024-11-05    0.006486\n",
      "2024-11-06   -0.003267\n",
      "2024-11-07    0.021372\n",
      "Name: Adj Close, dtype: float64\n"
     ]
    }
   ],
   "source": [
    "daily_returns = apple_data[\"Adj Close\"].pct_change()\n",
    "print(daily_returns.head())"
   ]
  },
  {
   "cell_type": "markdown",
   "id": "3456d967",
   "metadata": {
    "id": "3456d967"
   },
   "source": [
    "**Resampling Data**\n",
    "\n",
    "Resample the data to a monthly and weekly frequency:"
   ]
  },
  {
   "cell_type": "code",
   "execution_count": null,
   "id": "32a5a750",
   "metadata": {
    "id": "32a5a750",
    "outputId": "37a7a01c-b226-4f26-af00-fa32b6b1e788"
   },
   "outputs": [
    {
     "name": "stdout",
     "output_type": "stream",
     "text": [
      "                  Open        High         Low       Close   Adj Close  \\\n",
      "Date                                                                     \n",
      "2024-11-30  226.722501  229.073000  225.626002  227.810499  227.498904   \n",
      "2024-12-31  248.331430  250.811429  246.873808  249.322856  249.049032   \n",
      "2025-01-31  235.147332  236.752000  231.821334  234.044667  233.787622   \n",
      "\n",
      "                  Volume  \n",
      "Date                      \n",
      "2024-11-30  4.458203e+07  \n",
      "2024-12-31  4.656743e+07  \n",
      "2025-01-31  5.516675e+07  \n"
     ]
    }
   ],
   "source": [
    "monthly_data = apple_data.resample(\"M\").mean()\n",
    "print(monthly_data.head())"
   ]
  },
  {
   "cell_type": "code",
   "execution_count": null,
   "id": "66ff6e8d",
   "metadata": {
    "id": "66ff6e8d",
    "outputId": "aafd1424-1214-4634-fe65-706b54b72582"
   },
   "outputs": [
    {
     "name": "stdout",
     "output_type": "stream",
     "text": [
      "                  Open        High         Low       Close   Adj Close  \\\n",
      "Date                                                                     \n",
      "2024-11-03  220.970001  225.350006  220.270004  222.910004  222.420471   \n",
      "2024-11-10  223.440002  225.870001  222.604004  224.523999  224.080762   \n",
      "2024-11-17  224.995999  226.745996  223.378000  225.359998  225.112494   \n",
      "2024-11-24  227.445999  230.142001  226.298001  228.738000  228.486783   \n",
      "2024-12-01  233.517502  235.580002  232.712502  235.047497  234.789352   \n",
      "\n",
      "                Volume  \n",
      "Date                    \n",
      "2024-11-03  65276700.0  \n",
      "2024-11-10  41616680.0  \n",
      "2024-11-17  44763540.0  \n",
      "2024-11-24  39268800.0  \n",
      "2024-12-01  49529700.0  \n"
     ]
    }
   ],
   "source": [
    "monthly_data = apple_data.resample(\"W\").mean()\n",
    "print(monthly_data.head())"
   ]
  },
  {
   "cell_type": "markdown",
   "id": "3d4db0b0",
   "metadata": {
    "id": "3d4db0b0"
   },
   "source": [
    "**Merging DataFrames**\n",
    "\n",
    "If you have additional data sources to combine:"
   ]
  },
  {
   "cell_type": "code",
   "execution_count": null,
   "id": "b6c2af6a",
   "metadata": {
    "id": "b6c2af6a",
    "outputId": "645328d3-b120-4434-c942-f12769d956a7"
   },
   "outputs": [
    {
     "data": {
      "text/html": [
       "<div>\n",
       "<style scoped>\n",
       "    .dataframe tbody tr th:only-of-type {\n",
       "        vertical-align: middle;\n",
       "    }\n",
       "\n",
       "    .dataframe tbody tr th {\n",
       "        vertical-align: top;\n",
       "    }\n",
       "\n",
       "    .dataframe thead th {\n",
       "        text-align: right;\n",
       "    }\n",
       "</style>\n",
       "<table border=\"1\" class=\"dataframe\">\n",
       "  <thead>\n",
       "    <tr style=\"text-align: right;\">\n",
       "      <th></th>\n",
       "      <th>Date</th>\n",
       "      <th>Extra</th>\n",
       "    </tr>\n",
       "  </thead>\n",
       "  <tbody>\n",
       "    <tr>\n",
       "      <th>0</th>\n",
       "      <td>2022-01-03</td>\n",
       "      <td>1</td>\n",
       "    </tr>\n",
       "    <tr>\n",
       "      <th>1</th>\n",
       "      <td>2022-01-04</td>\n",
       "      <td>2</td>\n",
       "    </tr>\n",
       "  </tbody>\n",
       "</table>\n",
       "</div>"
      ],
      "text/plain": [
       "        Date  Extra\n",
       "0 2022-01-03      1\n",
       "1 2022-01-04      2"
      ]
     },
     "execution_count": 24,
     "metadata": {},
     "output_type": "execute_result"
    }
   ],
   "source": [
    "other_data = pd.DataFrame({\"Date\": [\"2022-01-03\", \"2022-01-04\"], \"Extra\": [1, 2]})\n",
    "other_data[\"Date\"] = pd.to_datetime(other_data[\"Date\"])\n",
    "other_data.head()"
   ]
  },
  {
   "cell_type": "code",
   "execution_count": null,
   "id": "be816c48",
   "metadata": {
    "id": "be816c48",
    "outputId": "d240e3bc-a79b-4946-c90c-fa080f02f1cd"
   },
   "outputs": [
    {
     "data": {
      "text/html": [
       "<div>\n",
       "<style scoped>\n",
       "    .dataframe tbody tr th:only-of-type {\n",
       "        vertical-align: middle;\n",
       "    }\n",
       "\n",
       "    .dataframe tbody tr th {\n",
       "        vertical-align: top;\n",
       "    }\n",
       "\n",
       "    .dataframe thead th {\n",
       "        text-align: right;\n",
       "    }\n",
       "</style>\n",
       "<table border=\"1\" class=\"dataframe\">\n",
       "  <thead>\n",
       "    <tr style=\"text-align: right;\">\n",
       "      <th></th>\n",
       "      <th>Date</th>\n",
       "      <th>Open</th>\n",
       "      <th>High</th>\n",
       "      <th>Low</th>\n",
       "      <th>Close</th>\n",
       "      <th>Adj Close</th>\n",
       "      <th>Volume</th>\n",
       "      <th>Extra</th>\n",
       "    </tr>\n",
       "  </thead>\n",
       "  <tbody>\n",
       "    <tr>\n",
       "      <th>0</th>\n",
       "      <td>2024-11-01</td>\n",
       "      <td>220.970001</td>\n",
       "      <td>225.350006</td>\n",
       "      <td>220.270004</td>\n",
       "      <td>222.910004</td>\n",
       "      <td>222.420471</td>\n",
       "      <td>65276700</td>\n",
       "      <td>NaN</td>\n",
       "    </tr>\n",
       "    <tr>\n",
       "      <th>1</th>\n",
       "      <td>2024-11-04</td>\n",
       "      <td>220.990005</td>\n",
       "      <td>222.789993</td>\n",
       "      <td>219.710007</td>\n",
       "      <td>222.009995</td>\n",
       "      <td>221.522446</td>\n",
       "      <td>44944500</td>\n",
       "      <td>NaN</td>\n",
       "    </tr>\n",
       "    <tr>\n",
       "      <th>2</th>\n",
       "      <td>2024-11-05</td>\n",
       "      <td>221.800003</td>\n",
       "      <td>223.949997</td>\n",
       "      <td>221.139999</td>\n",
       "      <td>223.449997</td>\n",
       "      <td>222.959290</td>\n",
       "      <td>28111300</td>\n",
       "      <td>NaN</td>\n",
       "    </tr>\n",
       "    <tr>\n",
       "      <th>3</th>\n",
       "      <td>2024-11-06</td>\n",
       "      <td>222.610001</td>\n",
       "      <td>226.070007</td>\n",
       "      <td>221.190002</td>\n",
       "      <td>222.720001</td>\n",
       "      <td>222.230896</td>\n",
       "      <td>54561100</td>\n",
       "      <td>NaN</td>\n",
       "    </tr>\n",
       "    <tr>\n",
       "      <th>4</th>\n",
       "      <td>2024-11-07</td>\n",
       "      <td>224.630005</td>\n",
       "      <td>227.880005</td>\n",
       "      <td>224.570007</td>\n",
       "      <td>227.479996</td>\n",
       "      <td>226.980438</td>\n",
       "      <td>42137700</td>\n",
       "      <td>NaN</td>\n",
       "    </tr>\n",
       "  </tbody>\n",
       "</table>\n",
       "</div>"
      ],
      "text/plain": [
       "        Date        Open        High         Low       Close   Adj Close  \\\n",
       "0 2024-11-01  220.970001  225.350006  220.270004  222.910004  222.420471   \n",
       "1 2024-11-04  220.990005  222.789993  219.710007  222.009995  221.522446   \n",
       "2 2024-11-05  221.800003  223.949997  221.139999  223.449997  222.959290   \n",
       "3 2024-11-06  222.610001  226.070007  221.190002  222.720001  222.230896   \n",
       "4 2024-11-07  224.630005  227.880005  224.570007  227.479996  226.980438   \n",
       "\n",
       "     Volume  Extra  \n",
       "0  65276700    NaN  \n",
       "1  44944500    NaN  \n",
       "2  28111300    NaN  \n",
       "3  54561100    NaN  \n",
       "4  42137700    NaN  "
      ]
     },
     "execution_count": 25,
     "metadata": {},
     "output_type": "execute_result"
    }
   ],
   "source": [
    "merged_data = pd.merge(apple_data.reset_index(), other_data, how=\"left\", on=\"Date\")\n",
    "merged_data.head()"
   ]
  },
  {
   "cell_type": "code",
   "execution_count": null,
   "id": "bb8d5df3",
   "metadata": {
    "id": "bb8d5df3",
    "outputId": "45ea9cbd-c889-4685-e1c9-d74eb3f23343"
   },
   "outputs": [
    {
     "data": {
      "text/html": [
       "<div>\n",
       "<style scoped>\n",
       "    .dataframe tbody tr th:only-of-type {\n",
       "        vertical-align: middle;\n",
       "    }\n",
       "\n",
       "    .dataframe tbody tr th {\n",
       "        vertical-align: top;\n",
       "    }\n",
       "\n",
       "    .dataframe thead th {\n",
       "        text-align: right;\n",
       "    }\n",
       "</style>\n",
       "<table border=\"1\" class=\"dataframe\">\n",
       "  <thead>\n",
       "    <tr style=\"text-align: right;\">\n",
       "      <th></th>\n",
       "      <th>Date</th>\n",
       "      <th>Open</th>\n",
       "      <th>High</th>\n",
       "      <th>Low</th>\n",
       "      <th>Close</th>\n",
       "      <th>Adj Close_x</th>\n",
       "      <th>Volume</th>\n",
       "      <th>Adj Close_y</th>\n",
       "    </tr>\n",
       "  </thead>\n",
       "  <tbody>\n",
       "    <tr>\n",
       "      <th>0</th>\n",
       "      <td>2024-11-01</td>\n",
       "      <td>220.970001</td>\n",
       "      <td>225.350006</td>\n",
       "      <td>220.270004</td>\n",
       "      <td>222.910004</td>\n",
       "      <td>222.420471</td>\n",
       "      <td>65276700</td>\n",
       "      <td>NaN</td>\n",
       "    </tr>\n",
       "    <tr>\n",
       "      <th>1</th>\n",
       "      <td>2024-11-04</td>\n",
       "      <td>220.990005</td>\n",
       "      <td>222.789993</td>\n",
       "      <td>219.710007</td>\n",
       "      <td>222.009995</td>\n",
       "      <td>221.522446</td>\n",
       "      <td>44944500</td>\n",
       "      <td>-0.004038</td>\n",
       "    </tr>\n",
       "    <tr>\n",
       "      <th>2</th>\n",
       "      <td>2024-11-05</td>\n",
       "      <td>221.800003</td>\n",
       "      <td>223.949997</td>\n",
       "      <td>221.139999</td>\n",
       "      <td>223.449997</td>\n",
       "      <td>222.959290</td>\n",
       "      <td>28111300</td>\n",
       "      <td>0.006486</td>\n",
       "    </tr>\n",
       "    <tr>\n",
       "      <th>3</th>\n",
       "      <td>2024-11-06</td>\n",
       "      <td>222.610001</td>\n",
       "      <td>226.070007</td>\n",
       "      <td>221.190002</td>\n",
       "      <td>222.720001</td>\n",
       "      <td>222.230896</td>\n",
       "      <td>54561100</td>\n",
       "      <td>-0.003267</td>\n",
       "    </tr>\n",
       "    <tr>\n",
       "      <th>4</th>\n",
       "      <td>2024-11-07</td>\n",
       "      <td>224.630005</td>\n",
       "      <td>227.880005</td>\n",
       "      <td>224.570007</td>\n",
       "      <td>227.479996</td>\n",
       "      <td>226.980438</td>\n",
       "      <td>42137700</td>\n",
       "      <td>0.021372</td>\n",
       "    </tr>\n",
       "  </tbody>\n",
       "</table>\n",
       "</div>"
      ],
      "text/plain": [
       "        Date        Open        High         Low       Close  Adj Close_x  \\\n",
       "0 2024-11-01  220.970001  225.350006  220.270004  222.910004   222.420471   \n",
       "1 2024-11-04  220.990005  222.789993  219.710007  222.009995   221.522446   \n",
       "2 2024-11-05  221.800003  223.949997  221.139999  223.449997   222.959290   \n",
       "3 2024-11-06  222.610001  226.070007  221.190002  222.720001   222.230896   \n",
       "4 2024-11-07  224.630005  227.880005  224.570007  227.479996   226.980438   \n",
       "\n",
       "     Volume  Adj Close_y  \n",
       "0  65276700          NaN  \n",
       "1  44944500    -0.004038  \n",
       "2  28111300     0.006486  \n",
       "3  54561100    -0.003267  \n",
       "4  42137700     0.021372  "
      ]
     },
     "execution_count": 26,
     "metadata": {},
     "output_type": "execute_result"
    }
   ],
   "source": [
    "merged_data_2 = pd.merge(apple_data.reset_index(), daily_returns, how=\"left\", on=\"Date\")\n",
    "merged_data_2.head()"
   ]
  },
  {
   "cell_type": "code",
   "execution_count": null,
   "id": "53c2facb",
   "metadata": {
    "id": "53c2facb",
    "outputId": "dcbbfc5d-4077-4c66-8a00-c18fc1cd85c9"
   },
   "outputs": [
    {
     "data": {
      "text/html": [
       "<div>\n",
       "<style scoped>\n",
       "    .dataframe tbody tr th:only-of-type {\n",
       "        vertical-align: middle;\n",
       "    }\n",
       "\n",
       "    .dataframe tbody tr th {\n",
       "        vertical-align: top;\n",
       "    }\n",
       "\n",
       "    .dataframe thead th {\n",
       "        text-align: right;\n",
       "    }\n",
       "</style>\n",
       "<table border=\"1\" class=\"dataframe\">\n",
       "  <thead>\n",
       "    <tr style=\"text-align: right;\">\n",
       "      <th></th>\n",
       "      <th>Date</th>\n",
       "      <th>Open</th>\n",
       "      <th>High</th>\n",
       "      <th>Low</th>\n",
       "      <th>Close</th>\n",
       "      <th>Adj Close</th>\n",
       "      <th>Volume</th>\n",
       "      <th>Daily Returns</th>\n",
       "    </tr>\n",
       "  </thead>\n",
       "  <tbody>\n",
       "    <tr>\n",
       "      <th>0</th>\n",
       "      <td>2024-11-01</td>\n",
       "      <td>220.970001</td>\n",
       "      <td>225.350006</td>\n",
       "      <td>220.270004</td>\n",
       "      <td>222.910004</td>\n",
       "      <td>222.665024</td>\n",
       "      <td>65276700</td>\n",
       "      <td>NaN</td>\n",
       "    </tr>\n",
       "    <tr>\n",
       "      <th>1</th>\n",
       "      <td>2024-11-04</td>\n",
       "      <td>220.990005</td>\n",
       "      <td>222.789993</td>\n",
       "      <td>219.710007</td>\n",
       "      <td>222.009995</td>\n",
       "      <td>221.766006</td>\n",
       "      <td>44944500</td>\n",
       "      <td>-0.004038</td>\n",
       "    </tr>\n",
       "    <tr>\n",
       "      <th>2</th>\n",
       "      <td>2024-11-05</td>\n",
       "      <td>221.800003</td>\n",
       "      <td>223.949997</td>\n",
       "      <td>221.139999</td>\n",
       "      <td>223.449997</td>\n",
       "      <td>223.204422</td>\n",
       "      <td>28111300</td>\n",
       "      <td>0.006486</td>\n",
       "    </tr>\n",
       "    <tr>\n",
       "      <th>3</th>\n",
       "      <td>2024-11-06</td>\n",
       "      <td>222.610001</td>\n",
       "      <td>226.070007</td>\n",
       "      <td>221.190002</td>\n",
       "      <td>222.720001</td>\n",
       "      <td>222.475235</td>\n",
       "      <td>54561100</td>\n",
       "      <td>-0.003267</td>\n",
       "    </tr>\n",
       "    <tr>\n",
       "      <th>4</th>\n",
       "      <td>2024-11-07</td>\n",
       "      <td>224.630005</td>\n",
       "      <td>227.880005</td>\n",
       "      <td>224.570007</td>\n",
       "      <td>227.479996</td>\n",
       "      <td>227.229996</td>\n",
       "      <td>42137700</td>\n",
       "      <td>0.021372</td>\n",
       "    </tr>\n",
       "  </tbody>\n",
       "</table>\n",
       "</div>"
      ],
      "text/plain": [
       "        Date        Open        High         Low       Close   Adj Close  \\\n",
       "0 2024-11-01  220.970001  225.350006  220.270004  222.910004  222.665024   \n",
       "1 2024-11-04  220.990005  222.789993  219.710007  222.009995  221.766006   \n",
       "2 2024-11-05  221.800003  223.949997  221.139999  223.449997  223.204422   \n",
       "3 2024-11-06  222.610001  226.070007  221.190002  222.720001  222.475235   \n",
       "4 2024-11-07  224.630005  227.880005  224.570007  227.479996  227.229996   \n",
       "\n",
       "     Volume  Daily Returns  \n",
       "0  65276700            NaN  \n",
       "1  44944500      -0.004038  \n",
       "2  28111300       0.006486  \n",
       "3  54561100      -0.003267  \n",
       "4  42137700       0.021372  "
      ]
     },
     "execution_count": 26,
     "metadata": {},
     "output_type": "execute_result"
    }
   ],
   "source": [
    "merged_data_2 = merged_data_2.rename(columns={'Adj Close_x': 'Adj Close', 'Adj Close_y': 'Daily Returns'})\n",
    "merged_data_2.head()"
   ]
  },
  {
   "cell_type": "markdown",
   "id": "90e12aee",
   "metadata": {
    "id": "90e12aee"
   },
   "source": [
    "**Filtering Specific Date Ranges**"
   ]
  },
  {
   "cell_type": "code",
   "execution_count": null,
   "id": "a9060cb7",
   "metadata": {
    "id": "a9060cb7",
    "outputId": "9b2f2195-5933-4fb5-a064-7417fec2d3e5"
   },
   "outputs": [
    {
     "data": {
      "text/html": [
       "<div>\n",
       "<style scoped>\n",
       "    .dataframe tbody tr th:only-of-type {\n",
       "        vertical-align: middle;\n",
       "    }\n",
       "\n",
       "    .dataframe tbody tr th {\n",
       "        vertical-align: top;\n",
       "    }\n",
       "\n",
       "    .dataframe thead th {\n",
       "        text-align: right;\n",
       "    }\n",
       "</style>\n",
       "<table border=\"1\" class=\"dataframe\">\n",
       "  <thead>\n",
       "    <tr style=\"text-align: right;\">\n",
       "      <th></th>\n",
       "      <th>Date</th>\n",
       "      <th>Open</th>\n",
       "      <th>High</th>\n",
       "      <th>Low</th>\n",
       "      <th>Close</th>\n",
       "      <th>Adj Close</th>\n",
       "      <th>Volume</th>\n",
       "      <th>Extra</th>\n",
       "    </tr>\n",
       "  </thead>\n",
       "  <tbody>\n",
       "  </tbody>\n",
       "</table>\n",
       "</div>"
      ],
      "text/plain": [
       "Empty DataFrame\n",
       "Columns: [Date, Open, High, Low, Close, Adj Close, Volume, Extra]\n",
       "Index: []"
      ]
     },
     "execution_count": 27,
     "metadata": {},
     "output_type": "execute_result"
    }
   ],
   "source": [
    "filtered_data = merged_data[(merged_data['Date'] >= \"2022-01-01\") & (merged_data['Date'] <= \"2022-01-07\")]\n",
    "filtered_data.head()"
   ]
  },
  {
   "cell_type": "markdown",
   "id": "7d6ca95e",
   "metadata": {
    "id": "7d6ca95e"
   },
   "source": [
    "**Plotting Closing Prices**"
   ]
  },
  {
   "cell_type": "code",
   "execution_count": null,
   "id": "e0293130",
   "metadata": {
    "id": "e0293130",
    "outputId": "873911cb-b1e0-475c-a7d7-baad388cf1ff"
   },
   "outputs": [
    {
     "data": {
      "image/png": "[encoded data removed]",
      "text/plain": [
       "<Figure size 640x480 with 1 Axes>"
      ]
     },
     "metadata": {},
     "output_type": "display_data"
    }
   ],
   "source": [
    "apple_data[\"Close\"].plot(title=\"Apple Closing Prices\")\n",
    "plt.xlabel(\"Date\")\n",
    "plt.ylabel(\"Price\")\n",
    "plt.show()"
   ]
  },
  {
   "cell_type": "code",
   "execution_count": null,
   "id": "5cfbfc4e",
   "metadata": {
    "id": "5cfbfc4e",
    "outputId": "8d694919-8ae4-48a4-dd87-b7e73aa06404"
   },
   "outputs": [
    {
     "data": {
      "image/png": "[encoded data removed]",
      "text/plain": [
       "<Figure size 640x480 with 1 Axes>"
      ]
     },
     "metadata": {},
     "output_type": "display_data"
    }
   ],
   "source": [
    "close_prices.plot(title=\"Closing Prices of Selected Stocks\")\n",
    "plt.xlabel(\"Date\")\n",
    "plt.ylabel(\"Price\")\n",
    "plt.legend(tickers)\n",
    "plt.show()"
   ]
  },
  {
   "cell_type": "markdown",
   "id": "a1184f73",
   "metadata": {
    "id": "a1184f73"
   },
   "source": [
    "**Working with Company Financials**\n",
    "\n",
    "You can also access company financials such as income statements, balance sheets, and cash flows:"
   ]
  },
  {
   "cell_type": "code",
   "execution_count": null,
   "id": "2c467170",
   "metadata": {
    "id": "2c467170"
   },
   "outputs": [],
   "source": [
    "apple = yf.Ticker(\"AAPL\")\n",
    "\n",
    "# Income Statement\n",
    "#print(apple.financials)"
   ]
  },
  {
   "cell_type": "code",
   "execution_count": null,
   "id": "08ee5ea7",
   "metadata": {
    "id": "08ee5ea7"
   },
   "outputs": [],
   "source": [
    "# Balance Sheet\n",
    "#print(apple.balance_sheet)"
   ]
  },
  {
   "cell_type": "code",
   "execution_count": null,
   "id": "3921ea07",
   "metadata": {
    "id": "3921ea07"
   },
   "outputs": [],
   "source": [
    "# Cash Flow\n",
    "#print(apple.cashflow)"
   ]
  },
  {
   "cell_type": "markdown",
   "id": "d8b605fd",
   "metadata": {
    "id": "d8b605fd"
   },
   "source": [
    "**Index**\n",
    "\n",
    "Here are the Yahoo Finance ticker symbols for the some financial indices:\n",
    "\n",
    "<table border=\"1\" style=\"border-collapse: collapse; width: 100%;\">\n",
    "  <thead>\n",
    "    <tr>\n",
    "      <th style=\"text-align: left;\">Index Name</th>\n",
    "      <th style=\"text-align: left;\">Ticker Symbol</th>\n",
    "    </tr>\n",
    "  </thead>\n",
    "  <tbody>\n",
    "    <tr>\n",
    "      <td style=\"text-align: left;\">NASDAQ 100 - PRICE INDEX</td>\n",
    "      <td style=\"text-align: left;\">^NDX</td>\n",
    "    </tr>\n",
    "    <tr>\n",
    "      <td style=\"text-align: left;\">NASDAQ COMPOSITE - PRICE INDEX</td>\n",
    "      <td style=\"text-align: left;\">^IXIC</td>\n",
    "    </tr>\n",
    "    <tr>\n",
    "      <td style=\"text-align: left;\">S&P 500 COMPOSITE - PRICE INDEX</td>\n",
    "      <td style=\"text-align: left;\">^GSPC</td>\n",
    "    </tr>\n",
    "  </tbody>\n",
    "</table>\n",
    "\n",
    "          \n",
    "Please note that Yahoo Finance uses specific ticker symbols for indices, often prefixed with a caret (^). These symbols are case-sensitive and should be entered exactly as shown."
   ]
  },
  {
   "cell_type": "code",
   "execution_count": null,
   "id": "8f56f75f",
   "metadata": {
    "id": "8f56f75f",
    "outputId": "f20ea480-2099-4249-e6ad-f27ff8b01875"
   },
   "outputs": [
    {
     "name": "stderr",
     "output_type": "stream",
     "text": [
      "[*********************100%%**********************]  3 of 3 completed\n"
     ]
    },
    {
     "data": {
      "text/html": [
       "<div>\n",
       "<style scoped>\n",
       "    .dataframe tbody tr th:only-of-type {\n",
       "        vertical-align: middle;\n",
       "    }\n",
       "\n",
       "    .dataframe tbody tr th {\n",
       "        vertical-align: top;\n",
       "    }\n",
       "\n",
       "    .dataframe thead tr th {\n",
       "        text-align: left;\n",
       "    }\n",
       "\n",
       "    .dataframe thead tr:last-of-type th {\n",
       "        text-align: right;\n",
       "    }\n",
       "</style>\n",
       "<table border=\"1\" class=\"dataframe\">\n",
       "  <thead>\n",
       "    <tr>\n",
       "      <th>Price</th>\n",
       "      <th colspan=\"3\" halign=\"left\">Adj Close</th>\n",
       "      <th colspan=\"3\" halign=\"left\">Close</th>\n",
       "      <th colspan=\"3\" halign=\"left\">High</th>\n",
       "      <th colspan=\"3\" halign=\"left\">Low</th>\n",
       "      <th colspan=\"3\" halign=\"left\">Open</th>\n",
       "      <th colspan=\"3\" halign=\"left\">Volume</th>\n",
       "    </tr>\n",
       "    <tr>\n",
       "      <th>Ticker</th>\n",
       "      <th>^GSPC</th>\n",
       "      <th>^IXIC</th>\n",
       "      <th>^NDX</th>\n",
       "      <th>^GSPC</th>\n",
       "      <th>^IXIC</th>\n",
       "      <th>^NDX</th>\n",
       "      <th>^GSPC</th>\n",
       "      <th>^IXIC</th>\n",
       "      <th>^NDX</th>\n",
       "      <th>^GSPC</th>\n",
       "      <th>^IXIC</th>\n",
       "      <th>^NDX</th>\n",
       "      <th>^GSPC</th>\n",
       "      <th>^IXIC</th>\n",
       "      <th>^NDX</th>\n",
       "      <th>^GSPC</th>\n",
       "      <th>^IXIC</th>\n",
       "      <th>^NDX</th>\n",
       "    </tr>\n",
       "    <tr>\n",
       "      <th>Date</th>\n",
       "      <th></th>\n",
       "      <th></th>\n",
       "      <th></th>\n",
       "      <th></th>\n",
       "      <th></th>\n",
       "      <th></th>\n",
       "      <th></th>\n",
       "      <th></th>\n",
       "      <th></th>\n",
       "      <th></th>\n",
       "      <th></th>\n",
       "      <th></th>\n",
       "      <th></th>\n",
       "      <th></th>\n",
       "      <th></th>\n",
       "      <th></th>\n",
       "      <th></th>\n",
       "      <th></th>\n",
       "    </tr>\n",
       "  </thead>\n",
       "  <tbody>\n",
       "    <tr>\n",
       "      <th>2014-01-02</th>\n",
       "      <td>1831.979980</td>\n",
       "      <td>4143.069824</td>\n",
       "      <td>3563.570068</td>\n",
       "      <td>1831.979980</td>\n",
       "      <td>4143.069824</td>\n",
       "      <td>3563.570068</td>\n",
       "      <td>1845.859985</td>\n",
       "      <td>4160.959961</td>\n",
       "      <td>3577.030029</td>\n",
       "      <td>1827.739990</td>\n",
       "      <td>4131.790039</td>\n",
       "      <td>3553.649902</td>\n",
       "      <td>1845.859985</td>\n",
       "      <td>4160.029785</td>\n",
       "      <td>3575.600098</td>\n",
       "      <td>3080600000</td>\n",
       "      <td>1738820000</td>\n",
       "      <td>1738820000</td>\n",
       "    </tr>\n",
       "    <tr>\n",
       "      <th>2014-01-03</th>\n",
       "      <td>1831.369995</td>\n",
       "      <td>4131.910156</td>\n",
       "      <td>3538.729980</td>\n",
       "      <td>1831.369995</td>\n",
       "      <td>4131.910156</td>\n",
       "      <td>3538.729980</td>\n",
       "      <td>1838.239990</td>\n",
       "      <td>4152.959961</td>\n",
       "      <td>3567.510010</td>\n",
       "      <td>1829.130005</td>\n",
       "      <td>4124.959961</td>\n",
       "      <td>3537.610107</td>\n",
       "      <td>1833.209961</td>\n",
       "      <td>4148.560059</td>\n",
       "      <td>3564.939941</td>\n",
       "      <td>2774270000</td>\n",
       "      <td>1667480000</td>\n",
       "      <td>1667480000</td>\n",
       "    </tr>\n",
       "    <tr>\n",
       "      <th>2014-01-06</th>\n",
       "      <td>1826.770020</td>\n",
       "      <td>4113.680176</td>\n",
       "      <td>3526.959961</td>\n",
       "      <td>1826.770020</td>\n",
       "      <td>4113.680176</td>\n",
       "      <td>3526.959961</td>\n",
       "      <td>1837.160034</td>\n",
       "      <td>4139.779785</td>\n",
       "      <td>3542.520020</td>\n",
       "      <td>1823.729980</td>\n",
       "      <td>4103.750000</td>\n",
       "      <td>3512.449951</td>\n",
       "      <td>1832.310059</td>\n",
       "      <td>4137.029785</td>\n",
       "      <td>3539.020020</td>\n",
       "      <td>3294850000</td>\n",
       "      <td>2292840000</td>\n",
       "      <td>2292840000</td>\n",
       "    </tr>\n",
       "    <tr>\n",
       "      <th>2014-01-07</th>\n",
       "      <td>1837.880005</td>\n",
       "      <td>4153.180176</td>\n",
       "      <td>3557.850098</td>\n",
       "      <td>1837.880005</td>\n",
       "      <td>4153.180176</td>\n",
       "      <td>3557.850098</td>\n",
       "      <td>1840.099976</td>\n",
       "      <td>4158.180176</td>\n",
       "      <td>3562.989990</td>\n",
       "      <td>1828.709961</td>\n",
       "      <td>4126.479980</td>\n",
       "      <td>3535.500000</td>\n",
       "      <td>1828.709961</td>\n",
       "      <td>4128.569824</td>\n",
       "      <td>3539.290039</td>\n",
       "      <td>3511750000</td>\n",
       "      <td>2278220000</td>\n",
       "      <td>2278220000</td>\n",
       "    </tr>\n",
       "    <tr>\n",
       "      <th>2014-01-08</th>\n",
       "      <td>1837.489990</td>\n",
       "      <td>4165.609863</td>\n",
       "      <td>3567.540039</td>\n",
       "      <td>1837.489990</td>\n",
       "      <td>4165.609863</td>\n",
       "      <td>3567.540039</td>\n",
       "      <td>1840.020020</td>\n",
       "      <td>4171.750000</td>\n",
       "      <td>3575.149902</td>\n",
       "      <td>1831.400024</td>\n",
       "      <td>4145.000000</td>\n",
       "      <td>3551.120117</td>\n",
       "      <td>1837.900024</td>\n",
       "      <td>4154.279785</td>\n",
       "      <td>3558.300049</td>\n",
       "      <td>3652140000</td>\n",
       "      <td>2345220000</td>\n",
       "      <td>2345220000</td>\n",
       "    </tr>\n",
       "  </tbody>\n",
       "</table>\n",
       "</div>"
      ],
      "text/plain": [
       "Price         Adj Close                                  Close               \\\n",
       "Ticker            ^GSPC        ^IXIC         ^NDX        ^GSPC        ^IXIC   \n",
       "Date                                                                          \n",
       "2014-01-02  1831.979980  4143.069824  3563.570068  1831.979980  4143.069824   \n",
       "2014-01-03  1831.369995  4131.910156  3538.729980  1831.369995  4131.910156   \n",
       "2014-01-06  1826.770020  4113.680176  3526.959961  1826.770020  4113.680176   \n",
       "2014-01-07  1837.880005  4153.180176  3557.850098  1837.880005  4153.180176   \n",
       "2014-01-08  1837.489990  4165.609863  3567.540039  1837.489990  4165.609863   \n",
       "\n",
       "Price                           High                                    Low  \\\n",
       "Ticker             ^NDX        ^GSPC        ^IXIC         ^NDX        ^GSPC   \n",
       "Date                                                                          \n",
       "2014-01-02  3563.570068  1845.859985  4160.959961  3577.030029  1827.739990   \n",
       "2014-01-03  3538.729980  1838.239990  4152.959961  3567.510010  1829.130005   \n",
       "2014-01-06  3526.959961  1837.160034  4139.779785  3542.520020  1823.729980   \n",
       "2014-01-07  3557.850098  1840.099976  4158.180176  3562.989990  1828.709961   \n",
       "2014-01-08  3567.540039  1840.020020  4171.750000  3575.149902  1831.400024   \n",
       "\n",
       "Price                                        Open                            \\\n",
       "Ticker            ^IXIC         ^NDX        ^GSPC        ^IXIC         ^NDX   \n",
       "Date                                                                          \n",
       "2014-01-02  4131.790039  3553.649902  1845.859985  4160.029785  3575.600098   \n",
       "2014-01-03  4124.959961  3537.610107  1833.209961  4148.560059  3564.939941   \n",
       "2014-01-06  4103.750000  3512.449951  1832.310059  4137.029785  3539.020020   \n",
       "2014-01-07  4126.479980  3535.500000  1828.709961  4128.569824  3539.290039   \n",
       "2014-01-08  4145.000000  3551.120117  1837.900024  4154.279785  3558.300049   \n",
       "\n",
       "Price           Volume                          \n",
       "Ticker           ^GSPC       ^IXIC        ^NDX  \n",
       "Date                                            \n",
       "2014-01-02  3080600000  1738820000  1738820000  \n",
       "2014-01-03  2774270000  1667480000  1667480000  \n",
       "2014-01-06  3294850000  2292840000  2292840000  \n",
       "2014-01-07  3511750000  2278220000  2278220000  \n",
       "2014-01-08  3652140000  2345220000  2345220000  "
      ]
     },
     "execution_count": 33,
     "metadata": {},
     "output_type": "execute_result"
    }
   ],
   "source": [
    "tickers = [\"^NDX\", \"^IXIC\", \"^GSPC\"]\n",
    "index = yf.download(tickers, start=\"2014-01-01\", end=\"2022-12-31\")\n",
    "index.head()"
   ]
  },
  {
   "cell_type": "markdown",
   "id": "33e7e228",
   "metadata": {
    "id": "33e7e228"
   },
   "source": [
    "**Save to CSV**"
   ]
  },
  {
   "cell_type": "code",
   "execution_count": null,
   "id": "e6838479",
   "metadata": {
    "id": "e6838479",
    "outputId": "57c14302-97bf-40e6-aa48-7aea69dfc96d"
   },
   "outputs": [
    {
     "name": "stdout",
     "output_type": "stream",
     "text": [
      "File saved to .\\index_data.csv\n"
     ]
    }
   ],
   "source": [
    "import os\n",
    "\n",
    "path_name = '.'\n",
    "file_name = 'index_data.csv'\n",
    "file_name = os.path.join(path_name, file_name)\n",
    "index.to_csv(file_name)\n",
    "\n",
    "print(f\"File saved to {file_name}\")"
   ]
  },
  {
   "cell_type": "markdown",
   "id": "e24e9cfc",
   "metadata": {
    "id": "e24e9cfc"
   },
   "source": [
    "**Other Examples**"
   ]
  },
  {
   "cell_type": "markdown",
   "id": "a9e32026",
   "metadata": {
    "id": "a9e32026"
   },
   "source": [
    "Some very simple examples: Stock Price Correlation Analysis and Portfolio Performance"
   ]
  },
  {
   "cell_type": "code",
   "execution_count": null,
   "id": "0dcf6feb",
   "metadata": {
    "id": "0dcf6feb",
    "outputId": "fc5c3fe5-490f-4760-f5f5-f21bfeda8651"
   },
   "outputs": [
    {
     "name": "stdout",
     "output_type": "stream",
     "text": [
      "Ticker      AAPL     GOOGL      MSFT\n",
      "Ticker                              \n",
      "AAPL    1.000000  0.691082  0.776784\n",
      "GOOGL   0.691082  1.000000  0.772333\n",
      "MSFT    0.776784  0.772333  1.000000\n"
     ]
    }
   ],
   "source": [
    "returns = close_prices.pct_change()\n",
    "correlation = returns.corr()\n",
    "print(correlation)"
   ]
  },
  {
   "cell_type": "code",
   "execution_count": null,
   "id": "3392dc03",
   "metadata": {
    "id": "3392dc03",
    "outputId": "e893e616-71c3-45a5-cb0c-7632eed444ae"
   },
   "outputs": [
    {
     "data": {
      "image/png": "[encoded data removed]",
      "text/plain": [
       "<Figure size 640x480 with 1 Axes>"
      ]
     },
     "metadata": {},
     "output_type": "display_data"
    }
   ],
   "source": [
    "weights = [0.4, 0.4, 0.2]  # Allocation weights for AAPL, MSFT, GOOGL\n",
    "portfolio_returns = (returns * weights).sum(axis=1)\n",
    "portfolio_cumulative = (1 + portfolio_returns).cumprod()\n",
    "portfolio_cumulative.plot(title=\"Portfolio Performance\")\n",
    "plt.show()"
   ]
  },
  {
   "cell_type": "markdown",
   "id": "2787a181",
   "metadata": {
    "id": "2787a181"
   },
   "source": [
    "#### Options"
   ]
  },
  {
   "cell_type": "markdown",
   "id": "090f7003",
   "metadata": {
    "id": "090f7003"
   },
   "source": [
    "Yahoo Finance also provides financial option data, which can be accessed programmatically using the `yfinance` library. Below is a step-by-step guide on how to download and analyze option data from Yahoo Finance.\n",
    "\n",
    "**Access Option Chains**\n",
    "\n",
    "Each stock has a set of options available for different expiration dates. You can fetch these option chains using the `Ticker` object in `yfinance`. This will return a list of all available expiration dates for the options."
   ]
  },
  {
   "cell_type": "code",
   "execution_count": null,
   "id": "c00a5461",
   "metadata": {
    "id": "c00a5461",
    "outputId": "98368e41-1c17-4fef-a552-a3d3370cbec9"
   },
   "outputs": [
    {
     "name": "stdout",
     "output_type": "stream",
     "text": [
      "('2025-01-31', '2025-02-07', '2025-02-14', '2025-02-21', '2025-02-28', '2025-03-07', '2025-03-21', '2025-04-17', '2025-05-16', '2025-06-20', '2025-07-18', '2025-08-15', '2025-09-19', '2025-10-17', '2025-12-19', '2026-01-16', '2026-03-20', '2026-06-18', '2026-12-18', '2027-01-15')\n"
     ]
    }
   ],
   "source": [
    "#\n",
    "# Fetching Option Expiration Dates\n",
    "#\n",
    "ticker = yf.Ticker(\"AAPL\")  # Replace \"AAPL\" with your desired stock ticker\n",
    "expiration_dates = ticker.options\n",
    "print(expiration_dates)"
   ]
  },
  {
   "cell_type": "markdown",
   "id": "f27858a5",
   "metadata": {
    "id": "f27858a5"
   },
   "source": [
    "**Download Option Data for a Specific Expiration Date**\n",
    "\n",
    "Once you have the expiration dates, you can fetch the options data (both calls and puts) for a specific expiration date. The data for calls and puts will be returned as pandas DataFrames, containing columns such as:\n",
    "\n",
    "- contractSymbol: The option symbol.\n",
    "- strike: The strike price.\n",
    "- lastPrice: The last traded price of the option.\n",
    "- bid: The bid price.\n",
    "- ask: The ask price.\n",
    "- volume: The trading volume.\n",
    "- openInterest: The number of open contracts."
   ]
  },
  {
   "cell_type": "code",
   "execution_count": null,
   "id": "27466e2d",
   "metadata": {
    "id": "27466e2d"
   },
   "outputs": [],
   "source": [
    "#\n",
    "# Fetching Option Chains (Calls and Puts)\n",
    "#\n",
    "# Specify the expiration date\n",
    "expiration_date = expiration_dates[0]  # Example: Use the first available date\n",
    "\n",
    "# Fetch options data\n",
    "options_data = ticker.option_chain(expiration_date)\n",
    "\n",
    "# Separate calls and puts data\n",
    "calls = options_data.calls\n",
    "puts = options_data.puts"
   ]
  },
  {
   "cell_type": "code",
   "execution_count": null,
   "id": "586b00af",
   "metadata": {
    "id": "586b00af",
    "outputId": "0406156b-ca0d-454c-dcee-bbf9044f8a43"
   },
   "outputs": [
    {
     "name": "stdout",
     "output_type": "stream",
     "text": [
      "Calls:\n",
      "\n"
     ]
    },
    {
     "data": {
      "text/html": [
       "<div>\n",
       "<style scoped>\n",
       "    .dataframe tbody tr th:only-of-type {\n",
       "        vertical-align: middle;\n",
       "    }\n",
       "\n",
       "    .dataframe tbody tr th {\n",
       "        vertical-align: top;\n",
       "    }\n",
       "\n",
       "    .dataframe thead th {\n",
       "        text-align: right;\n",
       "    }\n",
       "</style>\n",
       "<table border=\"1\" class=\"dataframe\">\n",
       "  <thead>\n",
       "    <tr style=\"text-align: right;\">\n",
       "      <th></th>\n",
       "      <th>contractSymbol</th>\n",
       "      <th>lastTradeDate</th>\n",
       "      <th>strike</th>\n",
       "      <th>lastPrice</th>\n",
       "      <th>bid</th>\n",
       "      <th>ask</th>\n",
       "      <th>change</th>\n",
       "      <th>percentChange</th>\n",
       "      <th>volume</th>\n",
       "      <th>openInterest</th>\n",
       "      <th>impliedVolatility</th>\n",
       "      <th>inTheMoney</th>\n",
       "      <th>contractSize</th>\n",
       "      <th>currency</th>\n",
       "    </tr>\n",
       "  </thead>\n",
       "  <tbody>\n",
       "    <tr>\n",
       "      <th>0</th>\n",
       "      <td>AAPL250131C00100000</td>\n",
       "      <td>2025-01-21 18:19:27+00:00</td>\n",
       "      <td>100.0</td>\n",
       "      <td>120.36</td>\n",
       "      <td>134.95</td>\n",
       "      <td>136.75</td>\n",
       "      <td>0.0</td>\n",
       "      <td>0.0</td>\n",
       "      <td>10.0</td>\n",
       "      <td>10</td>\n",
       "      <td>0.00001</td>\n",
       "      <td>True</td>\n",
       "      <td>REGULAR</td>\n",
       "      <td>USD</td>\n",
       "    </tr>\n",
       "    <tr>\n",
       "      <th>1</th>\n",
       "      <td>AAPL250131C00110000</td>\n",
       "      <td>2025-01-13 16:15:27+00:00</td>\n",
       "      <td>110.0</td>\n",
       "      <td>121.15</td>\n",
       "      <td>124.85</td>\n",
       "      <td>126.45</td>\n",
       "      <td>0.0</td>\n",
       "      <td>0.0</td>\n",
       "      <td>NaN</td>\n",
       "      <td>5</td>\n",
       "      <td>0.00001</td>\n",
       "      <td>True</td>\n",
       "      <td>REGULAR</td>\n",
       "      <td>USD</td>\n",
       "    </tr>\n",
       "    <tr>\n",
       "      <th>2</th>\n",
       "      <td>AAPL250131C00115000</td>\n",
       "      <td>2024-12-27 17:07:43+00:00</td>\n",
       "      <td>115.0</td>\n",
       "      <td>138.80</td>\n",
       "      <td>119.90</td>\n",
       "      <td>121.20</td>\n",
       "      <td>0.0</td>\n",
       "      <td>0.0</td>\n",
       "      <td>1.0</td>\n",
       "      <td>1</td>\n",
       "      <td>0.00001</td>\n",
       "      <td>True</td>\n",
       "      <td>REGULAR</td>\n",
       "      <td>USD</td>\n",
       "    </tr>\n",
       "    <tr>\n",
       "      <th>3</th>\n",
       "      <td>AAPL250131C00120000</td>\n",
       "      <td>2025-01-24 15:40:27+00:00</td>\n",
       "      <td>120.0</td>\n",
       "      <td>103.10</td>\n",
       "      <td>115.25</td>\n",
       "      <td>116.25</td>\n",
       "      <td>0.0</td>\n",
       "      <td>0.0</td>\n",
       "      <td>35.0</td>\n",
       "      <td>35</td>\n",
       "      <td>0.00001</td>\n",
       "      <td>True</td>\n",
       "      <td>REGULAR</td>\n",
       "      <td>USD</td>\n",
       "    </tr>\n",
       "    <tr>\n",
       "      <th>4</th>\n",
       "      <td>AAPL250131C00125000</td>\n",
       "      <td>2024-12-27 16:55:41+00:00</td>\n",
       "      <td>125.0</td>\n",
       "      <td>129.00</td>\n",
       "      <td>109.90</td>\n",
       "      <td>111.35</td>\n",
       "      <td>0.0</td>\n",
       "      <td>0.0</td>\n",
       "      <td>1.0</td>\n",
       "      <td>0</td>\n",
       "      <td>0.00001</td>\n",
       "      <td>True</td>\n",
       "      <td>REGULAR</td>\n",
       "      <td>USD</td>\n",
       "    </tr>\n",
       "  </tbody>\n",
       "</table>\n",
       "</div>"
      ],
      "text/plain": [
       "        contractSymbol             lastTradeDate  strike  lastPrice     bid  \\\n",
       "0  AAPL250131C00100000 2025-01-21 18:19:27+00:00   100.0     120.36  134.95   \n",
       "1  AAPL250131C00110000 2025-01-13 16:15:27+00:00   110.0     121.15  124.85   \n",
       "2  AAPL250131C00115000 2024-12-27 17:07:43+00:00   115.0     138.80  119.90   \n",
       "3  AAPL250131C00120000 2025-01-24 15:40:27+00:00   120.0     103.10  115.25   \n",
       "4  AAPL250131C00125000 2024-12-27 16:55:41+00:00   125.0     129.00  109.90   \n",
       "\n",
       "      ask  change  percentChange  volume  openInterest  impliedVolatility  \\\n",
       "0  136.75     0.0            0.0    10.0            10            0.00001   \n",
       "1  126.45     0.0            0.0     NaN             5            0.00001   \n",
       "2  121.20     0.0            0.0     1.0             1            0.00001   \n",
       "3  116.25     0.0            0.0    35.0            35            0.00001   \n",
       "4  111.35     0.0            0.0     1.0             0            0.00001   \n",
       "\n",
       "   inTheMoney contractSize currency  \n",
       "0        True      REGULAR      USD  \n",
       "1        True      REGULAR      USD  \n",
       "2        True      REGULAR      USD  \n",
       "3        True      REGULAR      USD  \n",
       "4        True      REGULAR      USD  "
      ]
     },
     "execution_count": 39,
     "metadata": {},
     "output_type": "execute_result"
    }
   ],
   "source": [
    "# Display the data\n",
    "print(\"Calls:\\n\")\n",
    "calls.head()"
   ]
  },
  {
   "cell_type": "code",
   "execution_count": null,
   "id": "90d430d4",
   "metadata": {
    "id": "90d430d4",
    "outputId": "c967f95b-5c52-46ef-abda-06bd450241a6"
   },
   "outputs": [
    {
     "name": "stdout",
     "output_type": "stream",
     "text": [
      "Puts:\n",
      "\n"
     ]
    },
    {
     "data": {
      "text/html": [
       "<div>\n",
       "<style scoped>\n",
       "    .dataframe tbody tr th:only-of-type {\n",
       "        vertical-align: middle;\n",
       "    }\n",
       "\n",
       "    .dataframe tbody tr th {\n",
       "        vertical-align: top;\n",
       "    }\n",
       "\n",
       "    .dataframe thead th {\n",
       "        text-align: right;\n",
       "    }\n",
       "</style>\n",
       "<table border=\"1\" class=\"dataframe\">\n",
       "  <thead>\n",
       "    <tr style=\"text-align: right;\">\n",
       "      <th></th>\n",
       "      <th>contractSymbol</th>\n",
       "      <th>lastTradeDate</th>\n",
       "      <th>strike</th>\n",
       "      <th>lastPrice</th>\n",
       "      <th>bid</th>\n",
       "      <th>ask</th>\n",
       "      <th>change</th>\n",
       "      <th>percentChange</th>\n",
       "      <th>volume</th>\n",
       "      <th>openInterest</th>\n",
       "      <th>impliedVolatility</th>\n",
       "      <th>inTheMoney</th>\n",
       "      <th>contractSize</th>\n",
       "      <th>currency</th>\n",
       "    </tr>\n",
       "  </thead>\n",
       "  <tbody>\n",
       "    <tr>\n",
       "      <th>0</th>\n",
       "      <td>AAPL250131P00100000</td>\n",
       "      <td>2025-01-27 14:38:03+00:00</td>\n",
       "      <td>100.0</td>\n",
       "      <td>0.01</td>\n",
       "      <td>0.0</td>\n",
       "      <td>0.01</td>\n",
       "      <td>0.0</td>\n",
       "      <td>0.0</td>\n",
       "      <td>2.0</td>\n",
       "      <td>24</td>\n",
       "      <td>2.875003</td>\n",
       "      <td>False</td>\n",
       "      <td>REGULAR</td>\n",
       "      <td>USD</td>\n",
       "    </tr>\n",
       "    <tr>\n",
       "      <th>1</th>\n",
       "      <td>AAPL250131P00105000</td>\n",
       "      <td>2025-01-23 17:35:22+00:00</td>\n",
       "      <td>105.0</td>\n",
       "      <td>0.04</td>\n",
       "      <td>0.0</td>\n",
       "      <td>0.01</td>\n",
       "      <td>0.0</td>\n",
       "      <td>0.0</td>\n",
       "      <td>2.0</td>\n",
       "      <td>4</td>\n",
       "      <td>2.750003</td>\n",
       "      <td>False</td>\n",
       "      <td>REGULAR</td>\n",
       "      <td>USD</td>\n",
       "    </tr>\n",
       "    <tr>\n",
       "      <th>2</th>\n",
       "      <td>AAPL250131P00110000</td>\n",
       "      <td>2025-01-21 19:08:04+00:00</td>\n",
       "      <td>110.0</td>\n",
       "      <td>0.01</td>\n",
       "      <td>0.0</td>\n",
       "      <td>0.01</td>\n",
       "      <td>0.0</td>\n",
       "      <td>0.0</td>\n",
       "      <td>1.0</td>\n",
       "      <td>3</td>\n",
       "      <td>2.562504</td>\n",
       "      <td>False</td>\n",
       "      <td>REGULAR</td>\n",
       "      <td>USD</td>\n",
       "    </tr>\n",
       "    <tr>\n",
       "      <th>3</th>\n",
       "      <td>AAPL250131P00120000</td>\n",
       "      <td>2025-01-24 15:42:18+00:00</td>\n",
       "      <td>120.0</td>\n",
       "      <td>0.01</td>\n",
       "      <td>0.0</td>\n",
       "      <td>0.01</td>\n",
       "      <td>0.0</td>\n",
       "      <td>0.0</td>\n",
       "      <td>2.0</td>\n",
       "      <td>8</td>\n",
       "      <td>2.312504</td>\n",
       "      <td>False</td>\n",
       "      <td>REGULAR</td>\n",
       "      <td>USD</td>\n",
       "    </tr>\n",
       "    <tr>\n",
       "      <th>4</th>\n",
       "      <td>AAPL250131P00125000</td>\n",
       "      <td>2025-01-27 14:46:49+00:00</td>\n",
       "      <td>125.0</td>\n",
       "      <td>0.02</td>\n",
       "      <td>0.0</td>\n",
       "      <td>0.01</td>\n",
       "      <td>0.0</td>\n",
       "      <td>0.0</td>\n",
       "      <td>5.0</td>\n",
       "      <td>6</td>\n",
       "      <td>2.187505</td>\n",
       "      <td>False</td>\n",
       "      <td>REGULAR</td>\n",
       "      <td>USD</td>\n",
       "    </tr>\n",
       "  </tbody>\n",
       "</table>\n",
       "</div>"
      ],
      "text/plain": [
       "        contractSymbol             lastTradeDate  strike  lastPrice  bid  \\\n",
       "0  AAPL250131P00100000 2025-01-27 14:38:03+00:00   100.0       0.01  0.0   \n",
       "1  AAPL250131P00105000 2025-01-23 17:35:22+00:00   105.0       0.04  0.0   \n",
       "2  AAPL250131P00110000 2025-01-21 19:08:04+00:00   110.0       0.01  0.0   \n",
       "3  AAPL250131P00120000 2025-01-24 15:42:18+00:00   120.0       0.01  0.0   \n",
       "4  AAPL250131P00125000 2025-01-27 14:46:49+00:00   125.0       0.02  0.0   \n",
       "\n",
       "    ask  change  percentChange  volume  openInterest  impliedVolatility  \\\n",
       "0  0.01     0.0            0.0     2.0            24           2.875003   \n",
       "1  0.01     0.0            0.0     2.0             4           2.750003   \n",
       "2  0.01     0.0            0.0     1.0             3           2.562504   \n",
       "3  0.01     0.0            0.0     2.0             8           2.312504   \n",
       "4  0.01     0.0            0.0     5.0             6           2.187505   \n",
       "\n",
       "   inTheMoney contractSize currency  \n",
       "0       False      REGULAR      USD  \n",
       "1       False      REGULAR      USD  \n",
       "2       False      REGULAR      USD  \n",
       "3       False      REGULAR      USD  \n",
       "4       False      REGULAR      USD  "
      ]
     },
     "execution_count": 40,
     "metadata": {},
     "output_type": "execute_result"
    }
   ],
   "source": [
    "print(\"Puts:\\n\")\n",
    "puts.head()"
   ]
  },
  {
   "cell_type": "markdown",
   "id": "d6bbfdc3",
   "metadata": {
    "id": "d6bbfdc3"
   },
   "source": [
    "**Analyze Option Data**\n",
    "\n",
    "You can process and analyze the data to gain insights.\n",
    "\n",
    "Example: ***Filter Options Based on Strike Price***"
   ]
  },
  {
   "cell_type": "code",
   "execution_count": null,
   "id": "cc6499b1",
   "metadata": {
    "id": "cc6499b1",
    "outputId": "82d33820-5a81-4541-d2ca-77edda8d1b61"
   },
   "outputs": [
    {
     "data": {
      "text/html": [
       "<div>\n",
       "<style scoped>\n",
       "    .dataframe tbody tr th:only-of-type {\n",
       "        vertical-align: middle;\n",
       "    }\n",
       "\n",
       "    .dataframe tbody tr th {\n",
       "        vertical-align: top;\n",
       "    }\n",
       "\n",
       "    .dataframe thead th {\n",
       "        text-align: right;\n",
       "    }\n",
       "</style>\n",
       "<table border=\"1\" class=\"dataframe\">\n",
       "  <thead>\n",
       "    <tr style=\"text-align: right;\">\n",
       "      <th></th>\n",
       "      <th>contractSymbol</th>\n",
       "      <th>lastTradeDate</th>\n",
       "      <th>strike</th>\n",
       "      <th>lastPrice</th>\n",
       "      <th>bid</th>\n",
       "      <th>ask</th>\n",
       "      <th>change</th>\n",
       "      <th>percentChange</th>\n",
       "      <th>volume</th>\n",
       "      <th>openInterest</th>\n",
       "      <th>impliedVolatility</th>\n",
       "      <th>inTheMoney</th>\n",
       "      <th>contractSize</th>\n",
       "      <th>currency</th>\n",
       "    </tr>\n",
       "  </thead>\n",
       "  <tbody>\n",
       "    <tr>\n",
       "      <th>10</th>\n",
       "      <td>AAPL250131C00155000</td>\n",
       "      <td>2025-01-29 14:41:22+00:00</td>\n",
       "      <td>155.0</td>\n",
       "      <td>80.99</td>\n",
       "      <td>80.25</td>\n",
       "      <td>81.5</td>\n",
       "      <td>-3.209999</td>\n",
       "      <td>-3.812350</td>\n",
       "      <td>2.0</td>\n",
       "      <td>30</td>\n",
       "      <td>0.00001</td>\n",
       "      <td>True</td>\n",
       "      <td>REGULAR</td>\n",
       "      <td>USD</td>\n",
       "    </tr>\n",
       "    <tr>\n",
       "      <th>11</th>\n",
       "      <td>AAPL250131C00160000</td>\n",
       "      <td>2025-01-28 15:29:13+00:00</td>\n",
       "      <td>160.0</td>\n",
       "      <td>77.80</td>\n",
       "      <td>75.40</td>\n",
       "      <td>76.1</td>\n",
       "      <td>0.000000</td>\n",
       "      <td>0.000000</td>\n",
       "      <td>1.0</td>\n",
       "      <td>13</td>\n",
       "      <td>0.00001</td>\n",
       "      <td>True</td>\n",
       "      <td>REGULAR</td>\n",
       "      <td>USD</td>\n",
       "    </tr>\n",
       "    <tr>\n",
       "      <th>12</th>\n",
       "      <td>AAPL250131C00165000</td>\n",
       "      <td>2025-01-28 15:53:46+00:00</td>\n",
       "      <td>165.0</td>\n",
       "      <td>73.93</td>\n",
       "      <td>70.25</td>\n",
       "      <td>71.3</td>\n",
       "      <td>0.000000</td>\n",
       "      <td>0.000000</td>\n",
       "      <td>2.0</td>\n",
       "      <td>5</td>\n",
       "      <td>0.00001</td>\n",
       "      <td>True</td>\n",
       "      <td>REGULAR</td>\n",
       "      <td>USD</td>\n",
       "    </tr>\n",
       "    <tr>\n",
       "      <th>13</th>\n",
       "      <td>AAPL250131C00170000</td>\n",
       "      <td>2025-01-28 18:21:12+00:00</td>\n",
       "      <td>170.0</td>\n",
       "      <td>64.53</td>\n",
       "      <td>65.40</td>\n",
       "      <td>66.5</td>\n",
       "      <td>-4.550003</td>\n",
       "      <td>-6.586571</td>\n",
       "      <td>5.0</td>\n",
       "      <td>22</td>\n",
       "      <td>0.00001</td>\n",
       "      <td>True</td>\n",
       "      <td>REGULAR</td>\n",
       "      <td>USD</td>\n",
       "    </tr>\n",
       "    <tr>\n",
       "      <th>14</th>\n",
       "      <td>AAPL250131C00175000</td>\n",
       "      <td>2025-01-28 15:01:54+00:00</td>\n",
       "      <td>175.0</td>\n",
       "      <td>60.15</td>\n",
       "      <td>60.35</td>\n",
       "      <td>61.5</td>\n",
       "      <td>0.000000</td>\n",
       "      <td>0.000000</td>\n",
       "      <td>1.0</td>\n",
       "      <td>81</td>\n",
       "      <td>0.00001</td>\n",
       "      <td>True</td>\n",
       "      <td>REGULAR</td>\n",
       "      <td>USD</td>\n",
       "    </tr>\n",
       "  </tbody>\n",
       "</table>\n",
       "</div>"
      ],
      "text/plain": [
       "         contractSymbol             lastTradeDate  strike  lastPrice    bid  \\\n",
       "10  AAPL250131C00155000 2025-01-29 14:41:22+00:00   155.0      80.99  80.25   \n",
       "11  AAPL250131C00160000 2025-01-28 15:29:13+00:00   160.0      77.80  75.40   \n",
       "12  AAPL250131C00165000 2025-01-28 15:53:46+00:00   165.0      73.93  70.25   \n",
       "13  AAPL250131C00170000 2025-01-28 18:21:12+00:00   170.0      64.53  65.40   \n",
       "14  AAPL250131C00175000 2025-01-28 15:01:54+00:00   175.0      60.15  60.35   \n",
       "\n",
       "     ask    change  percentChange  volume  openInterest  impliedVolatility  \\\n",
       "10  81.5 -3.209999      -3.812350     2.0            30            0.00001   \n",
       "11  76.1  0.000000       0.000000     1.0            13            0.00001   \n",
       "12  71.3  0.000000       0.000000     2.0             5            0.00001   \n",
       "13  66.5 -4.550003      -6.586571     5.0            22            0.00001   \n",
       "14  61.5  0.000000       0.000000     1.0            81            0.00001   \n",
       "\n",
       "    inTheMoney contractSize currency  \n",
       "10        True      REGULAR      USD  \n",
       "11        True      REGULAR      USD  \n",
       "12        True      REGULAR      USD  \n",
       "13        True      REGULAR      USD  \n",
       "14        True      REGULAR      USD  "
      ]
     },
     "execution_count": 41,
     "metadata": {},
     "output_type": "execute_result"
    }
   ],
   "source": [
    "# Filter calls with a strike price greater than 150\n",
    "filtered_calls = calls[calls['strike'] > 150]\n",
    "filtered_calls.head()"
   ]
  },
  {
   "cell_type": "markdown",
   "id": "05e5f6e0",
   "metadata": {
    "id": "05e5f6e0"
   },
   "source": [
    "Example: ***Sort Options by Open Interest***"
   ]
  },
  {
   "cell_type": "code",
   "execution_count": null,
   "id": "99cf1012",
   "metadata": {
    "id": "99cf1012",
    "outputId": "80596d09-c02e-4191-d56d-dad764dacc94"
   },
   "outputs": [
    {
     "data": {
      "text/html": [
       "<div>\n",
       "<style scoped>\n",
       "    .dataframe tbody tr th:only-of-type {\n",
       "        vertical-align: middle;\n",
       "    }\n",
       "\n",
       "    .dataframe tbody tr th {\n",
       "        vertical-align: top;\n",
       "    }\n",
       "\n",
       "    .dataframe thead th {\n",
       "        text-align: right;\n",
       "    }\n",
       "</style>\n",
       "<table border=\"1\" class=\"dataframe\">\n",
       "  <thead>\n",
       "    <tr style=\"text-align: right;\">\n",
       "      <th></th>\n",
       "      <th>contractSymbol</th>\n",
       "      <th>lastTradeDate</th>\n",
       "      <th>strike</th>\n",
       "      <th>lastPrice</th>\n",
       "      <th>bid</th>\n",
       "      <th>ask</th>\n",
       "      <th>change</th>\n",
       "      <th>percentChange</th>\n",
       "      <th>volume</th>\n",
       "      <th>openInterest</th>\n",
       "      <th>impliedVolatility</th>\n",
       "      <th>inTheMoney</th>\n",
       "      <th>contractSize</th>\n",
       "      <th>currency</th>\n",
       "    </tr>\n",
       "  </thead>\n",
       "  <tbody>\n",
       "    <tr>\n",
       "      <th>28</th>\n",
       "      <td>AAPL250131P00220000</td>\n",
       "      <td>2025-01-29 14:52:35+00:00</td>\n",
       "      <td>220.0</td>\n",
       "      <td>0.65</td>\n",
       "      <td>0.65</td>\n",
       "      <td>0.66</td>\n",
       "      <td>0.14</td>\n",
       "      <td>27.450977</td>\n",
       "      <td>2160.0</td>\n",
       "      <td>19569</td>\n",
       "      <td>0.649906</td>\n",
       "      <td>False</td>\n",
       "      <td>REGULAR</td>\n",
       "      <td>USD</td>\n",
       "    </tr>\n",
       "    <tr>\n",
       "      <th>30</th>\n",
       "      <td>AAPL250131P00225000</td>\n",
       "      <td>2025-01-29 14:53:36+00:00</td>\n",
       "      <td>225.0</td>\n",
       "      <td>1.32</td>\n",
       "      <td>1.32</td>\n",
       "      <td>1.34</td>\n",
       "      <td>0.29</td>\n",
       "      <td>28.155348</td>\n",
       "      <td>2299.0</td>\n",
       "      <td>16907</td>\n",
       "      <td>0.637211</td>\n",
       "      <td>False</td>\n",
       "      <td>REGULAR</td>\n",
       "      <td>USD</td>\n",
       "    </tr>\n",
       "    <tr>\n",
       "      <th>32</th>\n",
       "      <td>AAPL250131P00230000</td>\n",
       "      <td>2025-01-29 14:53:27+00:00</td>\n",
       "      <td>230.0</td>\n",
       "      <td>2.62</td>\n",
       "      <td>2.64</td>\n",
       "      <td>2.66</td>\n",
       "      <td>0.59</td>\n",
       "      <td>29.064035</td>\n",
       "      <td>3869.0</td>\n",
       "      <td>11700</td>\n",
       "      <td>0.647953</td>\n",
       "      <td>False</td>\n",
       "      <td>REGULAR</td>\n",
       "      <td>USD</td>\n",
       "    </tr>\n",
       "    <tr>\n",
       "      <th>34</th>\n",
       "      <td>AAPL250131P00235000</td>\n",
       "      <td>2025-01-29 14:53:35+00:00</td>\n",
       "      <td>235.0</td>\n",
       "      <td>4.59</td>\n",
       "      <td>4.65</td>\n",
       "      <td>4.70</td>\n",
       "      <td>0.89</td>\n",
       "      <td>24.054056</td>\n",
       "      <td>3858.0</td>\n",
       "      <td>11582</td>\n",
       "      <td>0.661624</td>\n",
       "      <td>False</td>\n",
       "      <td>REGULAR</td>\n",
       "      <td>USD</td>\n",
       "    </tr>\n",
       "    <tr>\n",
       "      <th>24</th>\n",
       "      <td>AAPL250131P00210000</td>\n",
       "      <td>2025-01-29 14:53:16+00:00</td>\n",
       "      <td>210.0</td>\n",
       "      <td>0.18</td>\n",
       "      <td>0.17</td>\n",
       "      <td>0.18</td>\n",
       "      <td>0.01</td>\n",
       "      <td>5.882356</td>\n",
       "      <td>358.0</td>\n",
       "      <td>11345</td>\n",
       "      <td>0.716800</td>\n",
       "      <td>False</td>\n",
       "      <td>REGULAR</td>\n",
       "      <td>USD</td>\n",
       "    </tr>\n",
       "  </tbody>\n",
       "</table>\n",
       "</div>"
      ],
      "text/plain": [
       "         contractSymbol             lastTradeDate  strike  lastPrice   bid  \\\n",
       "28  AAPL250131P00220000 2025-01-29 14:52:35+00:00   220.0       0.65  0.65   \n",
       "30  AAPL250131P00225000 2025-01-29 14:53:36+00:00   225.0       1.32  1.32   \n",
       "32  AAPL250131P00230000 2025-01-29 14:53:27+00:00   230.0       2.62  2.64   \n",
       "34  AAPL250131P00235000 2025-01-29 14:53:35+00:00   235.0       4.59  4.65   \n",
       "24  AAPL250131P00210000 2025-01-29 14:53:16+00:00   210.0       0.18  0.17   \n",
       "\n",
       "     ask  change  percentChange  volume  openInterest  impliedVolatility  \\\n",
       "28  0.66    0.14      27.450977  2160.0         19569           0.649906   \n",
       "30  1.34    0.29      28.155348  2299.0         16907           0.637211   \n",
       "32  2.66    0.59      29.064035  3869.0         11700           0.647953   \n",
       "34  4.70    0.89      24.054056  3858.0         11582           0.661624   \n",
       "24  0.18    0.01       5.882356   358.0         11345           0.716800   \n",
       "\n",
       "    inTheMoney contractSize currency  \n",
       "28       False      REGULAR      USD  \n",
       "30       False      REGULAR      USD  \n",
       "32       False      REGULAR      USD  \n",
       "34       False      REGULAR      USD  \n",
       "24       False      REGULAR      USD  "
      ]
     },
     "execution_count": 42,
     "metadata": {},
     "output_type": "execute_result"
    }
   ],
   "source": [
    "# Sort puts by open interest in descending order\n",
    "sorted_puts = puts.sort_values(by='openInterest', ascending=False)\n",
    "sorted_puts.head()"
   ]
  },
  {
   "cell_type": "markdown",
   "id": "c25c3ade",
   "metadata": {
    "id": "c25c3ade"
   },
   "source": [
    "Example: **Merge Calls and Puts**"
   ]
  },
  {
   "cell_type": "code",
   "execution_count": null,
   "id": "4ddd507f",
   "metadata": {
    "id": "4ddd507f",
    "outputId": "17f235c2-7685-466a-87b1-2bb30f2b9ba9"
   },
   "outputs": [
    {
     "data": {
      "text/html": [
       "<div>\n",
       "<style scoped>\n",
       "    .dataframe tbody tr th:only-of-type {\n",
       "        vertical-align: middle;\n",
       "    }\n",
       "\n",
       "    .dataframe tbody tr th {\n",
       "        vertical-align: top;\n",
       "    }\n",
       "\n",
       "    .dataframe thead th {\n",
       "        text-align: right;\n",
       "    }\n",
       "</style>\n",
       "<table border=\"1\" class=\"dataframe\">\n",
       "  <thead>\n",
       "    <tr style=\"text-align: right;\">\n",
       "      <th></th>\n",
       "      <th>contractSymbol</th>\n",
       "      <th>lastTradeDate</th>\n",
       "      <th>strike</th>\n",
       "      <th>lastPrice</th>\n",
       "      <th>bid</th>\n",
       "      <th>ask</th>\n",
       "      <th>change</th>\n",
       "      <th>percentChange</th>\n",
       "      <th>volume</th>\n",
       "      <th>openInterest</th>\n",
       "      <th>impliedVolatility</th>\n",
       "      <th>inTheMoney</th>\n",
       "      <th>contractSize</th>\n",
       "      <th>currency</th>\n",
       "      <th>type</th>\n",
       "    </tr>\n",
       "  </thead>\n",
       "  <tbody>\n",
       "    <tr>\n",
       "      <th>0</th>\n",
       "      <td>AAPL250131C00100000</td>\n",
       "      <td>2025-01-21 18:19:27+00:00</td>\n",
       "      <td>100.0</td>\n",
       "      <td>120.36</td>\n",
       "      <td>134.95</td>\n",
       "      <td>136.75</td>\n",
       "      <td>0.0</td>\n",
       "      <td>0.0</td>\n",
       "      <td>10.0</td>\n",
       "      <td>10</td>\n",
       "      <td>0.00001</td>\n",
       "      <td>True</td>\n",
       "      <td>REGULAR</td>\n",
       "      <td>USD</td>\n",
       "      <td>Call</td>\n",
       "    </tr>\n",
       "    <tr>\n",
       "      <th>1</th>\n",
       "      <td>AAPL250131C00110000</td>\n",
       "      <td>2025-01-13 16:15:27+00:00</td>\n",
       "      <td>110.0</td>\n",
       "      <td>121.15</td>\n",
       "      <td>124.85</td>\n",
       "      <td>126.45</td>\n",
       "      <td>0.0</td>\n",
       "      <td>0.0</td>\n",
       "      <td>NaN</td>\n",
       "      <td>5</td>\n",
       "      <td>0.00001</td>\n",
       "      <td>True</td>\n",
       "      <td>REGULAR</td>\n",
       "      <td>USD</td>\n",
       "      <td>Call</td>\n",
       "    </tr>\n",
       "    <tr>\n",
       "      <th>2</th>\n",
       "      <td>AAPL250131C00115000</td>\n",
       "      <td>2024-12-27 17:07:43+00:00</td>\n",
       "      <td>115.0</td>\n",
       "      <td>138.80</td>\n",
       "      <td>119.90</td>\n",
       "      <td>121.20</td>\n",
       "      <td>0.0</td>\n",
       "      <td>0.0</td>\n",
       "      <td>1.0</td>\n",
       "      <td>1</td>\n",
       "      <td>0.00001</td>\n",
       "      <td>True</td>\n",
       "      <td>REGULAR</td>\n",
       "      <td>USD</td>\n",
       "      <td>Call</td>\n",
       "    </tr>\n",
       "    <tr>\n",
       "      <th>3</th>\n",
       "      <td>AAPL250131C00120000</td>\n",
       "      <td>2025-01-24 15:40:27+00:00</td>\n",
       "      <td>120.0</td>\n",
       "      <td>103.10</td>\n",
       "      <td>115.25</td>\n",
       "      <td>116.25</td>\n",
       "      <td>0.0</td>\n",
       "      <td>0.0</td>\n",
       "      <td>35.0</td>\n",
       "      <td>35</td>\n",
       "      <td>0.00001</td>\n",
       "      <td>True</td>\n",
       "      <td>REGULAR</td>\n",
       "      <td>USD</td>\n",
       "      <td>Call</td>\n",
       "    </tr>\n",
       "    <tr>\n",
       "      <th>4</th>\n",
       "      <td>AAPL250131C00125000</td>\n",
       "      <td>2024-12-27 16:55:41+00:00</td>\n",
       "      <td>125.0</td>\n",
       "      <td>129.00</td>\n",
       "      <td>109.90</td>\n",
       "      <td>111.35</td>\n",
       "      <td>0.0</td>\n",
       "      <td>0.0</td>\n",
       "      <td>1.0</td>\n",
       "      <td>0</td>\n",
       "      <td>0.00001</td>\n",
       "      <td>True</td>\n",
       "      <td>REGULAR</td>\n",
       "      <td>USD</td>\n",
       "      <td>Call</td>\n",
       "    </tr>\n",
       "  </tbody>\n",
       "</table>\n",
       "</div>"
      ],
      "text/plain": [
       "        contractSymbol             lastTradeDate  strike  lastPrice     bid  \\\n",
       "0  AAPL250131C00100000 2025-01-21 18:19:27+00:00   100.0     120.36  134.95   \n",
       "1  AAPL250131C00110000 2025-01-13 16:15:27+00:00   110.0     121.15  124.85   \n",
       "2  AAPL250131C00115000 2024-12-27 17:07:43+00:00   115.0     138.80  119.90   \n",
       "3  AAPL250131C00120000 2025-01-24 15:40:27+00:00   120.0     103.10  115.25   \n",
       "4  AAPL250131C00125000 2024-12-27 16:55:41+00:00   125.0     129.00  109.90   \n",
       "\n",
       "      ask  change  percentChange  volume  openInterest  impliedVolatility  \\\n",
       "0  136.75     0.0            0.0    10.0            10            0.00001   \n",
       "1  126.45     0.0            0.0     NaN             5            0.00001   \n",
       "2  121.20     0.0            0.0     1.0             1            0.00001   \n",
       "3  116.25     0.0            0.0    35.0            35            0.00001   \n",
       "4  111.35     0.0            0.0     1.0             0            0.00001   \n",
       "\n",
       "   inTheMoney contractSize currency  type  \n",
       "0        True      REGULAR      USD  Call  \n",
       "1        True      REGULAR      USD  Call  \n",
       "2        True      REGULAR      USD  Call  \n",
       "3        True      REGULAR      USD  Call  \n",
       "4        True      REGULAR      USD  Call  "
      ]
     },
     "execution_count": 43,
     "metadata": {},
     "output_type": "execute_result"
    }
   ],
   "source": [
    "# Add a column to distinguish between calls and puts\n",
    "calls['type'] = 'Call'\n",
    "puts['type'] = 'Put'\n",
    "\n",
    "# Merge calls and puts\n",
    "merged_options = pd.concat([calls, puts])\n",
    "merged_options.head()"
   ]
  },
  {
   "cell_type": "markdown",
   "id": "82c8eb98",
   "metadata": {
    "id": "82c8eb98"
   },
   "source": [
    "**Save Option Data to CSV**\n",
    "\n",
    "You can save the fetched option data to a CSV file for further analysis:"
   ]
  },
  {
   "cell_type": "code",
   "execution_count": null,
   "id": "d24c0fb2",
   "metadata": {
    "id": "d24c0fb2"
   },
   "outputs": [],
   "source": [
    "# Save calls and puts to separate CSV files\n",
    "calls.to_csv(\"./calls_data.csv\", index=False)\n",
    "puts.to_csv(\"./puts_data.csv\", index=False)"
   ]
  },
  {
   "cell_type": "markdown",
   "id": "8a0ad792",
   "metadata": {
    "id": "8a0ad792"
   },
   "source": [
    "**Automate the Process for All Expiration Dates**\n",
    "\n",
    "If you want to fetch options data for all expiration dates:"
   ]
  },
  {
   "cell_type": "code",
   "execution_count": null,
   "id": "6243642c",
   "metadata": {
    "id": "6243642c"
   },
   "outputs": [],
   "source": [
    "all_calls = []\n",
    "all_puts = []\n",
    "\n",
    "for date in expiration_dates:\n",
    "    options = ticker.option_chain(date)\n",
    "    calls, puts = options.calls, options.puts\n",
    "    calls['expirationDate'] = date\n",
    "    puts['expirationDate'] = date\n",
    "    all_calls.append(calls)\n",
    "    all_puts.append(puts)\n",
    "\n",
    "# Combine all data into single DataFrames\n",
    "all_calls_data = pd.concat(all_calls)\n",
    "all_puts_data = pd.concat(all_puts)\n",
    "\n",
    "# Save to CSV\n",
    "all_calls_data.to_csv(\"all_calls_data.csv\", index=False)\n",
    "all_puts_data.to_csv(\"all_puts_data.csv\", index=False)"
   ]
  },
  {
   "cell_type": "markdown",
   "id": "345ecab6",
   "metadata": {
    "id": "345ecab6"
   },
   "source": [
    "**Limitations**\n",
    "\n",
    "`yfinance` does not provide historical options data; you can only access current data for the available expiration dates."
   ]
  },
  {
   "cell_type": "markdown",
   "id": "ff3bcc20",
   "metadata": {
    "id": "ff3bcc20"
   },
   "source": [
    "## Appendix - Python syntax reminders"
   ]
  },
  {
   "cell_type": "markdown",
   "id": "8f909e7c",
   "metadata": {
    "id": "8f909e7c"
   },
   "source": [
    "### What is a Lambda Function in Python?\n",
    "\n",
    "A **lambda function** in Python is a **small, anonymous function** that is defined using the `lambda` keyword. Unlike regular functions (`def`), a lambda function **does not have a name** and is typically used for short, one-time operations.\n",
    "\n",
    "**Syntax of a Lambda Function**\n",
    "\n",
    "```python\n",
    "lambda arguments: expression\n",
    "```\n",
    "- `lambda` → The keyword to define a lambda function.\n",
    "- `arguments` → Inputs to the function (like parameters in `def` functions).\n",
    "- `expression` → A single-line operation that **returns** a value automatically.\n",
    "\n",
    "🛑 **Key Restrictions**:\n",
    "\n",
    "- A lambda function **must have exactly one expression** (cannot contain multiple statements).\n",
    "\n",
    "- It **returns the result automatically** (no need for `return`).\n",
    "\n",
    "**Basic Example**\n",
    "\n",
    "A lambda function to add two numbers:\n",
    "```python\n",
    "add = lambda x, y: x + y\n",
    "print(add(3, 5))  # Output: 8\n",
    "```\n",
    "- `lambda x, y: x + y` → Defines a function that takes `x` and `y` and returns their sum.\n",
    "- `add(3, 5)` → Calls the lambda function with `x=3` and `y=5`.\n",
    "\n",
    "💡 **Equivalent Regular Function:**\n",
    "\n",
    "```python\n",
    "def add(x, y):\n",
    "    return x + y\n",
    "```\n",
    "\n",
    "Lambdas are just a **shorter** way to write simple functions.\n",
    "\n",
    "**Use Cases of Lambda Functions**\n",
    "\n",
    "Lambdas are often used where short, quick functions are needed, such as:\n",
    "\n",
    "**1. Using Lambda with `map()` (Apply Function to a List)**\n",
    "\n",
    "```python\n",
    "numbers = [1, 2, 3, 4]\n",
    "squared = list(map(lambda x: x ** 2, numbers))\n",
    "print(squared)  # Output: [1, 4, 9, 16]\n",
    "```\n",
    "- `map()` applies the lambda function (`x ** 2`) to **each element** in `numbers`.\n",
    "\n",
    "**2. Using Lambda with `filter()` (Filter Elements in a List)**\n",
    "\n",
    "```python\n",
    "numbers = [10, 15, 20, 25, 30]\n",
    "filtered = list(filter(lambda x: x > 15, numbers))\n",
    "print(filtered)  # Output: [20, 25, 30]\n",
    "```\n",
    "- `filter()` keeps only the values **greater than 15**.\n",
    "\n",
    "**3. Using Lambda with `sorted()` (Custom Sorting)**\n",
    "\n",
    "```python\n",
    "names = [\"Charlie\", \"Alice\", \"Bob\"]\n",
    "sorted_names = sorted(names, key=lambda name: len(name))\n",
    "print(sorted_names)  # Output: ['Bob', 'Alice', 'Charlie']\n",
    "```\n",
    "- `sorted()` sorts by **string length** using the lambda function.\n",
    "\n",
    "**4. Using Lambda in `reduce()` (Accumulate a Value)**\n",
    "\n",
    "```python\n",
    "from functools import reduce\n",
    "numbers = [1, 2, 3, 4]\n",
    "product = reduce(lambda x, y: x * y, numbers)\n",
    "print(product)  # Output: 24\n",
    "```\n",
    "- `reduce()` applies the lambda **cumulatively**:  \n",
    "  `((1*2) * 3) * 4 = 24`.\n",
    "\n",
    "**Key Differences Between `lambda` and `def`**\n",
    "\n",
    "| Feature             | `lambda` Function       | `def` Function           |\n",
    "|---------------------|------------------------|--------------------------|\n",
    "| **Definition**      | Uses `lambda` keyword   | Uses `def` keyword       |\n",
    "| **Name**           | Anonymous (nameless)    | Requires a function name |\n",
    "| **Number of Expressions** | Only one          | Multiple statements allowed |\n",
    "| **Return Keyword** | Implicit return         | Requires `return` keyword |\n",
    "| **Best Used For**  | Short, simple functions | Complex logic & multi-line code |\n",
    "\n",
    "**When to Use Lambda Functions**\n",
    "\n",
    "✅ **Use `lambda` for short, one-time use functions** (e.g., inside `map()`, `filter()`, `sorted()`).  \n",
    "\n",
    "✅ **Use `def` for complex functions** requiring multiple lines or readability.\n",
    "\n",
    "🚀 **Conclusion**: Lambda functions are **concise**, but should be used **wisely** when clarity is not compromised!"
   ]
  },
  {
   "cell_type": "markdown",
   "id": "b20b5f4f",
   "metadata": {
    "id": "b20b5f4f"
   },
   "source": [
    "### What is an f-string in Python?\n",
    "\n",
    "An **f-string** (formatted string literal) is a way to embed expressions inside string literals using curly braces `{}`. It was introduced in **Python 3.6** and provides a concise, readable, and efficient way to format strings.\n",
    "\n",
    "**Syntax of f-strings**\n",
    "\n",
    "An f-string is prefixed with `f` (or `F`), and variables or expressions are placed inside `{}`:\n",
    "\n",
    "```python\n",
    "name = \"Alice\"\n",
    "age = 30\n",
    "formatted_string = f\"My name is {name} and I am {age} years old.\"\n",
    "print(formatted_string)\n",
    "```\n",
    "\n",
    "**Output:**\n",
    "```\n",
    "My name is Alice and I am 30 years old.\n",
    "```\n",
    "\n",
    "**Key Features of f-strings**\n",
    "\n",
    "1. **Variable Interpolation**  \n",
    "   Directly insert variables into strings:\n",
    "   ```python\n",
    "   x = 5\n",
    "   y = 10\n",
    "   print(f\"The sum of {x} and {y} is {x + y}.\")\n",
    "   ```\n",
    "   **Output:**  \n",
    "   ```\n",
    "   The sum of 5 and 10 is 15.\n",
    "   ```\n",
    "\n",
    "2. **Expression Evaluation**  \n",
    "   You can use **any valid Python expression** inside `{}`:\n",
    "   ```python\n",
    "   print(f\"The square of 4 is {4**2}.\")\n",
    "   ```\n",
    "   **Output:**  \n",
    "   ```\n",
    "   The square of 4 is 16.\n",
    "   ```\n",
    "\n",
    "3. **Formatting Numbers**  \n",
    "   Use format specifiers like `.2f` (two decimal places), `,` (thousands separator), etc.:\n",
    "   ```python\n",
    "   pi = 3.14159\n",
    "   print(f\"Pi rounded to 2 decimal places: {pi:.2f}\")\n",
    "   print(f\"Large number with commas: {1000000:,}\")\n",
    "   ```\n",
    "   **Output:**  \n",
    "   ```\n",
    "   Pi rounded to 2 decimal places: 3.14\n",
    "   Large number with commas: 1,000,000\n",
    "   ```\n",
    "\n",
    "4. **Padding & Alignment**  \n",
    "   Align text and numbers:\n",
    "   ```python\n",
    "   print(f\"{'Left':<10} | {'Center':^10} | {'Right':>10}\")\n",
    "   ```\n",
    "   **Output:**  \n",
    "   ```\n",
    "   Left       |   Center   |      Right\n",
    "   ```\n",
    "\n",
    "5. **Calling Functions Inside f-strings**  \n",
    "   ```python\n",
    "   def greet(name):\n",
    "       return f\"Hello, {name}!\"\n",
    "\n",
    "   print(f\"{greet('Bob')}\")\n",
    "   ```\n",
    "   **Output:**  \n",
    "   ```\n",
    "   Hello, Bob!\n",
    "   ```\n",
    "\n",
    "**Comparison with Other Formatting Methods**\n",
    "\n",
    "| **Method**             | **Example**                                  | **Output**              |\n",
    "|------------------------|---------------------------------------------|-------------------------|\n",
    "| **f-string (Python 3.6+)** | `f\"Hello, {name}!\"`                        | `Hello, Alice!`        |\n",
    "| **`format()` method**  | `\"Hello, {}!\".format(name)`                 | `Hello, Alice!`        |\n",
    "| **Old `%` formatting** | `\"Hello, %s!\" % name`                       | `Hello, Alice!`        |\n",
    "\n",
    "🔹 **f-strings are faster and more readable** than `.format()` and `%` formatting.\n",
    "\n",
    "**Conclusion**\n",
    "\n",
    "✅ **f-strings** make string formatting **simpler, more readable, and more powerful**.  \n",
    "\n",
    "✅ They **support expressions, number formatting, and function calls**.  \n",
    "\n",
    "✅ They are the **recommended** way to format strings in modern Python (≥3.6). 🚀"
   ]
  },
  {
   "cell_type": "markdown",
   "id": "4c8a58c6",
   "metadata": {
    "id": "4c8a58c6"
   },
   "source": [
    "### What is the Meaning of the Format in the World Bank Example\n",
    "\n",
    "The lambda function in the code:\n",
    "```python\n",
    "lambda x: f\"{x:,.0f}\"\n",
    "```\n",
    "is using **Python’s formatted string literals (f-strings)** along with **format specifiers** to format the GDP values by inserting a **comma (`,`) every three digits**.\n",
    "\n",
    "**Breaking Down the Format Specifier `{x:,.0f}`**\n",
    "\n",
    "The format specifier inside the **f-string** (`f\"\"`) follows this structure:\n",
    "\n",
    "- `{x:,.0f}`\n",
    "  - `:` → Starts the format specifier.\n",
    "  - `,` → Adds a **thousands separator** (inserting commas every three digits).\n",
    "  - `.0f` → Formats the number as a **floating-point number with zero decimal places** (`.0` means no decimals, `f` stands for fixed-point notation).\n",
    "\n",
    "**How the Formatting Works**\n",
    "\n",
    "Consider an example where `x = 21000000000000`:\n",
    "\n",
    "```python\n",
    "x = 21000000000000\n",
    "formatted_x = f\"{x:,.0f}\"\n",
    "print(formatted_x)\n",
    "```\n",
    "\n",
    "**Output:**\n",
    "```\n",
    "21,000,000,000,000\n",
    "```\n",
    "\n",
    "- The comma `,` ensures that **every three digits** from the right are grouped together.\n",
    "- `.0f` removes any decimal places, converting it to an **integer-like format**.\n",
    "\n",
    "**More Examples**\n",
    "\n",
    "| **Number**         | **Formatted Output (`{x:,.0f}`)** |\n",
    "|--------------------|----------------------------------|\n",
    "| `1234567.89`      | `1,234,568` (Rounded to zero decimals) |\n",
    "| `987654321`       | `987,654,321` |\n",
    "| `15000.75`        | `15,001` (Rounded) |\n",
    "| `99999999999`     | `99,999,999,999` |\n",
    "\n",
    "If we wanted **two decimal places**, we could use `{x:,.2f}`:\n",
    "```python\n",
    "x = 1234567.891\n",
    "formatted_x = f\"{x:,.2f}\"\n",
    "print(formatted_x)\n",
    "```\n",
    "\n",
    "**Output:**\n",
    "```\n",
    "1,234,567.89\n",
    "```\n",
    "Here, `.2f` keeps **two decimal places**.\n",
    "\n",
    "\n",
    "**Conclusion**\n",
    "\n",
    "- The lambda function applies `f\"{x:,.0f}\"` to each GDP value.\n",
    "- The `,` ensures **thousands separators**.\n",
    "- The `.0f` ensures **no decimal places**.\n",
    "- The result is a **human-friendly GDP format**, making large numbers **easier to read**. 🚀"
   ]
  },
  {
   "cell_type": "markdown",
   "id": "0d7f3f81",
   "metadata": {
    "id": "0d7f3f81"
   },
   "source": [
    "### How use the `diff` method in `pandas`\n",
    "\n",
    "**Understanding the Pandas Instruction:**\n",
    "\n",
    "```python\n",
    "vix = vix.diff(periods=1, axis=0)\n",
    "```\n",
    "\n",
    "This line **computes the difference between consecutive rows** in a Pandas DataFrame or Series named `vix`.\n",
    "\n",
    "**Breaking Down the Parameters**\n",
    "\n",
    "1. **`.diff(periods=1, axis=0)`**\n",
    "\n",
    "- `periods=1` → Computes the difference between each value and the value **one row before**.\n",
    "\n",
    "- `axis=0` → Operates **row-wise** (default), meaning it subtracts the previous row from the current row.\n",
    "\n",
    "\n",
    "**Example 1: Using `.diff()` on a Pandas Series**\n",
    "\n",
    "**Original VIX Series:**\n",
    "\n",
    "```python\n",
    "import pandas as pd\n",
    "\n",
    "data = {'VIX': [15.2, 16.8, 18.1, 17.5, 19.0]}\n",
    "vix = pd.DataFrame(data)\n",
    "\n",
    "print(vix)\n",
    "```\n",
    "**Output:**\n",
    "```\n",
    "    VIX\n",
    "0  15.2\n",
    "1  16.8\n",
    "2  18.1\n",
    "3  17.5\n",
    "4  19.0\n",
    "```\n",
    "\n",
    "**Applying `.diff(periods=1, axis=0)`:**\n",
    "\n",
    "```python\n",
    "vix = vix.diff(periods=1, axis=0)\n",
    "print(vix)\n",
    "```\n",
    "**Output:**\n",
    "```\n",
    "    VIX\n",
    "0   NaN   # First row has no previous value, so it's NaN\n",
    "1   1.6   # 16.8 - 15.2\n",
    "2   1.3   # 18.1 - 16.8\n",
    "3  -0.6   # 17.5 - 18.1\n",
    "4   1.5   # 19.0 - 17.5\n",
    "```\n",
    "\n",
    "**Example 2: Using `.diff()` on a DataFrame with Multiple Columns**\n",
    "\n",
    "If `vix` is a DataFrame with multiple columns:\n",
    "\n",
    "```python\n",
    "data = {\n",
    "    'VIX': [15.2, 16.8, 18.1, 17.5, 19.0],\n",
    "    'SP500': [4500, 4520, 4535, 4510, 4540]\n",
    "}\n",
    "vix = pd.DataFrame(data)\n",
    "\n",
    "# Compute row-wise differences\n",
    "vix_diff = vix.diff(periods=1, axis=0)\n",
    "\n",
    "print(vix_diff)\n",
    "```\n",
    "**Output:**\n",
    "```\n",
    "    VIX  SP500\n",
    "0   NaN    NaN\n",
    "1   1.6   20.0\n",
    "2   1.3   15.0\n",
    "3  -0.6  -25.0\n",
    "4   1.5   30.0\n",
    "```\n",
    "Each column is processed **independently**.\n",
    "\n",
    "\n",
    "**Key Takeaways**\n",
    "\n",
    "- `.diff(periods=1, axis=0)` computes **row-wise differences**.\n",
    "\n",
    "- **First row always returns `NaN`**, since there’s no previous value to subtract.\n",
    "\n",
    "- If `periods=n`, it computes the difference with the **n-th previous row**.\n",
    "\n",
    "- Works on **both Series and DataFrames**.\n",
    "\n",
    "**Alternative Uses**\n",
    "\n",
    "**1. Computing Differences Over Longer Periods**\n",
    "\n",
    "```python\n",
    "vix.diff(periods=2)  # Difference with the row 2 periods before\n",
    "```\n",
    "\n",
    "**2. Column-Wise Differences (`axis=1`)**\n",
    "\n",
    "If `axis=1` is used, differences are computed **between columns** instead of rows:\n",
    "\n",
    "```python\n",
    "vix.diff(axis=1)"
   ]
  },
  {
   "cell_type": "markdown",
   "id": "98991422",
   "metadata": {
    "id": "98991422"
   },
   "source": [
    "## Reference and Credits"
   ]
  },
  {
   "cell_type": "markdown",
   "id": "73eca309",
   "metadata": {
    "id": "73eca309"
   },
   "source": []
  }
 ],
 "metadata": {
  "colab": {
   "provenance": []
  },
  "kernelspec": {
   "display_name": "Python 3 (ipykernel)",
   "language": "python",
   "name": "python3"
  },
  "language_info": {
   "codemirror_mode": {
    "name": "ipython",
    "version": 3
   },
   "file_extension": ".py",
   "mimetype": "text/x-python",
   "name": "python",
   "nbconvert_exporter": "python",
   "pygments_lexer": "ipython3",
   "version": "3.10.9"
  },
  "toc": {
   "base_numbering": "3",
   "nav_menu": {},
   "number_sections": true,
   "sideBar": true,
   "skip_h1_title": false,
   "title_cell": "Table of Contents",
   "title_sidebar": "Contents",
   "toc_cell": false,
   "toc_position": {},
   "toc_section_display": true,
   "toc_window_display": false
  }
 },
 "nbformat": 4,
 "nbformat_minor": 5
}
