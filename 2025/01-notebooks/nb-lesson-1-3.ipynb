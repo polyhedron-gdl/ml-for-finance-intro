{
 "cells": [
  {
   "cell_type": "markdown",
   "id": "c1f18b43",
   "metadata": {
    "id": "c1f18b43",
    "slideshow": {
     "slide_type": "skip"
    }
   },
   "source": [
    "<table align=\"left\">\n",
    "  <td>\n",
    "    <a target=\"_blank\" href=\"https://colab.research.google.com/github/polyhedron-gdl/ml-for-finance-intro/blob/main/2025/01-notebooks/nb-lesson-1-3.ipynb\">\n",
    "        <img src=\"https://www.tensorflow.org/images/colab_logo_32px.png\" />Run in Google Colab</a>\n",
    "  </td>\n",
    "</table>"
   ]
  },
  {
   "cell_type": "markdown",
   "id": "2a43c976",
   "metadata": {
    "id": "2a43c976",
    "slideshow": {
     "slide_type": "slide"
    }
   },
   "source": [
    "# Remote Data Access with Pandas"
   ]
  },
  {
   "cell_type": "code",
   "execution_count": 8,
   "id": "36b7f444",
   "metadata": {
    "id": "36b7f444",
    "slideshow": {
     "slide_type": "skip"
    }
   },
   "outputs": [],
   "source": [
    "import matplotlib\n",
    "import pandas as pd\n",
    "import matplotlib.pyplot as plt\n",
    "\n",
    "import warnings\n",
    "warnings.filterwarnings(\"ignore\")"
   ]
  },
  {
   "cell_type": "markdown",
   "id": "df7d4894",
   "metadata": {
    "slideshow": {
     "slide_type": "skip"
    }
   },
   "source": [
    "## Note on Library Conflicts and Versioning in Python  \n",
    "\n",
    "When working with Python for financial data analysis, one common challenge is the potential conflict between different libraries. Many libraries depend on the same underlying packages, and sometimes different versions of these dependencies are not fully compatible with each other. This can lead to unexpected errors or even make your code stop working entirely when run on a different machine or after an update.  \n",
    "\n",
    "To ensure that your work remains **portable and reproducible**, it is essential to **explicitly declare the versions** of the libraries you are using. This allows you and others to recreate the exact same environment in which your code was originally developed. The easiest way to do this is by checking the versions of the key libraries in your project, such as Pandas, NumPy, and others, using commands like:  \n",
    "\n",
    "```python\n",
    "import pandas as pd\n",
    "import numpy as np\n",
    "\n",
    "print(pd.__version__)\n",
    "print(np.__version__)\n",
    "```\n",
    "\n",
    "Additionally, when sharing or deploying your code, it is good practice to create a **requirements file** that lists all the necessary libraries and their versions. You can generate this file with:  \n",
    "\n",
    "```bash\n",
    "pip freeze > requirements.txt\n",
    "```\n",
    "\n",
    "This file can then be used to install the exact same versions of the required libraries on another system using:  \n",
    "\n",
    "```bash\n",
    "pip install -r requirements.txt\n",
    "```\n",
    "\n",
    "### Managing Conflicts with Python Environments \n",
    "\n",
    "A more advanced and standardized approach to managing library conflicts is to use **Python environments** (e.g., virtual environments with `venv` or `conda`). These allow you to create isolated spaces where different projects can have their own separate dependencies, avoiding conflicts between them. However, managing environments is outside the scope of this course. If you plan to work on multiple projects with different library requirements in the future, learning how to use virtual environments will be a valuable skill."
   ]
  },
  {
   "cell_type": "code",
   "execution_count": 9,
   "id": "78d3e458",
   "metadata": {
    "slideshow": {
     "slide_type": "skip"
    }
   },
   "outputs": [
    {
     "name": "stdout",
     "output_type": "stream",
     "text": [
      "Actual matplotlib Version : 3.7.1  - Original Notebook use 3.7.1\n"
     ]
    }
   ],
   "source": [
    "print(\"Actual matplotlib Version :\", matplotlib.__version__, \" - Original Notebook use 3.7.1\")"
   ]
  },
  {
   "cell_type": "code",
   "execution_count": 10,
   "id": "f4a44110",
   "metadata": {
    "slideshow": {
     "slide_type": "skip"
    }
   },
   "outputs": [
    {
     "name": "stdout",
     "output_type": "stream",
     "text": [
      "Actual pandas Version : 2.2.3  - Original Notebook use 2.2.3\n"
     ]
    }
   ],
   "source": [
    "print(\"Actual pandas Version :\", pd.__version__, \" - Original Notebook use 2.2.3\") "
   ]
  },
  {
   "cell_type": "markdown",
   "id": "6481b2db",
   "metadata": {
    "slideshow": {
     "slide_type": "slide"
    }
   },
   "source": [
    "## Introduction\n",
    "\n",
    "In this notebook, we will explore how to work with financial data stored on remote servers using Pandas, a powerful yet easy-to-use Python library for data analysis. In this presentation, we will see how Pandas can help you connect to remote data sources, pull in the financial information you need, and then organize and analyze that data. We will go through clear examples that show how to retrieve data from a distance and use Pandas to make sense of it, making the process both straightforward and effective. By the end of this talk, you'll understand the basics of remote data access and how Pandas can be a valuable tool in your financial analysis toolkit."
   ]
  },
  {
   "cell_type": "markdown",
   "id": "7dab8cc0",
   "metadata": {
    "slideshow": {
     "slide_type": "fragment"
    }
   },
   "source": [
    "There are several free sources of financial and economic data that can be accessed remotely. One of the most widely used is Yahoo Finance, which provides historical stock prices, exchange rates, and market data through its API. The Federal Reserve Economic Data (FRED) platform offers a vast collection of economic indicators, including GDP, inflation, and interest rates. Another key resource is Alpha Vantage, which provides free access to stock market and forex data with an API key. Quandl (now part of Nasdaq Data Link) also offers various economic and financial datasets, though some may require a subscription.  \n",
    "\n",
    "In this presentation, we will focus only on Yahoo Finance and FRED, as they are completely free and do not require an API key or registration, making them the easiest options for retrieving financial and economic data with Pandas."
   ]
  },
  {
   "cell_type": "markdown",
   "id": "adf7c3be",
   "metadata": {
    "id": "adf7c3be",
    "slideshow": {
     "slide_type": "slide"
    }
   },
   "source": [
    "## What is `pandas-datareader`\n",
    "\n",
    "\n",
    "`pandas-datareader` is an extension to the popular `pandas` library in Python, designed to simplify the process of accessing and importing data from various financial and economic sources. It is particularly useful in data science and finance applications where real-time or historical data is required for analysis."
   ]
  },
  {
   "cell_type": "markdown",
   "id": "009ea855",
   "metadata": {
    "id": "009ea855",
    "slideshow": {
     "slide_type": "subslide"
    }
   },
   "source": [
    "### Key Features of `pandas-datareader`\n",
    "\n",
    "1. **Data Acquisition from Multiple Sources**:\n",
    "   - Fetch financial data such as stock prices, indices, and exchange rates.\n",
    "   - Access macroeconomic data like GDP, unemployment rates, and inflation.\n",
    "   - Supported sources include Yahoo Finance, Alpha Vantage, World Bank, and FRED (Federal Reserve Economic Data).\n",
    "\n",
    "<p></p>\n",
    "\n",
    "2. **Seamless Integration with `pandas`**:\n",
    "   - The data retrieved is returned as a `pandas.DataFrame` or `pandas.Series`, enabling immediate compatibility with pandas' analytical tools.\n",
    "   - Built-in functionality to handle time-series data efficiently.\n",
    "\n",
    "<p></p>\n",
    "\n",
    "3. **Ease of Use**:\n",
    "   - Simple API for fetching data with minimal setup.\n",
    "   - Provides clear error messages for unsupported sources or connectivity issues.\n",
    "\n",
    "<p></p>\n",
    "\n",
    "4. **Customizable Queries**:\n",
    "   - Retrieve data for specific time periods, tickers, or categories.\n",
    "   - Filter results based on user-defined criteria."
   ]
  },
  {
   "cell_type": "markdown",
   "id": "9a388ecd",
   "metadata": {
    "id": "9a388ecd",
    "slideshow": {
     "slide_type": "subslide"
    }
   },
   "source": [
    "### Installation\n",
    "\n",
    "To use `pandas-datareader`, install it via pip:\n",
    "```bash\n",
    "pip install pandas-datareader\n",
    "```"
   ]
  },
  {
   "cell_type": "markdown",
   "id": "b31697bb",
   "metadata": {
    "slideshow": {
     "slide_type": "subslide"
    }
   },
   "source": [
    "### Core Functions\n",
    "\n",
    "Here are some of the key functionalities provided by `pandas-datareader`, for the full list follow this [link](https://pandas-datareader.readthedocs.io/en/latest/) to the documentation web page."
   ]
  },
  {
   "cell_type": "code",
   "execution_count": 11,
   "id": "c1e7d867",
   "metadata": {
    "slideshow": {
     "slide_type": "skip"
    }
   },
   "outputs": [
    {
     "name": "stdout",
     "output_type": "stream",
     "text": [
      "Actual pandas_datareader Version : 0.10.0  - Original Notebook use 0.10.0\n"
     ]
    }
   ],
   "source": [
    "import pandas_datareader\n",
    "\n",
    "print(\"Actual pandas_datareader Version :\", pandas_datareader.__version__, \" - Original Notebook use 0.10.0\")"
   ]
  },
  {
   "cell_type": "code",
   "execution_count": 12,
   "id": "78969b6d",
   "metadata": {
    "id": "78969b6d",
    "slideshow": {
     "slide_type": "skip"
    }
   },
   "outputs": [],
   "source": [
    "from pandas_datareader import data as pdr"
   ]
  },
  {
   "cell_type": "markdown",
   "id": "77bf4708",
   "metadata": {
    "id": "77bf4708",
    "slideshow": {
     "slide_type": "subslide"
    }
   },
   "source": [
    "#### Accessing Macroeconomic Data\n",
    "\n",
    "Fetch economic indicators such as interest rates or GDP data from FRED. The St. Louis [FRED](https://fred.stlouisfed.org/) (Federal Reserve Economic Data) is a comprehensive online database managed by the Federal Reserve Bank of St. Louis. It provides free access to a vast collection of economic and financial data that spans across various sectors, geographies, and time periods.\n",
    "\n",
    "FRED is widely used by economists, researchers, analysts, and students to retrieve historical data for analysis, visualization, and forecasting.\n",
    "\n",
    "<div align='center'>\n",
    "<img src=\"./pic/lesson-1-3_pic_6.png\" width=600px />\n",
    "</div>"
   ]
  },
  {
   "cell_type": "code",
   "execution_count": 13,
   "id": "76008c79",
   "metadata": {
    "colab": {
     "base_uri": "https://localhost:8080/"
    },
    "id": "76008c79",
    "outputId": "07c8700b-38f4-4f17-f745-591c7bdd752d",
    "slideshow": {
     "slide_type": "subslide"
    }
   },
   "outputs": [
    {
     "name": "stdout",
     "output_type": "stream",
     "text": [
      "            UNRATE\n",
      "DATE              \n",
      "2020-01-01     3.6\n",
      "2020-02-01     3.5\n",
      "2020-03-01     4.4\n",
      "2020-04-01    14.8\n",
      "2020-05-01    13.2\n"
     ]
    }
   ],
   "source": [
    "# Example: Retrieve US unemployment rate data\n",
    "unemployment_data = pdr.get_data_fred('UNRATE', start='2020-01-01', end='2023-01-01')\n",
    "print(unemployment_data.head())"
   ]
  },
  {
   "cell_type": "code",
   "execution_count": 14,
   "id": "f6768167",
   "metadata": {
    "colab": {
     "base_uri": "https://localhost:8080/",
     "height": 238
    },
    "id": "f6768167",
    "outputId": "7af6f962-ffb2-4d49-a3fa-ee57403ac9db",
    "slideshow": {
     "slide_type": "subslide"
    }
   },
   "outputs": [
    {
     "data": {
      "text/html": [
       "<div>\n",
       "<style scoped>\n",
       "    .dataframe tbody tr th:only-of-type {\n",
       "        vertical-align: middle;\n",
       "    }\n",
       "\n",
       "    .dataframe tbody tr th {\n",
       "        vertical-align: top;\n",
       "    }\n",
       "\n",
       "    .dataframe thead th {\n",
       "        text-align: right;\n",
       "    }\n",
       "</style>\n",
       "<table border=\"1\" class=\"dataframe\">\n",
       "  <thead>\n",
       "    <tr style=\"text-align: right;\">\n",
       "      <th></th>\n",
       "      <th>DGS10</th>\n",
       "    </tr>\n",
       "    <tr>\n",
       "      <th>DATE</th>\n",
       "      <th></th>\n",
       "    </tr>\n",
       "  </thead>\n",
       "  <tbody>\n",
       "    <tr>\n",
       "      <th>2010-01-01</th>\n",
       "      <td>NaN</td>\n",
       "    </tr>\n",
       "    <tr>\n",
       "      <th>2010-01-04</th>\n",
       "      <td>3.85</td>\n",
       "    </tr>\n",
       "    <tr>\n",
       "      <th>2010-01-05</th>\n",
       "      <td>3.77</td>\n",
       "    </tr>\n",
       "    <tr>\n",
       "      <th>2010-01-06</th>\n",
       "      <td>3.85</td>\n",
       "    </tr>\n",
       "    <tr>\n",
       "      <th>2010-01-07</th>\n",
       "      <td>3.85</td>\n",
       "    </tr>\n",
       "  </tbody>\n",
       "</table>\n",
       "</div>"
      ],
      "text/plain": [
       "            DGS10\n",
       "DATE             \n",
       "2010-01-01    NaN\n",
       "2010-01-04   3.85\n",
       "2010-01-05   3.77\n",
       "2010-01-06   3.85\n",
       "2010-01-07   3.85"
      ]
     },
     "execution_count": 14,
     "metadata": {},
     "output_type": "execute_result"
    }
   ],
   "source": [
    "# Example: Fetching the U.S. 10-Year Treasury Yield\n",
    "# The FRED series ID for the 10-year Treasury yield is \"DGS10\".\n",
    "import pandas_datareader as pdr\n",
    "import datetime\n",
    "\n",
    "# Define the time period\n",
    "start_date = datetime.datetime(2010, 1, 1)\n",
    "end_date = datetime.datetime(2024, 2, 1)\n",
    "# Fetch 10-Year Treasury Yield data from FRED\n",
    "interest_rates = pdr.data.DataReader(\"DGS10\", \"fred\", start_date, end_date)\n",
    "# Display the first few rows\n",
    "interest_rates.head(5)"
   ]
  },
  {
   "cell_type": "markdown",
   "id": "b08b702c",
   "metadata": {
    "id": "b08b702c",
    "slideshow": {
     "slide_type": "skip"
    }
   },
   "source": [
    "**Explanation:**\n",
    "\n",
    "- `\"DGS10\"` → FRED series ID for the **10-Year Treasury Constant Maturity Rate**.\n",
    "\n",
    "- `\"fred\"` → Specifies that we’re pulling data from the **FRED database**.\n",
    "\n",
    "- `start_date, end_date` → Defines the time range for the data."
   ]
  },
  {
   "cell_type": "code",
   "execution_count": 15,
   "id": "b3d8bb49",
   "metadata": {
    "colab": {
     "base_uri": "https://localhost:8080/",
     "height": 238
    },
    "id": "b3d8bb49",
    "outputId": "a7e55fb3-9740-4691-b302-68f5d4e03cf9",
    "slideshow": {
     "slide_type": "subslide"
    }
   },
   "outputs": [
    {
     "data": {
      "text/html": [
       "<div>\n",
       "<style scoped>\n",
       "    .dataframe tbody tr th:only-of-type {\n",
       "        vertical-align: middle;\n",
       "    }\n",
       "\n",
       "    .dataframe tbody tr th {\n",
       "        vertical-align: top;\n",
       "    }\n",
       "\n",
       "    .dataframe thead th {\n",
       "        text-align: right;\n",
       "    }\n",
       "</style>\n",
       "<table border=\"1\" class=\"dataframe\">\n",
       "  <thead>\n",
       "    <tr style=\"text-align: right;\">\n",
       "      <th></th>\n",
       "      <th>DGS10</th>\n",
       "      <th>DGS2</th>\n",
       "      <th>DGS3MO</th>\n",
       "    </tr>\n",
       "    <tr>\n",
       "      <th>DATE</th>\n",
       "      <th></th>\n",
       "      <th></th>\n",
       "      <th></th>\n",
       "    </tr>\n",
       "  </thead>\n",
       "  <tbody>\n",
       "    <tr>\n",
       "      <th>2010-01-01</th>\n",
       "      <td>NaN</td>\n",
       "      <td>NaN</td>\n",
       "      <td>NaN</td>\n",
       "    </tr>\n",
       "    <tr>\n",
       "      <th>2010-01-04</th>\n",
       "      <td>3.85</td>\n",
       "      <td>1.09</td>\n",
       "      <td>0.08</td>\n",
       "    </tr>\n",
       "    <tr>\n",
       "      <th>2010-01-05</th>\n",
       "      <td>3.77</td>\n",
       "      <td>1.01</td>\n",
       "      <td>0.07</td>\n",
       "    </tr>\n",
       "    <tr>\n",
       "      <th>2010-01-06</th>\n",
       "      <td>3.85</td>\n",
       "      <td>1.01</td>\n",
       "      <td>0.06</td>\n",
       "    </tr>\n",
       "    <tr>\n",
       "      <th>2010-01-07</th>\n",
       "      <td>3.85</td>\n",
       "      <td>1.03</td>\n",
       "      <td>0.05</td>\n",
       "    </tr>\n",
       "  </tbody>\n",
       "</table>\n",
       "</div>"
      ],
      "text/plain": [
       "            DGS10  DGS2  DGS3MO\n",
       "DATE                           \n",
       "2010-01-01    NaN   NaN     NaN\n",
       "2010-01-04   3.85  1.09    0.08\n",
       "2010-01-05   3.77  1.01    0.07\n",
       "2010-01-06   3.85  1.01    0.06\n",
       "2010-01-07   3.85  1.03    0.05"
      ]
     },
     "execution_count": 15,
     "metadata": {},
     "output_type": "execute_result"
    }
   ],
   "source": [
    "# Example: Fetching Multiple Interest Rate Series\n",
    "# You can request multiple interest rate series at once by passing a list of series IDs.\n",
    "\n",
    "# List of interest rate series IDs\n",
    "series_ids = [\"DGS10\", \"DGS2\", \"DGS3MO\"]  # 10Y, 2Y, and 3-Month Treasury rates\n",
    "# Fetch data\n",
    "rates = pdr.data.DataReader(series_ids, \"fred\", start_date, end_date)\n",
    "# Print the first few rows\n",
    "rates.head()"
   ]
  },
  {
   "cell_type": "markdown",
   "id": "6ecba20e",
   "metadata": {
    "id": "6ecba20e",
    "slideshow": {
     "slide_type": "skip"
    }
   },
   "source": [
    "**FRED Series IDs:**\n",
    "\n",
    "- `\"DGS10\"` → **10-Year Treasury Rate**\n",
    "\n",
    "- `\"DGS2\"` → **2-Year Treasury Rate**\n",
    "\n",
    "- `\"DGS3MO\"` → **3-Month Treasury Rate**"
   ]
  },
  {
   "cell_type": "code",
   "execution_count": 16,
   "id": "0afc808d",
   "metadata": {
    "colab": {
     "base_uri": "https://localhost:8080/",
     "height": 487
    },
    "id": "0afc808d",
    "outputId": "23683523-ac05-4e55-da31-e5fe94d79648",
    "slideshow": {
     "slide_type": "subslide"
    }
   },
   "outputs": [
    {
     "data": {
      "image/png": "[encoded data removed]",
      "text/plain": [
       "<Figure size 1000x300 with 1 Axes>"
      ]
     },
     "metadata": {},
     "output_type": "display_data"
    }
   ],
   "source": [
    "# Example: Plotting the Interest Rate Data\n",
    "# To visualize how interest rates change over time:\n",
    "import matplotlib.pyplot as plt\n",
    "\n",
    "# Plot the interest rate trends\n",
    "rates.plot(figsize=(10, 3), fontsize=8) \n",
    "plt.title(\"US Treasury Interest Rates\", fontsize=10)\n",
    "plt.xlabel(\"Year\")\n",
    "plt.ylabel(\"Rate (%)\")\n",
    "plt.grid()\n",
    "plt.show()"
   ]
  },
  {
   "cell_type": "code",
   "execution_count": 17,
   "id": "0b4ade68",
   "metadata": {
    "colab": {
     "base_uri": "https://localhost:8080/",
     "height": 487
    },
    "id": "0b4ade68",
    "outputId": "e5e2847d-4ccf-4ccb-96bc-726fb637d0f2",
    "slideshow": {
     "slide_type": "subslide"
    }
   },
   "outputs": [
    {
     "data": {
      "image/png": "[encoded data removed]",
      "text/plain": [
       "<Figure size 1000x300 with 1 Axes>"
      ]
     },
     "metadata": {},
     "output_type": "display_data"
    }
   ],
   "source": [
    "# Example: Calculating Interest Rate Spread\n",
    "# You can analyze the yield curve by computing spreads, such as the 10-Year minus 2-Year Treasury yield:\n",
    "# Calculate the yield spread (10Y - 2Y)\n",
    "rates[\"Spread_10Y_2Y\"] = rates[\"DGS10\"] - rates[\"DGS2\"]\n",
    "# Plot the spread\n",
    "rates[\"Spread_10Y_2Y\"].plot(figsize=(10, 3), fontsize=8)\n",
    "plt.title(\"10-Year Minus 2-Year Spread\", fontsize=10)\n",
    "plt.axhline(0, color=\"red\", linestyle=\"--\")  # Mark zero line\n",
    "plt.grid()\n",
    "plt.show()"
   ]
  },
  {
   "cell_type": "markdown",
   "id": "bb054495",
   "metadata": {
    "id": "bb054495",
    "slideshow": {
     "slide_type": "skip"
    }
   },
   "source": [
    "**Why this matters?**  \n",
    "\n",
    "- A **negative spread** (inverted yield curve) often signals **recession risks**."
   ]
  },
  {
   "cell_type": "markdown",
   "id": "956abe65",
   "metadata": {
    "id": "956abe65",
    "slideshow": {
     "slide_type": "subslide"
    }
   },
   "source": [
    "#### World Bank Data\n",
    "\n",
    "Retrieve global economic indicators from the World Bank:\n",
    "\n",
    "\n",
    "<div align='center'>\n",
    "<img src=\"./pic/lesson-1-3_pic_7.png\" width=600px />\n",
    "</div>"
   ]
  },
  {
   "cell_type": "markdown",
   "id": "bc62ce9e",
   "metadata": {
    "id": "bc62ce9e",
    "slideshow": {
     "slide_type": "skip"
    }
   },
   "source": [
    "The following Python script retrieves **World Bank GDP data** for the **United States** from **2010 to 2022** using the `pandas_datareader` library and formats it for readability.\n",
    "1. **Import World Bank Data Module:**\n",
    "   ```python\n",
    "   from pandas_datareader import wb\n",
    "   ```\n",
    "   - This imports the `wb` module from `pandas_datareader`, which allows retrieving economic indicators from the **World Bank**.\n",
    "2. **Retrieve GDP Data:**\n",
    "   ```python\n",
    "   gdp_data = wb.download(indicator='NY.GDP.MKTP.CD', country=['US'], start=2010, end=2022)\n",
    "   ```\n",
    "   - The `wb.download()` function is used to fetch **Gross Domestic Product (GDP)** data:\n",
    "     - `'NY.GDP.MKTP.CD'` → GDP in **current US dollars**.\n",
    "     - `country=['US']` → Fetches data for the **United States**.\n",
    "     - `start=2010, end=2022` → Gets annual GDP values from **2010 to 2022**.\n",
    "3. **Format GDP for Readability:**\n",
    "   ```python\n",
    "   gdp_data['NY.GDP.MKTP.CD'] = gdp_data['NY.GDP.MKTP.CD'].apply(lambda x: f\"{x:,.0f}\")\n",
    "   ```\n",
    "   - Applies **thousands separator formatting** to GDP values (e.g., **\"21,000,000,000,000\"** instead of **\"21000000000000\"**).\n",
    "   - `.apply(lambda x: f\"{x:,.0f}\")`:\n",
    "     - Uses **Python string formatting** to insert commas every three digits.\n"
   ]
  },
  {
   "cell_type": "code",
   "execution_count": 18,
   "id": "4789cfe5",
   "metadata": {
    "colab": {
     "base_uri": "https://localhost:8080/"
    },
    "id": "4789cfe5",
    "outputId": "073c3630-b89e-4bb3-b6ff-d68a41511012",
    "slideshow": {
     "slide_type": "subslide"
    }
   },
   "outputs": [
    {
     "name": "stdout",
     "output_type": "stream",
     "text": [
      "                        NY.GDP.MKTP.CD\n",
      "country       year                    \n",
      "United States 2022  26,006,893,000,000\n",
      "              2021  23,681,171,000,000\n",
      "              2020  21,354,105,000,000\n",
      "              2019  21,539,982,000,000\n",
      "              2018  20,656,516,000,000\n"
     ]
    }
   ],
   "source": [
    "# Example: Retrieve World Bank GDP data for a specific country\n",
    "from pandas_datareader import wb\n",
    "\n",
    "gdp_data = wb.download(indicator='NY.GDP.MKTP.CD', country=['US'], start=2010, end=2022)\n",
    "# Format the GDP with points separating thousands\n",
    "gdp_data['NY.GDP.MKTP.CD'] = gdp_data['NY.GDP.MKTP.CD'].apply(lambda x: f\"{x:,.0f}\")\n",
    "# Print the formatted GDP data\n",
    "print(gdp_data.head())"
   ]
  },
  {
   "cell_type": "markdown",
   "id": "af956026",
   "metadata": {
    "slideshow": {
     "slide_type": "subslide"
    }
   },
   "source": [
    "<div align='center'>\n",
    "<img src=\"./pic/lesson-1-3_pic_23.png\" width=400px />\n",
    "</div>"
   ]
  },
  {
   "cell_type": "markdown",
   "id": "badd9296",
   "metadata": {
    "slideshow": {
     "slide_type": "subslide"
    }
   },
   "source": [
    "**Python Pills**\n",
    "\n",
    "The format string `f\"{x:,.0f}\"` in Python is an **f-string** with specific formatting instructions for numbers. Let's break it down:\n",
    "\n",
    "**Explanation of `f\"{x:,.0f}\"`**\n",
    "- `f\"\"` → This is an **f-string**, meaning that any expression inside `{}` will be evaluated and formatted in place.\n",
    "- `x` → This is the variable being formatted.\n",
    "- `:` → This separates the value from the format specification.\n",
    "- `,` → This adds a **thousands separator** (commas in English notation).\n",
    "- `.0f` → This means:\n",
    "  - `.0` → Round to **zero decimal places**.\n",
    "  - `f` → Format the number as a **fixed-point decimal**.\n",
    "\n",
    "**Example Usage**\n",
    "```python\n",
    "x = 1234567.89\n",
    "\n",
    "formatted_x = f\"{x:,.0f}\"\n",
    "print(formatted_x)  # Output: \"1,234,568\"\n",
    "```\n",
    "- The number is rounded to `1,234,568` because `.0f` means no decimal places.\n",
    "- The comma separator makes it easier to read large numbers.\n",
    "\n",
    "**Comparison with Other Formats**\n",
    "| Format String | Explanation | Example Output (if `x = 1234567.89`) |\n",
    "|--------------|-------------|-----------------|\n",
    "| `f\"{x:,.2f}\"` | Adds thousands separator and keeps **2 decimal places** | `\"1,234,567.89\"` |\n",
    "| `f\"{x:.0f}\"` | No separator, rounded to **0 decimal places** | `\"1234568\"` |\n",
    "| `f\"{x:,}\"` | Adds separator but keeps **default decimal places** (if float) | `\"1,234,567.89\"` |"
   ]
  },
  {
   "cell_type": "markdown",
   "id": "e8e1bbea",
   "metadata": {
    "id": "e8e1bbea",
    "slideshow": {
     "slide_type": "skip"
    }
   },
   "source": [
    "#### Google and Alpha Vantage (Deprecated or API Key Required)\n",
    "\n",
    "Some sources (like Google Finance) are no longer supported due to service changes. For Alpha Vantage, you need an API key:\n",
    "```python\n",
    "# Example with Alpha Vantage\n",
    "alpha_vantage_data = pdr.av.time_series.AVTimeSeriesReader(symbols='AAPL', api_key='YOUR_API_KEY')\n",
    "print(alpha_vantage_data.read())\n",
    "```"
   ]
  },
  {
   "cell_type": "markdown",
   "id": "f50a9c62",
   "metadata": {
    "id": "f50a9c62",
    "slideshow": {
     "slide_type": "skip"
    }
   },
   "source": [
    "### Advantages\n",
    "\n",
    "1. **Efficient Data Retrieval**:\n",
    "   - Simplifies the process of obtaining structured financial data.\n",
    "   - Automates repetitive data-fetching tasks.\n",
    "\n",
    "2. **Broad Range of Data Sources**:\n",
    "   - Supports multiple reliable data providers, from economic databases to financial services.\n",
    "\n",
    "3. **Time-Series Handling**:\n",
    "   - Data is formatted as `pandas` time-series objects, allowing easy manipulation and plotting.\n",
    "\n",
    "4. **Customizable Queries**:\n",
    "   - Specify date ranges, frequency, and fields of interest.\n",
    "\n",
    "\n",
    "### Common Challenges\n",
    "\n",
    "1. **API Key Requirements**:\n",
    "   - Some sources like Alpha Vantage require API keys, which may have rate limits.\n",
    "\n",
    "2. **Deprecated Sources**:\n",
    "   - Certain data providers (e.g., Google Finance) are no longer supported.\n",
    "\n",
    "3. **Connectivity Issues**:\n",
    "   - Retrieval may fail if the data provider is down or the API service changes.\n",
    "\n",
    "4. **Data Cleaning**:\n",
    "   - While the data is structured, some sources may require additional cleaning for specific use cases.\n",
    "\n",
    "### Alternatives\n",
    "\n",
    "If `pandas-datareader` doesn’t meet your needs, consider alternatives:\n",
    "- **`yfinance`**: A more robust tool for Yahoo Finance data.\n",
    "- **`Quandl`**: High-quality financial, economic, and alternative datasets (requires API key).\n",
    "- **`alpha_vantage`**: Python library specifically for Alpha Vantage (requires API key).\n",
    "\n",
    "### Best Practices\n",
    "\n",
    "1. **Check for Updates**:\n",
    "   - Ensure you’re using the latest version of `pandas-datareader` as data source APIs frequently change.\n",
    "\n",
    "2. **Error Handling**:\n",
    "   - Wrap calls in try-except blocks to handle connectivity or API errors gracefully.\n",
    "   ```python\n",
    "   try:\n",
    "       stock_data = pdr.get_data_yahoo('AAPL', start='2022-01-01', end='2023-01-01')\n",
    "   except Exception as e:\n",
    "       print(f\"Error fetching data: {e}\")\n",
    "   ```\n",
    "\n",
    "3. **Use with Larger Pipelines**:\n",
    "   - Combine `pandas-datareader` with libraries like `numpy` and `matplotlib` for advanced analytics and visualization."
   ]
  },
  {
   "cell_type": "markdown",
   "id": "66c9fe4e",
   "metadata": {
    "id": "66c9fe4e",
    "slideshow": {
     "slide_type": "subslide"
    }
   },
   "source": [
    "### Some Others Example with FRED"
   ]
  },
  {
   "cell_type": "markdown",
   "id": "e7854e23",
   "metadata": {
    "id": "e7854e23",
    "slideshow": {
     "slide_type": "subslide"
    }
   },
   "source": [
    "#### The VIX Index\n",
    "\n",
    "**What is the VIX Index?**\n",
    "\n",
    "The **VIX Index**, often referred to as the \"Fear Index\" or \"Fear Gauge,\" is a financial benchmark that represents the market's expectation of volatility over the next 30 days. It is derived from the prices of options on the **S&P 500 Index (SPX)**. The VIX is widely used as a measure of market sentiment, particularly investor fear or uncertainty.\n",
    "\n",
    "**Key Features of the VIX Index**\n",
    "\n",
    "**1. Calculation**\n",
    "\n",
    "- The VIX is calculated by the Chicago Board Options Exchange (CBOE) using a weighted average of the implied volatilities of a wide range of SPX call and put options.\n",
    "- It reflects the market's expectations of future price fluctuations, not the actual or historical volatility of the S&P 500.\n",
    "\n",
    "**2. Volatility as an Asset Class**\n",
    "\n",
    "- A higher VIX indicates increased market uncertainty and fear, often correlating with significant market downturns or events.\n",
    "- A lower VIX suggests calm market conditions, indicating lower expected price swings."
   ]
  },
  {
   "cell_type": "markdown",
   "id": "9d9ee9e8",
   "metadata": {
    "slideshow": {
     "slide_type": "subslide"
    }
   },
   "source": [
    "**Interpreting VIX Values**\n",
    "\n",
    "- **Low VIX (<15)**: Suggests stability and investor confidence in the market.\n",
    "- **Moderate VIX (15–25)**: Indicates average levels of market uncertainty or expected volatility.\n",
    "- **High VIX (>25)**: Reflects elevated uncertainty, often due to geopolitical events, economic crises, or market shocks.\n",
    "\n",
    "**Why the VIX Matters**\n",
    "\n",
    "1. **Market Sentiment Indicator**:\n",
    "   - The VIX is often used as a barometer for investor sentiment. A rising VIX signals fear and potential risk-off behavior, while a declining VIX suggests confidence.\n",
    "   \n",
    "2. **Hedging and Speculation**:\n",
    "   - Traders and portfolio managers use the VIX for hedging portfolios or speculating on future market volatility via derivatives such as VIX futures, options, or exchange-traded products (ETPs).\n",
    "   \n",
    "3. **Leading Indicator**:\n",
    "   - The VIX can sometimes act as a leading indicator for equity market movements, as spikes in the VIX often precede sharp market declines."
   ]
  },
  {
   "cell_type": "markdown",
   "id": "00502e43",
   "metadata": {
    "slideshow": {
     "slide_type": "subslide"
    }
   },
   "source": [
    "**Practical Applications**\n",
    "\n",
    "1. **Portfolio Protection**:\n",
    "   Investors use VIX options or futures to hedge against downside risks in their equity portfolios.\n",
    "   \n",
    "2. **Volatility-Based Strategies**:\n",
    "   Quantitative traders use the VIX in strategies like volatility arbitrage or pairs trading with other volatility instruments.\n",
    "\n",
    "3. **Economic Analysis**:\n",
    "   Economists and analysts observe the VIX to gauge market reactions to macroeconomic news, Federal Reserve decisions, or geopolitical developments."
   ]
  },
  {
   "cell_type": "code",
   "execution_count": 19,
   "id": "86464e37",
   "metadata": {
    "slideshow": {
     "slide_type": "subslide"
    }
   },
   "outputs": [
    {
     "name": "stdout",
     "output_type": "stream",
     "text": [
      "Number of nan values in the VIX dataframe: 292\n"
     ]
    },
    {
     "data": {
      "text/html": [
       "<div>\n",
       "<style scoped>\n",
       "    .dataframe tbody tr th:only-of-type {\n",
       "        vertical-align: middle;\n",
       "    }\n",
       "\n",
       "    .dataframe tbody tr th {\n",
       "        vertical-align: top;\n",
       "    }\n",
       "\n",
       "    .dataframe thead th {\n",
       "        text-align: right;\n",
       "    }\n",
       "</style>\n",
       "<table border=\"1\" class=\"dataframe\">\n",
       "  <thead>\n",
       "    <tr style=\"text-align: right;\">\n",
       "      <th></th>\n",
       "      <th>VIXCLS</th>\n",
       "    </tr>\n",
       "    <tr>\n",
       "      <th>DATE</th>\n",
       "      <th></th>\n",
       "    </tr>\n",
       "  </thead>\n",
       "  <tbody>\n",
       "    <tr>\n",
       "      <th>2023-01-17</th>\n",
       "      <td>19.36</td>\n",
       "    </tr>\n",
       "    <tr>\n",
       "      <th>2023-01-18</th>\n",
       "      <td>20.34</td>\n",
       "    </tr>\n",
       "    <tr>\n",
       "      <th>2023-01-19</th>\n",
       "      <td>20.52</td>\n",
       "    </tr>\n",
       "    <tr>\n",
       "      <th>2023-01-20</th>\n",
       "      <td>19.85</td>\n",
       "    </tr>\n",
       "    <tr>\n",
       "      <th>2023-01-23</th>\n",
       "      <td>19.81</td>\n",
       "    </tr>\n",
       "  </tbody>\n",
       "</table>\n",
       "</div>"
      ],
      "text/plain": [
       "            VIXCLS\n",
       "DATE              \n",
       "2023-01-17   19.36\n",
       "2023-01-18   20.34\n",
       "2023-01-19   20.52\n",
       "2023-01-20   19.85\n",
       "2023-01-23   19.81"
      ]
     },
     "execution_count": 19,
     "metadata": {},
     "output_type": "execute_result"
    }
   ],
   "source": [
    "# Setting the beginning and end of the historical data\n",
    "start_date = '1990-01-01'\n",
    "end_date   = '2023-01-23'\n",
    "# Creating a dataframe and downloading the VIX data\n",
    "vix = pdr.DataReader('VIXCLS', 'fred', start_date, end_date)\n",
    "# Calculating the number of nan values\n",
    "count_nan = vix['VIXCLS'].isnull().sum()\n",
    "# Printing the result\n",
    "print('Number of nan values in the VIX dataframe: ' + str(count_nan))\n",
    "# Printing the latest five observations of the dataframe\n",
    "vix.tail()"
   ]
  },
  {
   "cell_type": "code",
   "execution_count": 20,
   "id": "62dc2d5b",
   "metadata": {
    "colab": {
     "base_uri": "https://localhost:8080/",
     "height": 586
    },
    "id": "62dc2d5b",
    "outputId": "4bc073b6-f767-4daa-b494-96747fee5403",
    "slideshow": {
     "slide_type": "subslide"
    }
   },
   "outputs": [
    {
     "name": "stdout",
     "output_type": "stream",
     "text": [
      "The mean of the dataset = 0.00030844935189630385\n"
     ]
    }
   ],
   "source": [
    "# Dropping the NaN values from the rows\n",
    "vix = vix.dropna()\n",
    "# Taking the differences in an attempt to make the data stationary\n",
    "# (see appendix for a description of the diff method)\n",
    "vix = vix.diff(periods = 1, axis = 0)\n",
    "# Dropping the first value of the data frame\n",
    "# This statement modifies vix by selecting a subset of its rows and\n",
    "# columns using .iloc[], which is used for integer-based indexing in Pandas.\n",
    "# Remember python slicing-> [1:, ] (Row selection) → Excludes the first row (index 0) and keeps all rows from index 1 onward.\n",
    "#                           [, : ] (Column selection) → Selects all columns.\n",
    "vix = vix.iloc[1: , :]\n",
    "# Calculating the mean of the dataset\n",
    "mean = vix[\"VIXCLS\"].mean()\n",
    "# Printing the result\n",
    "print('The mean of the dataset = ' + str(mean))"
   ]
  },
  {
   "cell_type": "code",
   "execution_count": 21,
   "id": "ab1f5d7a",
   "metadata": {
    "slideshow": {
     "slide_type": "subslide"
    }
   },
   "outputs": [
    {
     "data": {
      "image/png": "[encoded data removed]",
      "text/plain": [
       "<Figure size 1000x300 with 1 Axes>"
      ]
     },
     "metadata": {},
     "output_type": "display_data"
    }
   ],
   "source": [
    "plt.figure(figsize=(10,3))\n",
    "# Plotting the latest 250 observations in black with a label\n",
    "# Note the negative index ...\n",
    "plt.plot(vix[-250:], color = 'black', linewidth = 1.5, label = 'Change in VIX')\n",
    "# Plotting a red dashed horizontal line that is equal to mean\n",
    "plt.axhline(y = mean, color = 'red', linestyle = 'dashed')\n",
    "# Calling a grid to facilitate the visual component\n",
    "plt.grid()\n",
    "# Calling the legend function so it appears with the chart\n",
    "plt.legend()\n",
    "# Calling the plot\n",
    "plt.show()"
   ]
  },
  {
   "cell_type": "markdown",
   "id": "5070e9ed",
   "metadata": {
    "id": "5070e9ed",
    "slideshow": {
     "slide_type": "subslide"
    }
   },
   "source": [
    "#### CPIAUCSL Data in the FRED Database\n",
    "\n",
    "The CPIAUCSL is a dataset in the FRED (Federal Reserve Economic Data) database representing the **Consumer Price Index for All Urban Consumers: All Items, Seasonally Adjusted**. It is a key economic indicator published by the Bureau of Labor Statistics (BLS) and provides a measure of the average change in prices paid by urban consumers for a broad basket of goods and services over time. The CPIAUCSL measures inflation by tracking the price changes of goods and services consumed by urban households, which comprise about 93% of the U.S. population.\n",
    "\n",
    "**Data Characteristics**\n",
    "\n",
    "- Frequency: Monthly\n",
    "- Units: Index (1982–1984 = 100) The base period is set to 1982–1984, meaning the average index value during that period is 100.\n",
    "- Seasonal Adjustment: The data is adjusted for predictable seasonal patterns to provide a clearer picture of underlying trends."
   ]
  },
  {
   "cell_type": "code",
   "execution_count": 22,
   "id": "16137705",
   "metadata": {
    "colab": {
     "base_uri": "https://localhost:8080/"
    },
    "id": "16137705",
    "outputId": "5c6d65f6-4994-4d66-8dd2-a539d4731f40",
    "slideshow": {
     "slide_type": "subslide"
    }
   },
   "outputs": [
    {
     "name": "stdout",
     "output_type": "stream",
     "text": [
      "            CPIAUCSL\n",
      "DATE                \n",
      "2022-09-01   296.421\n",
      "2022-10-01   297.979\n",
      "2022-11-01   298.708\n",
      "2022-12-01   298.808\n",
      "2023-01-01   300.456\n"
     ]
    }
   ],
   "source": [
    "# Setting the beginning and end of the historical data\n",
    "start_date = '1950-01-01'\n",
    "end_date   = '2023-01-23'\n",
    "\n",
    "# Creating a dataframe and downloading the CPI data\n",
    "cpi = pdr.DataReader('CPIAUCSL', 'fred', start_date, end_date)\n",
    "\n",
    "# Printing the latest five observations of the dataframe\n",
    "print(cpi.tail())"
   ]
  },
  {
   "cell_type": "code",
   "execution_count": 23,
   "id": "ed3e9dba",
   "metadata": {
    "colab": {
     "base_uri": "https://localhost:8080/"
    },
    "id": "ed3e9dba",
    "outputId": "4c4af902-261e-49b4-c5a0-d0702559d4a0",
    "slideshow": {
     "slide_type": "subslide"
    }
   },
   "outputs": [
    {
     "name": "stdout",
     "output_type": "stream",
     "text": [
      "Number of nan values in the CPI dataframe: 0\n"
     ]
    }
   ],
   "source": [
    "# Checking if there are nan values in the CPI dataframe\n",
    "count_nan = cpi['CPIAUCSL'].isnull().sum()\n",
    "\n",
    "# Printing the result\n",
    "print('Number of nan values in the CPI dataframe: ' + str(count_nan))\n",
    "\n",
    "# Transforming the CPI into a year-on-year measure\n",
    "# The pct_change() method in Pandas calculates the\n",
    "# percentage change between consecutive elements in\n",
    "# a Series or DataFrame.\n",
    "cpi = cpi.pct_change(periods = 12, axis = 0) * 100\n",
    "\n",
    "# Dropping the nan values from the rows\n",
    "cpi = cpi.dropna()"
   ]
  },
  {
   "cell_type": "code",
   "execution_count": 24,
   "id": "35c0756b",
   "metadata": {
    "slideshow": {
     "slide_type": "subslide"
    }
   },
   "outputs": [
    {
     "name": "stdout",
     "output_type": "stream",
     "text": [
      "\n",
      "----------------------------------------------------------------------------------------------------\n",
      "Dataframe BEFORE index resetting\n",
      "----------------------------------------------------------------------------------------------------\n"
     ]
    },
    {
     "data": {
      "text/html": [
       "<div>\n",
       "<style scoped>\n",
       "    .dataframe tbody tr th:only-of-type {\n",
       "        vertical-align: middle;\n",
       "    }\n",
       "\n",
       "    .dataframe tbody tr th {\n",
       "        vertical-align: top;\n",
       "    }\n",
       "\n",
       "    .dataframe thead th {\n",
       "        text-align: right;\n",
       "    }\n",
       "</style>\n",
       "<table border=\"1\" class=\"dataframe\">\n",
       "  <thead>\n",
       "    <tr style=\"text-align: right;\">\n",
       "      <th></th>\n",
       "      <th>CPIAUCSL</th>\n",
       "    </tr>\n",
       "    <tr>\n",
       "      <th>DATE</th>\n",
       "      <th></th>\n",
       "    </tr>\n",
       "  </thead>\n",
       "  <tbody>\n",
       "    <tr>\n",
       "      <th>1951-01-01</th>\n",
       "      <td>7.954062</td>\n",
       "    </tr>\n",
       "    <tr>\n",
       "      <th>1951-02-01</th>\n",
       "      <td>9.402795</td>\n",
       "    </tr>\n",
       "    <tr>\n",
       "      <th>1951-03-01</th>\n",
       "      <td>9.475465</td>\n",
       "    </tr>\n",
       "    <tr>\n",
       "      <th>1951-04-01</th>\n",
       "      <td>9.598309</td>\n",
       "    </tr>\n",
       "    <tr>\n",
       "      <th>1951-05-01</th>\n",
       "      <td>9.339504</td>\n",
       "    </tr>\n",
       "  </tbody>\n",
       "</table>\n",
       "</div>"
      ],
      "text/plain": [
       "            CPIAUCSL\n",
       "DATE                \n",
       "1951-01-01  7.954062\n",
       "1951-02-01  9.402795\n",
       "1951-03-01  9.475465\n",
       "1951-04-01  9.598309\n",
       "1951-05-01  9.339504"
      ]
     },
     "execution_count": 24,
     "metadata": {},
     "output_type": "execute_result"
    }
   ],
   "source": [
    "print(\"\\n\" + 100*\"-\")\n",
    "print(\"Dataframe BEFORE index resetting\")\n",
    "print(100*\"-\")\n",
    "cpi.head()"
   ]
  },
  {
   "cell_type": "code",
   "execution_count": 25,
   "id": "bc5ce64b",
   "metadata": {
    "colab": {
     "base_uri": "https://localhost:8080/"
    },
    "id": "bc5ce64b",
    "outputId": "84b7f4d1-1270-4e36-9042-264dfc15b2c6",
    "slideshow": {
     "slide_type": "subslide"
    }
   },
   "outputs": [
    {
     "name": "stdout",
     "output_type": "stream",
     "text": [
      "\n",
      "----------------------------------------------------------------------------------------------------\n",
      "Dataframe AFTER index resetting\n",
      "----------------------------------------------------------------------------------------------------\n"
     ]
    },
    {
     "data": {
      "text/html": [
       "<div>\n",
       "<style scoped>\n",
       "    .dataframe tbody tr th:only-of-type {\n",
       "        vertical-align: middle;\n",
       "    }\n",
       "\n",
       "    .dataframe tbody tr th {\n",
       "        vertical-align: top;\n",
       "    }\n",
       "\n",
       "    .dataframe thead th {\n",
       "        text-align: right;\n",
       "    }\n",
       "</style>\n",
       "<table border=\"1\" class=\"dataframe\">\n",
       "  <thead>\n",
       "    <tr style=\"text-align: right;\">\n",
       "      <th></th>\n",
       "      <th>DATE</th>\n",
       "      <th>CPIAUCSL</th>\n",
       "    </tr>\n",
       "  </thead>\n",
       "  <tbody>\n",
       "    <tr>\n",
       "      <th>0</th>\n",
       "      <td>1951-01-01</td>\n",
       "      <td>7.954062</td>\n",
       "    </tr>\n",
       "    <tr>\n",
       "      <th>1</th>\n",
       "      <td>1951-02-01</td>\n",
       "      <td>9.402795</td>\n",
       "    </tr>\n",
       "    <tr>\n",
       "      <th>2</th>\n",
       "      <td>1951-03-01</td>\n",
       "      <td>9.475465</td>\n",
       "    </tr>\n",
       "    <tr>\n",
       "      <th>3</th>\n",
       "      <td>1951-04-01</td>\n",
       "      <td>9.598309</td>\n",
       "    </tr>\n",
       "    <tr>\n",
       "      <th>4</th>\n",
       "      <td>1951-05-01</td>\n",
       "      <td>9.339504</td>\n",
       "    </tr>\n",
       "  </tbody>\n",
       "</table>\n",
       "</div>"
      ],
      "text/plain": [
       "        DATE  CPIAUCSL\n",
       "0 1951-01-01  7.954062\n",
       "1 1951-02-01  9.402795\n",
       "2 1951-03-01  9.475465\n",
       "3 1951-04-01  9.598309\n",
       "4 1951-05-01  9.339504"
      ]
     },
     "execution_count": 25,
     "metadata": {},
     "output_type": "execute_result"
    }
   ],
   "source": [
    "# Resetting the index\n",
    "cpi = cpi.reset_index()\n",
    "print(\"\\n\"+100*\"-\")\n",
    "print(\"Dataframe AFTER index resetting\")\n",
    "print(100*\"-\")\n",
    "cpi.head()"
   ]
  },
  {
   "cell_type": "code",
   "execution_count": 26,
   "id": "c7374e7c",
   "metadata": {
    "colab": {
     "base_uri": "https://localhost:8080/",
     "height": 430
    },
    "id": "c7374e7c",
    "outputId": "210fd776-3eb8-4d10-c464-c1dda3d4f56b",
    "slideshow": {
     "slide_type": "subslide"
    }
   },
   "outputs": [
    {
     "data": {
      "image/png": "[encoded data removed]",
      "text/plain": [
       "<Figure size 1000x300 with 1 Axes>"
      ]
     },
     "metadata": {},
     "output_type": "display_data"
    }
   ],
   "source": [
    "# Creating the chart\n",
    "fig, ax = plt.subplots(figsize=(10,3))\n",
    "ax.scatter(cpi['DATE'], cpi['CPIAUCSL'], color = 'black',\n",
    "           s = 8,  label = 'Change in CPI Year-on-Year')\n",
    "# Calling the grid function for better interpretability\n",
    "plt.grid()\n",
    "# Calling the legend function to show the labels\n",
    "plt.legend()\n",
    "# Showing the plot\n",
    "plt.show()"
   ]
  },
  {
   "cell_type": "markdown",
   "id": "e1c4c040",
   "metadata": {
    "id": "e1c4c040",
    "slideshow": {
     "slide_type": "subslide"
    }
   },
   "source": [
    "Let's make some comparison with the UK using che `GBRCPIALLMINMEI` index. The GBRCPIALLMINMEI dataset in the FRED (Federal Reserve Economic Data) database represents the Consumer Price Index (CPI) for All Items in the United Kingdom, not seasonally adjusted. It is a measure of the average change over time in the prices paid by consumers in the UK for a broad basket of goods and services."
   ]
  },
  {
   "cell_type": "code",
   "execution_count": 27,
   "id": "7e32e422",
   "metadata": {
    "id": "7e32e422",
    "slideshow": {
     "slide_type": "fragment"
    }
   },
   "outputs": [],
   "source": [
    "# Setting the beginning and end of the historical data\n",
    "start_date = '1995-01-01'\n",
    "end_date   = '2022-12-01'"
   ]
  },
  {
   "cell_type": "code",
   "execution_count": 28,
   "id": "41f9daa4",
   "metadata": {
    "id": "41f9daa4",
    "slideshow": {
     "slide_type": "subslide"
    }
   },
   "outputs": [],
   "source": [
    "# Creating a dataframe and downloading the CPI data using its code name and its source\n",
    "cpi_us = pdr.DataReader('CPIAUCSL', 'fred', start_date, end_date)\n",
    "cpi_uk = pdr.DataReader('GBRCPIALLMINMEI', 'fred', start_date, end_date)"
   ]
  },
  {
   "cell_type": "code",
   "execution_count": 29,
   "id": "83d7b734",
   "metadata": {
    "id": "83d7b734",
    "slideshow": {
     "slide_type": "fragment"
    }
   },
   "outputs": [],
   "source": [
    "# Dropping the NaN values from the rows\n",
    "cpi_us = cpi_us.dropna()\n",
    "cpi_uk = cpi_uk.dropna()"
   ]
  },
  {
   "cell_type": "code",
   "execution_count": 30,
   "id": "71be6320",
   "metadata": {
    "id": "71be6320",
    "slideshow": {
     "slide_type": "subslide"
    }
   },
   "outputs": [],
   "source": [
    "# Transforming the CPI into a year-on-year measure\n",
    "cpi_us = cpi_us.pct_change(periods = 12, axis = 0) * 100\n",
    "cpi_us = cpi_us.dropna()\n",
    "cpi_uk = cpi_uk.pct_change(periods = 12, axis = 0) * 100\n",
    "cpi_uk = cpi_uk.dropna()"
   ]
  },
  {
   "cell_type": "code",
   "execution_count": 31,
   "id": "73a81f80",
   "metadata": {
    "colab": {
     "base_uri": "https://localhost:8080/",
     "height": 452
    },
    "id": "73a81f80",
    "outputId": "3a47bcc9-55d6-43f3-e620-9bb1417469df",
    "slideshow": {
     "slide_type": "subslide"
    }
   },
   "outputs": [
    {
     "data": {
      "image/png": "[encoded data removed]",
      "text/plain": [
       "<Figure size 1000x300 with 1 Axes>"
      ]
     },
     "metadata": {},
     "output_type": "display_data"
    }
   ],
   "source": [
    "# Creating the chart\n",
    "fig, ax = plt.subplots(figsize=(10,3))\n",
    "ax.scatter(cpi_us['CPIAUCSL'], cpi_uk['GBRCPIALLMINMEI'], color = 'black', s = 8, label = 'Change in CPI Year-on-Year')\n",
    "# Adding a few aesthetic elements to the chart\n",
    "ax.set_xlabel('US CPI')\n",
    "ax.set_ylabel('UK CPI')\n",
    "ax.axvline(x = 0, color='blue', linestyle = 'dashed', linewidth = 1)  # vertical line\n",
    "ax.axhline(y = 0, color='blue', linestyle = 'dashed', linewidth = 1)  # horizontal line\n",
    "ax.set_ylim(-2,)\n",
    "# Calling the grid function for better interpretability\n",
    "plt.grid()\n",
    "# Calling the legend function to show the labels\n",
    "plt.legend()\n",
    "# Showing the plot\n",
    "plt.show()"
   ]
  },
  {
   "cell_type": "markdown",
   "id": "e8493cb4",
   "metadata": {
    "id": "e8493cb4",
    "slideshow": {
     "slide_type": "subslide"
    }
   },
   "source": [
    "## What are Bars?"
   ]
  },
  {
   "cell_type": "markdown",
   "id": "999227df",
   "metadata": {
    "slideshow": {
     "slide_type": "fragment"
    }
   },
   "source": [
    "In the context of **financial data structures**, the term **BAR** refers to a fundamental unit of time-based price data used primarily in **technical analysis** and charting. A \"bar\" aggregates market data over a specific period, such as a minute, an hour, a day, or even a week, to represent price movements for that duration. Generally, each bar contains four key price components:\n",
    "\n",
    "1. **Open Price**: The price at which the first trade occurred during the bar's time period.  \n",
    "2. **High Price**: The highest price reached during the bar's time period.  \n",
    "3. **Low Price**: The lowest price reached during the bar's time period.  \n",
    "4. **Close Price**: The price at which the last trade occurred during the bar's time period.  \n",
    "\n",
    "Together, these four prices form what is known as an **OHLC** bar (Open-High-Low-Close). Each bar also includes a **volume** component, representing the total quantity of assets traded during that period."
   ]
  },
  {
   "cell_type": "markdown",
   "id": "3274a79a",
   "metadata": {
    "slideshow": {
     "slide_type": "subslide"
    }
   },
   "source": [
    "### Visual Representation of a BAR  \n",
    "\n",
    "- **Body**: A vertical line between the high and low prices indicates the price range for the time period.  \n",
    "- **Tick marks**:\n",
    "   - A small horizontal tick to the left represents the **open price**.\n",
    "   - A small horizontal tick to the right represents the **close price**.\n",
    "\n",
    "<div align='center'>\n",
    "<img src=\"./pic/lesson-1-3_pic_11.png\" width=500px />\n",
    "</div>"
   ]
  },
  {
   "cell_type": "markdown",
   "id": "5369e98a",
   "metadata": {
    "id": "5369e98a",
    "slideshow": {
     "slide_type": "subslide"
    }
   },
   "source": [
    "### Applications of BAR in Financial Data Structures\n",
    "\n",
    "1. **Charting and Visualization**: Bars are used to create bar charts, where each bar shows price movement for a set period. This is useful for visualizing trends over time.  \n",
    "2. **Technical Indicators**: Bars provide inputs for calculating indicators such as moving averages, Relative Strength Index (RSI), Bollinger Bands, etc.  \n",
    "3. **Trading Strategies**: Traders analyze bar data to identify patterns like price breakouts, reversals, or continuation patterns.  \n",
    "4. **Aggregation of Data**: Bars can be aggregated into different timeframes (e.g., 1-minute bars into 15-minute bars, daily bars into weekly bars).  \n",
    "\n",
    "### Types of Bars  \n",
    "\n",
    "- **Time-Based Bars**: Aggregated based on fixed time intervals (e.g., 1 minute, 1 hour, 1 day).  \n",
    "- **Volume-Based Bars**: A new bar is formed after a specified number of units are traded.  \n",
    "- **Range Bars**: Created when the price moves a specified range (e.g., 10 points).  \n",
    "- **Tick Bars**: A bar is created after a certain number of trades (e.g., 100 trades).\n",
    "\n",
    "The **BAR** concept, while simple, is a powerful way to represent market data efficiently and serves as the foundation for most financial data structures used in trading systems and analytics."
   ]
  },
  {
   "cell_type": "markdown",
   "id": "bd12d664",
   "metadata": {
    "id": "bd12d664",
    "slideshow": {
     "slide_type": "slide"
    }
   },
   "source": [
    "## Yahoo! Finance"
   ]
  },
  {
   "cell_type": "markdown",
   "id": "94912cd8",
   "metadata": {
    "id": "94912cd8",
    "slideshow": {
     "slide_type": "fragment"
    }
   },
   "source": [
    "Yahoo Finance is a widely used platform for accessing financial market data, including stock prices, historical data, and company financials. By using the `yfinance` Python library, we can programmatically access this data and process it with pandas."
   ]
  },
  {
   "cell_type": "markdown",
   "id": "28781cdf",
   "metadata": {
    "id": "28781cdf",
    "slideshow": {
     "slide_type": "fragment"
    }
   },
   "source": [
    "**Import Required Libraries**\n",
    "\n",
    "Begin by importing the necessary libraries:"
   ]
  },
  {
   "cell_type": "code",
   "execution_count": 32,
   "id": "be82c078",
   "metadata": {
    "id": "be82c078",
    "slideshow": {
     "slide_type": "fragment"
    }
   },
   "outputs": [],
   "source": [
    "import yfinance as yf"
   ]
  },
  {
   "cell_type": "code",
   "execution_count": 33,
   "id": "f6ec86bd",
   "metadata": {
    "slideshow": {
     "slide_type": "skip"
    }
   },
   "outputs": [
    {
     "name": "stdout",
     "output_type": "stream",
     "text": [
      "Actual yfinance Version : 0.2.54  - Original Notebook use 0.2.36\n"
     ]
    }
   ],
   "source": [
    "print(\"Actual yfinance Version :\", yf.__version__, \" - Original Notebook use 0.2.36\")"
   ]
  },
  {
   "cell_type": "markdown",
   "id": "0910f6a3",
   "metadata": {
    "id": "0910f6a3",
    "slideshow": {
     "slide_type": "subslide"
    }
   },
   "source": [
    "### Stocks"
   ]
  },
  {
   "cell_type": "markdown",
   "id": "cb4504c3",
   "metadata": {
    "id": "cb4504c3",
    "slideshow": {
     "slide_type": "fragment"
    }
   },
   "source": [
    "**Single Ticker**\n",
    "\n",
    "To download historical data for a single stock. This returns a pandas DataFrame containing open, high, low, close, volume, and adjusted close prices."
   ]
  },
  {
   "cell_type": "code",
   "execution_count": 34,
   "id": "2577c250",
   "metadata": {
    "colab": {
     "base_uri": "https://localhost:8080/",
     "height": 255
    },
    "id": "2577c250",
    "outputId": "a912cceb-2f55-4839-8680-0d0c360118c5",
    "slideshow": {
     "slide_type": "fragment"
    }
   },
   "outputs": [
    {
     "name": "stderr",
     "output_type": "stream",
     "text": [
      "[*********************100%***********************]  1 of 1 completed\n"
     ]
    },
    {
     "data": {
      "text/html": [
       "<div>\n",
       "<style scoped>\n",
       "    .dataframe tbody tr th:only-of-type {\n",
       "        vertical-align: middle;\n",
       "    }\n",
       "\n",
       "    .dataframe tbody tr th {\n",
       "        vertical-align: top;\n",
       "    }\n",
       "\n",
       "    .dataframe thead tr th {\n",
       "        text-align: left;\n",
       "    }\n",
       "\n",
       "    .dataframe thead tr:last-of-type th {\n",
       "        text-align: right;\n",
       "    }\n",
       "</style>\n",
       "<table border=\"1\" class=\"dataframe\">\n",
       "  <thead>\n",
       "    <tr>\n",
       "      <th>Price</th>\n",
       "      <th>Close</th>\n",
       "      <th>High</th>\n",
       "      <th>Low</th>\n",
       "      <th>Open</th>\n",
       "      <th>Volume</th>\n",
       "    </tr>\n",
       "    <tr>\n",
       "      <th>Ticker</th>\n",
       "      <th>AAPL</th>\n",
       "      <th>AAPL</th>\n",
       "      <th>AAPL</th>\n",
       "      <th>AAPL</th>\n",
       "      <th>AAPL</th>\n",
       "    </tr>\n",
       "    <tr>\n",
       "      <th>Date</th>\n",
       "      <th></th>\n",
       "      <th></th>\n",
       "      <th></th>\n",
       "      <th></th>\n",
       "      <th></th>\n",
       "    </tr>\n",
       "  </thead>\n",
       "  <tbody>\n",
       "    <tr>\n",
       "      <th>2020-01-02</th>\n",
       "      <td>72.716080</td>\n",
       "      <td>72.776606</td>\n",
       "      <td>71.466820</td>\n",
       "      <td>71.721026</td>\n",
       "      <td>135480400</td>\n",
       "    </tr>\n",
       "    <tr>\n",
       "      <th>2020-01-03</th>\n",
       "      <td>72.009117</td>\n",
       "      <td>72.771745</td>\n",
       "      <td>71.783962</td>\n",
       "      <td>71.941328</td>\n",
       "      <td>146322800</td>\n",
       "    </tr>\n",
       "    <tr>\n",
       "      <th>2020-01-06</th>\n",
       "      <td>72.582901</td>\n",
       "      <td>72.621639</td>\n",
       "      <td>70.876068</td>\n",
       "      <td>71.127858</td>\n",
       "      <td>118387200</td>\n",
       "    </tr>\n",
       "    <tr>\n",
       "      <th>2020-01-07</th>\n",
       "      <td>72.241562</td>\n",
       "      <td>72.849239</td>\n",
       "      <td>72.021246</td>\n",
       "      <td>72.592609</td>\n",
       "      <td>108872000</td>\n",
       "    </tr>\n",
       "    <tr>\n",
       "      <th>2020-01-08</th>\n",
       "      <td>73.403648</td>\n",
       "      <td>73.706279</td>\n",
       "      <td>71.943759</td>\n",
       "      <td>71.943759</td>\n",
       "      <td>132079200</td>\n",
       "    </tr>\n",
       "  </tbody>\n",
       "</table>\n",
       "</div>"
      ],
      "text/plain": [
       "Price           Close       High        Low       Open     Volume\n",
       "Ticker           AAPL       AAPL       AAPL       AAPL       AAPL\n",
       "Date                                                             \n",
       "2020-01-02  72.716080  72.776606  71.466820  71.721026  135480400\n",
       "2020-01-03  72.009117  72.771745  71.783962  71.941328  146322800\n",
       "2020-01-06  72.582901  72.621639  70.876068  71.127858  118387200\n",
       "2020-01-07  72.241562  72.849239  72.021246  72.592609  108872000\n",
       "2020-01-08  73.403648  73.706279  71.943759  71.943759  132079200"
      ]
     },
     "execution_count": 34,
     "metadata": {},
     "output_type": "execute_result"
    }
   ],
   "source": [
    "# Download historical data for Apple (AAPL)\n",
    "apple_data = yf.download(\"AAPL\", start=\"2020-01-01\", end=\"2022-01-01\")\n",
    "apple_data.head()"
   ]
  },
  {
   "cell_type": "code",
   "execution_count": 35,
   "id": "5b840f59",
   "metadata": {
    "colab": {
     "base_uri": "https://localhost:8080/"
    },
    "id": "5b840f59",
    "outputId": "2bb861a3-9432-4337-c159-10858190dd79",
    "slideshow": {
     "slide_type": "skip"
    }
   },
   "outputs": [],
   "source": [
    "# When we run this notebook in google colab we have to install the module mplfinance\n",
    "#!pip install mplfinance"
   ]
  },
  {
   "cell_type": "code",
   "execution_count": 40,
   "id": "7e048c04",
   "metadata": {
    "slideshow": {
     "slide_type": "skip"
    }
   },
   "outputs": [
    {
     "name": "stdout",
     "output_type": "stream",
     "text": [
      "Actual mplfinance Version : 0.12.10b0  - Original Notebook use 0.12.10b0\n"
     ]
    }
   ],
   "source": [
    "import mplfinance as mpf\n",
    "\n",
    "print(\"Actual mplfinance Version :\", mpf.__version__, \" - Original Notebook use 0.12.10b0\")"
   ]
  },
  {
   "cell_type": "code",
   "execution_count": 41,
   "id": "8bbd8258",
   "metadata": {
    "colab": {
     "base_uri": "https://localhost:8080/",
     "height": 349
    },
    "id": "8bbd8258",
    "outputId": "d691035d-cdba-4f04-ca2a-240f5ee7562b",
    "slideshow": {
     "slide_type": "subslide"
    }
   },
   "outputs": [
    {
     "name": "stderr",
     "output_type": "stream",
     "text": [
      "[*********************100%***********************]  1 of 1 completed\n"
     ]
    },
    {
     "data": {
      "text/html": [
       "<div>\n",
       "<style scoped>\n",
       "    .dataframe tbody tr th:only-of-type {\n",
       "        vertical-align: middle;\n",
       "    }\n",
       "\n",
       "    .dataframe tbody tr th {\n",
       "        vertical-align: top;\n",
       "    }\n",
       "\n",
       "    .dataframe thead tr th {\n",
       "        text-align: left;\n",
       "    }\n",
       "\n",
       "    .dataframe thead tr:last-of-type th {\n",
       "        text-align: right;\n",
       "    }\n",
       "</style>\n",
       "<table border=\"1\" class=\"dataframe\">\n",
       "  <thead>\n",
       "    <tr>\n",
       "      <th>Price</th>\n",
       "      <th>Close</th>\n",
       "      <th>High</th>\n",
       "      <th>Low</th>\n",
       "      <th>Open</th>\n",
       "      <th>Volume</th>\n",
       "    </tr>\n",
       "    <tr>\n",
       "      <th>Ticker</th>\n",
       "      <th>AAPL</th>\n",
       "      <th>AAPL</th>\n",
       "      <th>AAPL</th>\n",
       "      <th>AAPL</th>\n",
       "      <th>AAPL</th>\n",
       "    </tr>\n",
       "    <tr>\n",
       "      <th>Date</th>\n",
       "      <th></th>\n",
       "      <th></th>\n",
       "      <th></th>\n",
       "      <th></th>\n",
       "      <th></th>\n",
       "    </tr>\n",
       "  </thead>\n",
       "  <tbody>\n",
       "    <tr>\n",
       "      <th>2024-11-01</th>\n",
       "      <td>222.420471</td>\n",
       "      <td>224.855115</td>\n",
       "      <td>219.786270</td>\n",
       "      <td>220.484729</td>\n",
       "      <td>65276700</td>\n",
       "    </tr>\n",
       "    <tr>\n",
       "      <th>2024-11-04</th>\n",
       "      <td>221.522446</td>\n",
       "      <td>222.300732</td>\n",
       "      <td>219.227509</td>\n",
       "      <td>220.504697</td>\n",
       "      <td>44944500</td>\n",
       "    </tr>\n",
       "    <tr>\n",
       "      <th>2024-11-05</th>\n",
       "      <td>222.959290</td>\n",
       "      <td>223.458192</td>\n",
       "      <td>220.654365</td>\n",
       "      <td>221.312919</td>\n",
       "      <td>28111300</td>\n",
       "    </tr>\n",
       "    <tr>\n",
       "      <th>2024-11-06</th>\n",
       "      <td>222.230896</td>\n",
       "      <td>225.573545</td>\n",
       "      <td>220.704257</td>\n",
       "      <td>222.121137</td>\n",
       "      <td>54561100</td>\n",
       "    </tr>\n",
       "    <tr>\n",
       "      <th>2024-11-07</th>\n",
       "      <td>226.980438</td>\n",
       "      <td>227.379569</td>\n",
       "      <td>224.076840</td>\n",
       "      <td>224.136706</td>\n",
       "      <td>42137700</td>\n",
       "    </tr>\n",
       "  </tbody>\n",
       "</table>\n",
       "</div>"
      ],
      "text/plain": [
       "Price            Close        High         Low        Open    Volume\n",
       "Ticker            AAPL        AAPL        AAPL        AAPL      AAPL\n",
       "Date                                                                \n",
       "2024-11-01  222.420471  224.855115  219.786270  220.484729  65276700\n",
       "2024-11-04  221.522446  222.300732  219.227509  220.504697  44944500\n",
       "2024-11-05  222.959290  223.458192  220.654365  221.312919  28111300\n",
       "2024-11-06  222.230896  225.573545  220.704257  222.121137  54561100\n",
       "2024-11-07  226.980438  227.379569  224.076840  224.136706  42137700"
      ]
     },
     "execution_count": 41,
     "metadata": {},
     "output_type": "execute_result"
    }
   ],
   "source": [
    "# Download historical data for Apple (AAPL)\n",
    "apple_data = yf.download(\"AAPL\", start=\"2024-11-01\", end=\"2025-01-31\")\n",
    "apple_data.head()"
   ]
  },
  {
   "cell_type": "code",
   "execution_count": 42,
   "id": "lpB2fBN96Ycn",
   "metadata": {
    "colab": {
     "base_uri": "https://localhost:8080/"
    },
    "id": "lpB2fBN96Ycn",
    "outputId": "2e43d58d-2fd2-40ea-f2b8-54027099811b",
    "slideshow": {
     "slide_type": "subslide"
    }
   },
   "outputs": [
    {
     "name": "stdout",
     "output_type": "stream",
     "text": [
      "Price   Ticker\n",
      "Close   AAPL      float64\n",
      "High    AAPL      float64\n",
      "Low     AAPL      float64\n",
      "Open    AAPL      float64\n",
      "Volume  AAPL        int64\n",
      "dtype: object\n"
     ]
    }
   ],
   "source": [
    "# Ensure all values are numeric\n",
    "apple_data = apple_data.apply(pd.to_numeric, errors='coerce')\n",
    "# Drop rows with NaN values\n",
    "apple_data.dropna(inplace=True)\n",
    "# mplfinance requires the DataFrame's index to be in DateTime format.\n",
    "apple_data.index = pd.to_datetime(apple_data.index)\n",
    "print(apple_data.dtypes)"
   ]
  },
  {
   "cell_type": "code",
   "execution_count": 43,
   "id": "ItdJk0nr6DMW",
   "metadata": {
    "colab": {
     "base_uri": "https://localhost:8080/",
     "height": 736
    },
    "id": "ItdJk0nr6DMW",
    "outputId": "aaf135f4-522d-4bb2-9f29-8a56fd3a72cf",
    "slideshow": {
     "slide_type": "subslide"
    }
   },
   "outputs": [
    {
     "data": {
      "text/plain": [
       "\"\\nmpf.plot(\\n    apple_data,\\n    type='candle',  # 'candle' for candlestick chart\\n    style='yahoo',  # Yahoo Finance style\\n    title='Apple (AAPL) OHLC Chart',\\n    ylabel='Price (USD)',\\n    volume=True,    # Include volume in the plot\\n    figsize=(12, 3) # Set the size of the plot\\n)\\n\""
      ]
     },
     "execution_count": 43,
     "metadata": {},
     "output_type": "execute_result"
    }
   ],
   "source": [
    "# Plot the OHLC chart\n",
    "'''\n",
    "mpf.plot(\n",
    "    apple_data,\n",
    "    type='candle',  # 'candle' for candlestick chart\n",
    "    style='yahoo',  # Yahoo Finance style\n",
    "    title='Apple (AAPL) OHLC Chart',\n",
    "    ylabel='Price (USD)',\n",
    "    volume=True,    # Include volume in the plot\n",
    "    figsize=(12, 3) # Set the size of the plot\n",
    ")\n",
    "'''"
   ]
  },
  {
   "cell_type": "markdown",
   "id": "8f6ba380",
   "metadata": {
    "id": "8f6ba380",
    "slideshow": {
     "slide_type": "subslide"
    }
   },
   "source": [
    "**Multiple Tickers**\n",
    "\n",
    "To fetch data for multiple stocks:"
   ]
  },
  {
   "cell_type": "code",
   "execution_count": 44,
   "id": "0f5c7574",
   "metadata": {
    "id": "0f5c7574",
    "outputId": "7a2655df-78aa-48fe-be0e-159621222127",
    "slideshow": {
     "slide_type": "fragment"
    }
   },
   "outputs": [
    {
     "name": "stderr",
     "output_type": "stream",
     "text": [
      "[*********************100%***********************]  3 of 3 completed\n"
     ]
    },
    {
     "data": {
      "text/html": [
       "<div>\n",
       "<style scoped>\n",
       "    .dataframe tbody tr th:only-of-type {\n",
       "        vertical-align: middle;\n",
       "    }\n",
       "\n",
       "    .dataframe tbody tr th {\n",
       "        vertical-align: top;\n",
       "    }\n",
       "\n",
       "    .dataframe thead tr th {\n",
       "        text-align: left;\n",
       "    }\n",
       "\n",
       "    .dataframe thead tr:last-of-type th {\n",
       "        text-align: right;\n",
       "    }\n",
       "</style>\n",
       "<table border=\"1\" class=\"dataframe\">\n",
       "  <thead>\n",
       "    <tr>\n",
       "      <th>Price</th>\n",
       "      <th colspan=\"3\" halign=\"left\">Close</th>\n",
       "      <th colspan=\"3\" halign=\"left\">High</th>\n",
       "      <th colspan=\"3\" halign=\"left\">Low</th>\n",
       "      <th colspan=\"3\" halign=\"left\">Open</th>\n",
       "      <th colspan=\"3\" halign=\"left\">Volume</th>\n",
       "    </tr>\n",
       "    <tr>\n",
       "      <th>Ticker</th>\n",
       "      <th>AAPL</th>\n",
       "      <th>GOOGL</th>\n",
       "      <th>MSFT</th>\n",
       "      <th>AAPL</th>\n",
       "      <th>GOOGL</th>\n",
       "      <th>MSFT</th>\n",
       "      <th>AAPL</th>\n",
       "      <th>GOOGL</th>\n",
       "      <th>MSFT</th>\n",
       "      <th>AAPL</th>\n",
       "      <th>GOOGL</th>\n",
       "      <th>MSFT</th>\n",
       "      <th>AAPL</th>\n",
       "      <th>GOOGL</th>\n",
       "      <th>MSFT</th>\n",
       "    </tr>\n",
       "    <tr>\n",
       "      <th>Date</th>\n",
       "      <th></th>\n",
       "      <th></th>\n",
       "      <th></th>\n",
       "      <th></th>\n",
       "      <th></th>\n",
       "      <th></th>\n",
       "      <th></th>\n",
       "      <th></th>\n",
       "      <th></th>\n",
       "      <th></th>\n",
       "      <th></th>\n",
       "      <th></th>\n",
       "      <th></th>\n",
       "      <th></th>\n",
       "      <th></th>\n",
       "    </tr>\n",
       "  </thead>\n",
       "  <tbody>\n",
       "    <tr>\n",
       "      <th>2020-01-02</th>\n",
       "      <td>72.716064</td>\n",
       "      <td>68.186821</td>\n",
       "      <td>153.323257</td>\n",
       "      <td>72.776591</td>\n",
       "      <td>68.186821</td>\n",
       "      <td>153.428261</td>\n",
       "      <td>71.466805</td>\n",
       "      <td>67.081331</td>\n",
       "      <td>151.137295</td>\n",
       "      <td>71.721011</td>\n",
       "      <td>67.176985</td>\n",
       "      <td>151.566850</td>\n",
       "      <td>135480400</td>\n",
       "      <td>27278000</td>\n",
       "      <td>22622100</td>\n",
       "    </tr>\n",
       "    <tr>\n",
       "      <th>2020-01-03</th>\n",
       "      <td>72.009132</td>\n",
       "      <td>67.830101</td>\n",
       "      <td>151.414124</td>\n",
       "      <td>72.771760</td>\n",
       "      <td>68.439396</td>\n",
       "      <td>152.683705</td>\n",
       "      <td>71.783977</td>\n",
       "      <td>67.122666</td>\n",
       "      <td>150.879566</td>\n",
       "      <td>71.941343</td>\n",
       "      <td>67.156548</td>\n",
       "      <td>151.127764</td>\n",
       "      <td>146322800</td>\n",
       "      <td>23408000</td>\n",
       "      <td>21116200</td>\n",
       "    </tr>\n",
       "    <tr>\n",
       "      <th>2020-01-06</th>\n",
       "      <td>72.582901</td>\n",
       "      <td>69.638054</td>\n",
       "      <td>151.805496</td>\n",
       "      <td>72.621639</td>\n",
       "      <td>69.663459</td>\n",
       "      <td>151.872323</td>\n",
       "      <td>70.876068</td>\n",
       "      <td>67.306008</td>\n",
       "      <td>149.399972</td>\n",
       "      <td>71.127858</td>\n",
       "      <td>67.337388</td>\n",
       "      <td>149.944085</td>\n",
       "      <td>118387200</td>\n",
       "      <td>46768000</td>\n",
       "      <td>20813700</td>\n",
       "    </tr>\n",
       "    <tr>\n",
       "      <th>2020-01-07</th>\n",
       "      <td>72.241570</td>\n",
       "      <td>69.503548</td>\n",
       "      <td>150.421387</td>\n",
       "      <td>72.849247</td>\n",
       "      <td>69.921535</td>\n",
       "      <td>152.416438</td>\n",
       "      <td>72.021254</td>\n",
       "      <td>69.326691</td>\n",
       "      <td>150.173203</td>\n",
       "      <td>72.592617</td>\n",
       "      <td>69.770083</td>\n",
       "      <td>152.082346</td>\n",
       "      <td>108872000</td>\n",
       "      <td>34330000</td>\n",
       "      <td>21634100</td>\n",
       "    </tr>\n",
       "    <tr>\n",
       "      <th>2020-01-08</th>\n",
       "      <td>73.403633</td>\n",
       "      <td>69.998253</td>\n",
       "      <td>152.817322</td>\n",
       "      <td>73.706264</td>\n",
       "      <td>70.337523</td>\n",
       "      <td>153.495074</td>\n",
       "      <td>71.943744</td>\n",
       "      <td>69.379995</td>\n",
       "      <td>150.774540</td>\n",
       "      <td>71.943744</td>\n",
       "      <td>69.489097</td>\n",
       "      <td>151.710016</td>\n",
       "      <td>132079200</td>\n",
       "      <td>35314000</td>\n",
       "      <td>27746500</td>\n",
       "    </tr>\n",
       "  </tbody>\n",
       "</table>\n",
       "</div>"
      ],
      "text/plain": [
       "Price           Close                              High             \\\n",
       "Ticker           AAPL      GOOGL        MSFT       AAPL      GOOGL   \n",
       "Date                                                                 \n",
       "2020-01-02  72.716064  68.186821  153.323257  72.776591  68.186821   \n",
       "2020-01-03  72.009132  67.830101  151.414124  72.771760  68.439396   \n",
       "2020-01-06  72.582901  69.638054  151.805496  72.621639  69.663459   \n",
       "2020-01-07  72.241570  69.503548  150.421387  72.849247  69.921535   \n",
       "2020-01-08  73.403633  69.998253  152.817322  73.706264  70.337523   \n",
       "\n",
       "Price                         Low                              Open  \\\n",
       "Ticker            MSFT       AAPL      GOOGL        MSFT       AAPL   \n",
       "Date                                                                  \n",
       "2020-01-02  153.428261  71.466805  67.081331  151.137295  71.721011   \n",
       "2020-01-03  152.683705  71.783977  67.122666  150.879566  71.941343   \n",
       "2020-01-06  151.872323  70.876068  67.306008  149.399972  71.127858   \n",
       "2020-01-07  152.416438  72.021254  69.326691  150.173203  72.592617   \n",
       "2020-01-08  153.495074  71.943744  69.379995  150.774540  71.943744   \n",
       "\n",
       "Price                                 Volume                      \n",
       "Ticker          GOOGL        MSFT       AAPL     GOOGL      MSFT  \n",
       "Date                                                              \n",
       "2020-01-02  67.176985  151.566850  135480400  27278000  22622100  \n",
       "2020-01-03  67.156548  151.127764  146322800  23408000  21116200  \n",
       "2020-01-06  67.337388  149.944085  118387200  46768000  20813700  \n",
       "2020-01-07  69.770083  152.082346  108872000  34330000  21634100  \n",
       "2020-01-08  69.489097  151.710016  132079200  35314000  27746500  "
      ]
     },
     "execution_count": 44,
     "metadata": {},
     "output_type": "execute_result"
    }
   ],
   "source": [
    "tickers = [\"AAPL\", \"MSFT\", \"GOOGL\"]\n",
    "data = yf.download(tickers, start=\"2020-01-01\", end=\"2023-12-31\")\n",
    "data.head()"
   ]
  },
  {
   "cell_type": "markdown",
   "id": "c4f520d3",
   "metadata": {
    "id": "c4f520d3",
    "slideshow": {
     "slide_type": "skip"
    }
   },
   "source": [
    "This returns a multi-index DataFrame where the first level of the index contains the tickers.\n",
    "\n",
    "**Closing Prices**\n",
    "\n",
    "To extract the closing prices for all tickers:"
   ]
  },
  {
   "cell_type": "code",
   "execution_count": 45,
   "id": "3ecf0157",
   "metadata": {
    "id": "3ecf0157",
    "outputId": "a14ec41e-910a-4cd3-fd36-0167724cb991",
    "slideshow": {
     "slide_type": "subslide"
    }
   },
   "outputs": [
    {
     "data": {
      "text/html": [
       "<div>\n",
       "<style scoped>\n",
       "    .dataframe tbody tr th:only-of-type {\n",
       "        vertical-align: middle;\n",
       "    }\n",
       "\n",
       "    .dataframe tbody tr th {\n",
       "        vertical-align: top;\n",
       "    }\n",
       "\n",
       "    .dataframe thead th {\n",
       "        text-align: right;\n",
       "    }\n",
       "</style>\n",
       "<table border=\"1\" class=\"dataframe\">\n",
       "  <thead>\n",
       "    <tr style=\"text-align: right;\">\n",
       "      <th>Ticker</th>\n",
       "      <th>AAPL</th>\n",
       "      <th>GOOGL</th>\n",
       "      <th>MSFT</th>\n",
       "    </tr>\n",
       "    <tr>\n",
       "      <th>Date</th>\n",
       "      <th></th>\n",
       "      <th></th>\n",
       "      <th></th>\n",
       "    </tr>\n",
       "  </thead>\n",
       "  <tbody>\n",
       "    <tr>\n",
       "      <th>2020-01-02</th>\n",
       "      <td>72.716064</td>\n",
       "      <td>68.186821</td>\n",
       "      <td>153.323257</td>\n",
       "    </tr>\n",
       "    <tr>\n",
       "      <th>2020-01-03</th>\n",
       "      <td>72.009132</td>\n",
       "      <td>67.830101</td>\n",
       "      <td>151.414124</td>\n",
       "    </tr>\n",
       "    <tr>\n",
       "      <th>2020-01-06</th>\n",
       "      <td>72.582901</td>\n",
       "      <td>69.638054</td>\n",
       "      <td>151.805496</td>\n",
       "    </tr>\n",
       "    <tr>\n",
       "      <th>2020-01-07</th>\n",
       "      <td>72.241570</td>\n",
       "      <td>69.503548</td>\n",
       "      <td>150.421387</td>\n",
       "    </tr>\n",
       "    <tr>\n",
       "      <th>2020-01-08</th>\n",
       "      <td>73.403633</td>\n",
       "      <td>69.998253</td>\n",
       "      <td>152.817322</td>\n",
       "    </tr>\n",
       "  </tbody>\n",
       "</table>\n",
       "</div>"
      ],
      "text/plain": [
       "Ticker           AAPL      GOOGL        MSFT\n",
       "Date                                        \n",
       "2020-01-02  72.716064  68.186821  153.323257\n",
       "2020-01-03  72.009132  67.830101  151.414124\n",
       "2020-01-06  72.582901  69.638054  151.805496\n",
       "2020-01-07  72.241570  69.503548  150.421387\n",
       "2020-01-08  73.403633  69.998253  152.817322"
      ]
     },
     "execution_count": 45,
     "metadata": {},
     "output_type": "execute_result"
    }
   ],
   "source": [
    "close_prices = data[\"Close\"]\n",
    "close_prices.head()"
   ]
  },
  {
   "cell_type": "markdown",
   "id": "3ae10a56",
   "metadata": {
    "id": "3ae10a56",
    "slideshow": {
     "slide_type": "subslide"
    }
   },
   "source": [
    "**Calculating Daily Returns**"
   ]
  },
  {
   "cell_type": "code",
   "execution_count": 46,
   "id": "20a9bc03",
   "metadata": {
    "id": "20a9bc03",
    "outputId": "1fbdf731-4150-4111-b730-9519f8859346",
    "slideshow": {
     "slide_type": "fragment"
    }
   },
   "outputs": [
    {
     "data": {
      "text/html": [
       "<div>\n",
       "<style scoped>\n",
       "    .dataframe tbody tr th:only-of-type {\n",
       "        vertical-align: middle;\n",
       "    }\n",
       "\n",
       "    .dataframe tbody tr th {\n",
       "        vertical-align: top;\n",
       "    }\n",
       "\n",
       "    .dataframe thead th {\n",
       "        text-align: right;\n",
       "    }\n",
       "</style>\n",
       "<table border=\"1\" class=\"dataframe\">\n",
       "  <thead>\n",
       "    <tr style=\"text-align: right;\">\n",
       "      <th>Ticker</th>\n",
       "      <th>AAPL</th>\n",
       "    </tr>\n",
       "    <tr>\n",
       "      <th>Date</th>\n",
       "      <th></th>\n",
       "    </tr>\n",
       "  </thead>\n",
       "  <tbody>\n",
       "    <tr>\n",
       "      <th>2024-11-01</th>\n",
       "      <td>NaN</td>\n",
       "    </tr>\n",
       "    <tr>\n",
       "      <th>2024-11-04</th>\n",
       "      <td>-0.004038</td>\n",
       "    </tr>\n",
       "    <tr>\n",
       "      <th>2024-11-05</th>\n",
       "      <td>0.006486</td>\n",
       "    </tr>\n",
       "    <tr>\n",
       "      <th>2024-11-06</th>\n",
       "      <td>-0.003267</td>\n",
       "    </tr>\n",
       "    <tr>\n",
       "      <th>2024-11-07</th>\n",
       "      <td>0.021372</td>\n",
       "    </tr>\n",
       "  </tbody>\n",
       "</table>\n",
       "</div>"
      ],
      "text/plain": [
       "Ticker          AAPL\n",
       "Date                \n",
       "2024-11-01       NaN\n",
       "2024-11-04 -0.004038\n",
       "2024-11-05  0.006486\n",
       "2024-11-06 -0.003267\n",
       "2024-11-07  0.021372"
      ]
     },
     "execution_count": 46,
     "metadata": {},
     "output_type": "execute_result"
    }
   ],
   "source": [
    "#daily_returns = apple_data[\"Adj Close\"].pct_change()\n",
    "daily_returns = apple_data[\"Close\"].pct_change()\n",
    "daily_returns.head()"
   ]
  },
  {
   "cell_type": "markdown",
   "id": "3456d967",
   "metadata": {
    "id": "3456d967",
    "slideshow": {
     "slide_type": "subslide"
    }
   },
   "source": [
    "**Resampling Data**\n",
    "\n",
    "Resample the data to a monthly and weekly frequency:"
   ]
  },
  {
   "cell_type": "code",
   "execution_count": 47,
   "id": "32a5a750",
   "metadata": {
    "id": "32a5a750",
    "outputId": "37a7a01c-b226-4f26-af00-fa32b6b1e788",
    "slideshow": {
     "slide_type": "fragment"
    }
   },
   "outputs": [
    {
     "data": {
      "text/html": [
       "<div>\n",
       "<style scoped>\n",
       "    .dataframe tbody tr th:only-of-type {\n",
       "        vertical-align: middle;\n",
       "    }\n",
       "\n",
       "    .dataframe tbody tr th {\n",
       "        vertical-align: top;\n",
       "    }\n",
       "\n",
       "    .dataframe thead tr th {\n",
       "        text-align: left;\n",
       "    }\n",
       "\n",
       "    .dataframe thead tr:last-of-type th {\n",
       "        text-align: right;\n",
       "    }\n",
       "</style>\n",
       "<table border=\"1\" class=\"dataframe\">\n",
       "  <thead>\n",
       "    <tr>\n",
       "      <th>Price</th>\n",
       "      <th>Close</th>\n",
       "      <th>High</th>\n",
       "      <th>Low</th>\n",
       "      <th>Open</th>\n",
       "      <th>Volume</th>\n",
       "    </tr>\n",
       "    <tr>\n",
       "      <th>Ticker</th>\n",
       "      <th>AAPL</th>\n",
       "      <th>AAPL</th>\n",
       "      <th>AAPL</th>\n",
       "      <th>AAPL</th>\n",
       "      <th>AAPL</th>\n",
       "    </tr>\n",
       "    <tr>\n",
       "      <th>Date</th>\n",
       "      <th></th>\n",
       "      <th></th>\n",
       "      <th></th>\n",
       "      <th></th>\n",
       "      <th></th>\n",
       "    </tr>\n",
       "  </thead>\n",
       "  <tbody>\n",
       "    <tr>\n",
       "      <th>2024-11-30</th>\n",
       "      <td>227.498904</td>\n",
       "      <td>228.759609</td>\n",
       "      <td>225.317447</td>\n",
       "      <td>226.412516</td>\n",
       "      <td>4.458203e+07</td>\n",
       "    </tr>\n",
       "    <tr>\n",
       "      <th>2024-12-31</th>\n",
       "      <td>249.049032</td>\n",
       "      <td>250.535969</td>\n",
       "      <td>246.602673</td>\n",
       "      <td>248.058694</td>\n",
       "      <td>4.656743e+07</td>\n",
       "    </tr>\n",
       "    <tr>\n",
       "      <th>2025-01-31</th>\n",
       "      <td>234.255072</td>\n",
       "      <td>236.806478</td>\n",
       "      <td>231.499681</td>\n",
       "      <td>234.209333</td>\n",
       "      <td>5.785351e+07</td>\n",
       "    </tr>\n",
       "  </tbody>\n",
       "</table>\n",
       "</div>"
      ],
      "text/plain": [
       "Price            Close        High         Low        Open        Volume\n",
       "Ticker            AAPL        AAPL        AAPL        AAPL          AAPL\n",
       "Date                                                                    \n",
       "2024-11-30  227.498904  228.759609  225.317447  226.412516  4.458203e+07\n",
       "2024-12-31  249.049032  250.535969  246.602673  248.058694  4.656743e+07\n",
       "2025-01-31  234.255072  236.806478  231.499681  234.209333  5.785351e+07"
      ]
     },
     "execution_count": 47,
     "metadata": {},
     "output_type": "execute_result"
    }
   ],
   "source": [
    "monthly_data = apple_data.resample(\"M\").mean()\n",
    "monthly_data.head()"
   ]
  },
  {
   "cell_type": "code",
   "execution_count": 48,
   "id": "66ff6e8d",
   "metadata": {
    "id": "66ff6e8d",
    "outputId": "aafd1424-1214-4634-fe65-706b54b72582",
    "slideshow": {
     "slide_type": "subslide"
    }
   },
   "outputs": [
    {
     "data": {
      "text/html": [
       "<div>\n",
       "<style scoped>\n",
       "    .dataframe tbody tr th:only-of-type {\n",
       "        vertical-align: middle;\n",
       "    }\n",
       "\n",
       "    .dataframe tbody tr th {\n",
       "        vertical-align: top;\n",
       "    }\n",
       "\n",
       "    .dataframe thead tr th {\n",
       "        text-align: left;\n",
       "    }\n",
       "\n",
       "    .dataframe thead tr:last-of-type th {\n",
       "        text-align: right;\n",
       "    }\n",
       "</style>\n",
       "<table border=\"1\" class=\"dataframe\">\n",
       "  <thead>\n",
       "    <tr>\n",
       "      <th>Price</th>\n",
       "      <th>Close</th>\n",
       "      <th>High</th>\n",
       "      <th>Low</th>\n",
       "      <th>Open</th>\n",
       "      <th>Volume</th>\n",
       "    </tr>\n",
       "    <tr>\n",
       "      <th>Ticker</th>\n",
       "      <th>AAPL</th>\n",
       "      <th>AAPL</th>\n",
       "      <th>AAPL</th>\n",
       "      <th>AAPL</th>\n",
       "      <th>AAPL</th>\n",
       "    </tr>\n",
       "    <tr>\n",
       "      <th>Date</th>\n",
       "      <th></th>\n",
       "      <th></th>\n",
       "      <th></th>\n",
       "      <th></th>\n",
       "      <th></th>\n",
       "    </tr>\n",
       "  </thead>\n",
       "  <tbody>\n",
       "    <tr>\n",
       "      <th>2024-11-03</th>\n",
       "      <td>222.420471</td>\n",
       "      <td>224.855115</td>\n",
       "      <td>219.786270</td>\n",
       "      <td>220.484729</td>\n",
       "      <td>65276700.0</td>\n",
       "    </tr>\n",
       "    <tr>\n",
       "      <th>2024-11-10</th>\n",
       "      <td>224.080762</td>\n",
       "      <td>225.424181</td>\n",
       "      <td>222.164862</td>\n",
       "      <td>222.999192</td>\n",
       "      <td>41616680.0</td>\n",
       "    </tr>\n",
       "    <tr>\n",
       "      <th>2024-11-17</th>\n",
       "      <td>225.112494</td>\n",
       "      <td>226.496970</td>\n",
       "      <td>223.132673</td>\n",
       "      <td>224.748895</td>\n",
       "      <td>44763540.0</td>\n",
       "    </tr>\n",
       "    <tr>\n",
       "      <th>2024-11-24</th>\n",
       "      <td>228.486783</td>\n",
       "      <td>229.889242</td>\n",
       "      <td>226.049463</td>\n",
       "      <td>227.196200</td>\n",
       "      <td>39268800.0</td>\n",
       "    </tr>\n",
       "    <tr>\n",
       "      <th>2024-12-01</th>\n",
       "      <td>234.789352</td>\n",
       "      <td>235.321273</td>\n",
       "      <td>232.456922</td>\n",
       "      <td>233.261038</td>\n",
       "      <td>49529700.0</td>\n",
       "    </tr>\n",
       "  </tbody>\n",
       "</table>\n",
       "</div>"
      ],
      "text/plain": [
       "Price            Close        High         Low        Open      Volume\n",
       "Ticker            AAPL        AAPL        AAPL        AAPL        AAPL\n",
       "Date                                                                  \n",
       "2024-11-03  222.420471  224.855115  219.786270  220.484729  65276700.0\n",
       "2024-11-10  224.080762  225.424181  222.164862  222.999192  41616680.0\n",
       "2024-11-17  225.112494  226.496970  223.132673  224.748895  44763540.0\n",
       "2024-11-24  228.486783  229.889242  226.049463  227.196200  39268800.0\n",
       "2024-12-01  234.789352  235.321273  232.456922  233.261038  49529700.0"
      ]
     },
     "execution_count": 48,
     "metadata": {},
     "output_type": "execute_result"
    }
   ],
   "source": [
    "monthly_data = apple_data.resample(\"W\").mean()\n",
    "monthly_data.head()"
   ]
  },
  {
   "cell_type": "markdown",
   "id": "3d4db0b0",
   "metadata": {
    "id": "3d4db0b0",
    "slideshow": {
     "slide_type": "subslide"
    }
   },
   "source": [
    "**Merging DataFrames**\n",
    "\n",
    "If you have additional data sources to combine:"
   ]
  },
  {
   "cell_type": "code",
   "execution_count": 49,
   "id": "b6c2af6a",
   "metadata": {
    "id": "b6c2af6a",
    "outputId": "645328d3-b120-4434-c942-f12769d956a7",
    "slideshow": {
     "slide_type": "fragment"
    }
   },
   "outputs": [
    {
     "data": {
      "text/html": [
       "<div>\n",
       "<style scoped>\n",
       "    .dataframe tbody tr th:only-of-type {\n",
       "        vertical-align: middle;\n",
       "    }\n",
       "\n",
       "    .dataframe tbody tr th {\n",
       "        vertical-align: top;\n",
       "    }\n",
       "\n",
       "    .dataframe thead th {\n",
       "        text-align: right;\n",
       "    }\n",
       "</style>\n",
       "<table border=\"1\" class=\"dataframe\">\n",
       "  <thead>\n",
       "    <tr style=\"text-align: right;\">\n",
       "      <th></th>\n",
       "      <th>Date</th>\n",
       "      <th>Extra</th>\n",
       "    </tr>\n",
       "  </thead>\n",
       "  <tbody>\n",
       "    <tr>\n",
       "      <th>0</th>\n",
       "      <td>2024-11-01</td>\n",
       "      <td>1</td>\n",
       "    </tr>\n",
       "    <tr>\n",
       "      <th>1</th>\n",
       "      <td>2024-11-05</td>\n",
       "      <td>2</td>\n",
       "    </tr>\n",
       "  </tbody>\n",
       "</table>\n",
       "</div>"
      ],
      "text/plain": [
       "        Date  Extra\n",
       "0 2024-11-01      1\n",
       "1 2024-11-05      2"
      ]
     },
     "execution_count": 49,
     "metadata": {},
     "output_type": "execute_result"
    }
   ],
   "source": [
    "other_data = pd.DataFrame({\"Date\": [\"2024-11-01\", \"2024-11-05\"], \"Extra\": [1, 2]})\n",
    "other_data[\"Date\"] = pd.to_datetime(other_data[\"Date\"])\n",
    "other_data.head()"
   ]
  },
  {
   "cell_type": "code",
   "execution_count": 52,
   "id": "be816c48",
   "metadata": {
    "id": "be816c48",
    "outputId": "d240e3bc-a79b-4946-c90c-fa080f02f1cd",
    "slideshow": {
     "slide_type": "subslide"
    }
   },
   "outputs": [],
   "source": [
    "#merged_data = pd.merge(apple_data.reset_index(), other_data, how=\"left\", on=\"Date\")\n",
    "#merged_data.head()"
   ]
  },
  {
   "cell_type": "code",
   "execution_count": 53,
   "id": "bb8d5df3",
   "metadata": {
    "id": "bb8d5df3",
    "outputId": "45ea9cbd-c889-4685-e1c9-d74eb3f23343",
    "slideshow": {
     "slide_type": "skip"
    }
   },
   "outputs": [],
   "source": [
    "#merged_data_2 = pd.merge(apple_data.reset_index(), daily_returns, how=\"left\", on=\"Date\")\n",
    "#merged_data_2.head()"
   ]
  },
  {
   "cell_type": "markdown",
   "id": "9e2ac840",
   "metadata": {
    "slideshow": {
     "slide_type": "skip"
    }
   },
   "source": [
    "The `left` parameter in the `pd.merge()` function refers to the **type of join** being performed. In this case:\n",
    "\n",
    "```python\n",
    "merged_data_2 = pd.merge(apple_data.reset_index(), daily_returns, how=\"left\", on=\"Date\")\n",
    "```\n",
    "\n",
    "**Explanation**:\n",
    "\n",
    "- `pd.merge()` is merging two DataFrames:  \n",
    "  - `apple_data.reset_index()`  \n",
    "  - `daily_returns`\n",
    "- `how=\"left\"` specifies a **left join**.\n",
    "- `on=\"Date\"` means the merge is performed based on the `Date` column.\n",
    "\n",
    "**What does `how=\"left\"` do?**\n",
    "\n",
    "A **left join** keeps all rows from the **left DataFrame** (`apple_data.reset_index()`) and only includes matching rows from the **right DataFrame** (`daily_returns`). If there is no match, NaN values will be inserted in the columns from `daily_returns`.\n",
    "\n",
    "**Example**:\n",
    "\n",
    "**`apple_data` (after `reset_index()`)**:\n",
    "\n",
    "| Date       | Price |\n",
    "|------------|------|\n",
    "| 2024-02-12 | 150  |\n",
    "| 2024-02-13 | 152  |\n",
    "| 2024-02-14 | 149  |\n",
    "\n",
    "**`daily_returns`**:\n",
    "\n",
    "| Date       | Return |\n",
    "|------------|------|\n",
    "| 2024-02-12 | 0.01 |\n",
    "| 2024-02-14 | -0.02 |\n",
    "\n",
    "**After the Left Join:**\n",
    "\n",
    "| Date       | Price | Return |\n",
    "|------------|------|--------|\n",
    "| 2024-02-12 | 150  | 0.01   |\n",
    "| 2024-02-13 | 152  | NaN    |\n",
    "| 2024-02-14 | 149  | -0.02  |\n",
    "\n",
    "The row for **2024-02-13** remains, but since there's no corresponding return value, it gets **NaN**. This ensures that all dates from `apple_data` remain in the final `merged_data_2`, even if there's no match in `daily_returns`."
   ]
  },
  {
   "cell_type": "code",
   "execution_count": 54,
   "id": "53c2facb",
   "metadata": {
    "id": "53c2facb",
    "outputId": "dcbbfc5d-4077-4c66-8a00-c18fc1cd85c9",
    "slideshow": {
     "slide_type": "skip"
    }
   },
   "outputs": [],
   "source": [
    "#merged_data_2 = merged_data_2.rename(columns={'Adj Close_x': 'Adj Close', 'Adj Close_y': 'Daily Returns'})\n",
    "#merged_data_2.head()"
   ]
  },
  {
   "cell_type": "markdown",
   "id": "90e12aee",
   "metadata": {
    "id": "90e12aee",
    "slideshow": {
     "slide_type": "subslide"
    }
   },
   "source": [
    "**Filtering Specific Date Ranges**"
   ]
  },
  {
   "cell_type": "code",
   "execution_count": 57,
   "id": "a9060cb7",
   "metadata": {
    "id": "a9060cb7",
    "outputId": "9b2f2195-5933-4fb5-a064-7417fec2d3e5",
    "slideshow": {
     "slide_type": "fragment"
    }
   },
   "outputs": [],
   "source": [
    "#filtered_data = merged_data[(merged_data['Date'] >= \"2024-11-01\") & (merged_data['Date'] <= \"2024-12-07\")]\n",
    "#filtered_data.head()"
   ]
  },
  {
   "cell_type": "markdown",
   "id": "7d6ca95e",
   "metadata": {
    "id": "7d6ca95e",
    "slideshow": {
     "slide_type": "subslide"
    }
   },
   "source": [
    "**Plotting Closing Prices**"
   ]
  },
  {
   "cell_type": "code",
   "execution_count": 58,
   "id": "e0293130",
   "metadata": {
    "id": "e0293130",
    "outputId": "873911cb-b1e0-475c-a7d7-baad388cf1ff",
    "slideshow": {
     "slide_type": "fragment"
    }
   },
   "outputs": [
    {
     "data": {
      "text/plain": [
       "<Figure size 1000x300 with 0 Axes>"
      ]
     },
     "metadata": {},
     "output_type": "display_data"
    },
    {
     "data": {
      "image/png": "[encoded data removed]",
      "text/plain": [
       "<Figure size 640x480 with 1 Axes>"
      ]
     },
     "metadata": {},
     "output_type": "display_data"
    }
   ],
   "source": [
    "plt.figure(figsize=(10,3))\n",
    "apple_data[\"Close\"].plot(title=\"Apple Closing Prices\")\n",
    "plt.xlabel(\"Date\")\n",
    "plt.ylabel(\"Price\")\n",
    "plt.show()"
   ]
  },
  {
   "cell_type": "code",
   "execution_count": 59,
   "id": "5cfbfc4e",
   "metadata": {
    "id": "5cfbfc4e",
    "outputId": "8d694919-8ae4-48a4-dd87-b7e73aa06404",
    "slideshow": {
     "slide_type": "subslide"
    }
   },
   "outputs": [
    {
     "data": {
      "image/png": "[encoded data removed]",
      "text/plain": [
       "<Figure size 1000x300 with 1 Axes>"
      ]
     },
     "metadata": {},
     "output_type": "display_data"
    }
   ],
   "source": [
    "close_prices.plot(title=\"Closing Prices of Selected Stocks\",figsize=(10,3))\n",
    "plt.xlabel(\"Date\")\n",
    "plt.ylabel(\"Price\")\n",
    "plt.legend(tickers)\n",
    "plt.show()"
   ]
  },
  {
   "cell_type": "markdown",
   "id": "a1184f73",
   "metadata": {
    "id": "a1184f73",
    "slideshow": {
     "slide_type": "subslide"
    }
   },
   "source": [
    "### Working with Company Financials\n",
    "\n",
    "You can also access company financials such as income statements, balance sheets, and cash flows"
   ]
  },
  {
   "cell_type": "code",
   "execution_count": 60,
   "id": "2c467170",
   "metadata": {
    "id": "2c467170",
    "slideshow": {
     "slide_type": "skip"
    }
   },
   "outputs": [],
   "source": [
    "apple = yf.Ticker(\"AAPL\")\n",
    "\n",
    "# Income Statement\n",
    "#print(apple.financials)"
   ]
  },
  {
   "cell_type": "code",
   "execution_count": 61,
   "id": "08ee5ea7",
   "metadata": {
    "id": "08ee5ea7",
    "slideshow": {
     "slide_type": "skip"
    }
   },
   "outputs": [],
   "source": [
    "# Balance Sheet\n",
    "#print(apple.balance_sheet)"
   ]
  },
  {
   "cell_type": "code",
   "execution_count": 62,
   "id": "3921ea07",
   "metadata": {
    "id": "3921ea07",
    "slideshow": {
     "slide_type": "skip"
    }
   },
   "outputs": [],
   "source": [
    "# Cash Flow\n",
    "#print(apple.cashflow)"
   ]
  },
  {
   "cell_type": "markdown",
   "id": "d8b605fd",
   "metadata": {
    "id": "d8b605fd",
    "slideshow": {
     "slide_type": "subslide"
    }
   },
   "source": [
    "### Market Indices\n",
    "\n",
    "Here are the Yahoo Finance ticker symbols for the some financial indices:\n",
    "\n",
    "<table border=\"1\" style=\"border-collapse: collapse; width: 100%;\">\n",
    "  <thead>\n",
    "    <tr>\n",
    "      <th style=\"text-align: left;\">Index Name</th>\n",
    "      <th style=\"text-align: left;\">Ticker Symbol</th>\n",
    "    </tr>\n",
    "  </thead>\n",
    "  <tbody>\n",
    "    <tr>\n",
    "      <td style=\"text-align: left;\">NASDAQ 100 - PRICE INDEX</td>\n",
    "      <td style=\"text-align: left;\">^NDX</td>\n",
    "    </tr>\n",
    "    <tr>\n",
    "      <td style=\"text-align: left;\">NASDAQ COMPOSITE - PRICE INDEX</td>\n",
    "      <td style=\"text-align: left;\">^IXIC</td>\n",
    "    </tr>\n",
    "    <tr>\n",
    "      <td style=\"text-align: left;\">S&P 500 COMPOSITE - PRICE INDEX</td>\n",
    "      <td style=\"text-align: left;\">^GSPC</td>\n",
    "    </tr>\n",
    "  </tbody>\n",
    "</table>\n",
    "\n",
    "          \n",
    "Please note that Yahoo Finance uses specific ticker symbols for indices, often prefixed with a caret (^). These symbols are case-sensitive and should be entered exactly as shown."
   ]
  },
  {
   "cell_type": "code",
   "execution_count": 63,
   "id": "8f56f75f",
   "metadata": {
    "id": "8f56f75f",
    "outputId": "f20ea480-2099-4249-e6ad-f27ff8b01875",
    "slideshow": {
     "slide_type": "subslide"
    }
   },
   "outputs": [
    {
     "name": "stderr",
     "output_type": "stream",
     "text": [
      "[*********************100%***********************]  3 of 3 completed\n"
     ]
    },
    {
     "data": {
      "text/html": [
       "<div>\n",
       "<style scoped>\n",
       "    .dataframe tbody tr th:only-of-type {\n",
       "        vertical-align: middle;\n",
       "    }\n",
       "\n",
       "    .dataframe tbody tr th {\n",
       "        vertical-align: top;\n",
       "    }\n",
       "\n",
       "    .dataframe thead tr th {\n",
       "        text-align: left;\n",
       "    }\n",
       "\n",
       "    .dataframe thead tr:last-of-type th {\n",
       "        text-align: right;\n",
       "    }\n",
       "</style>\n",
       "<table border=\"1\" class=\"dataframe\">\n",
       "  <thead>\n",
       "    <tr>\n",
       "      <th>Price</th>\n",
       "      <th colspan=\"3\" halign=\"left\">Close</th>\n",
       "      <th colspan=\"3\" halign=\"left\">High</th>\n",
       "      <th colspan=\"3\" halign=\"left\">Low</th>\n",
       "      <th colspan=\"3\" halign=\"left\">Open</th>\n",
       "      <th colspan=\"3\" halign=\"left\">Volume</th>\n",
       "    </tr>\n",
       "    <tr>\n",
       "      <th>Ticker</th>\n",
       "      <th>^GSPC</th>\n",
       "      <th>^IXIC</th>\n",
       "      <th>^NDX</th>\n",
       "      <th>^GSPC</th>\n",
       "      <th>^IXIC</th>\n",
       "      <th>^NDX</th>\n",
       "      <th>^GSPC</th>\n",
       "      <th>^IXIC</th>\n",
       "      <th>^NDX</th>\n",
       "      <th>^GSPC</th>\n",
       "      <th>^IXIC</th>\n",
       "      <th>^NDX</th>\n",
       "      <th>^GSPC</th>\n",
       "      <th>^IXIC</th>\n",
       "      <th>^NDX</th>\n",
       "    </tr>\n",
       "    <tr>\n",
       "      <th>Date</th>\n",
       "      <th></th>\n",
       "      <th></th>\n",
       "      <th></th>\n",
       "      <th></th>\n",
       "      <th></th>\n",
       "      <th></th>\n",
       "      <th></th>\n",
       "      <th></th>\n",
       "      <th></th>\n",
       "      <th></th>\n",
       "      <th></th>\n",
       "      <th></th>\n",
       "      <th></th>\n",
       "      <th></th>\n",
       "      <th></th>\n",
       "    </tr>\n",
       "  </thead>\n",
       "  <tbody>\n",
       "    <tr>\n",
       "      <th>2014-01-02</th>\n",
       "      <td>1831.979980</td>\n",
       "      <td>4143.069824</td>\n",
       "      <td>3563.570068</td>\n",
       "      <td>1845.859985</td>\n",
       "      <td>4160.959961</td>\n",
       "      <td>3577.030029</td>\n",
       "      <td>1827.739990</td>\n",
       "      <td>4131.790039</td>\n",
       "      <td>3553.649902</td>\n",
       "      <td>1845.859985</td>\n",
       "      <td>4160.029785</td>\n",
       "      <td>3575.600098</td>\n",
       "      <td>3080600000</td>\n",
       "      <td>1738820000</td>\n",
       "      <td>1738820000</td>\n",
       "    </tr>\n",
       "    <tr>\n",
       "      <th>2014-01-03</th>\n",
       "      <td>1831.369995</td>\n",
       "      <td>4131.910156</td>\n",
       "      <td>3538.729980</td>\n",
       "      <td>1838.239990</td>\n",
       "      <td>4152.959961</td>\n",
       "      <td>3567.510010</td>\n",
       "      <td>1829.130005</td>\n",
       "      <td>4124.959961</td>\n",
       "      <td>3537.610107</td>\n",
       "      <td>1833.209961</td>\n",
       "      <td>4148.560059</td>\n",
       "      <td>3564.939941</td>\n",
       "      <td>2774270000</td>\n",
       "      <td>1667480000</td>\n",
       "      <td>1667480000</td>\n",
       "    </tr>\n",
       "    <tr>\n",
       "      <th>2014-01-06</th>\n",
       "      <td>1826.770020</td>\n",
       "      <td>4113.680176</td>\n",
       "      <td>3526.959961</td>\n",
       "      <td>1837.160034</td>\n",
       "      <td>4139.779785</td>\n",
       "      <td>3542.520020</td>\n",
       "      <td>1823.729980</td>\n",
       "      <td>4103.750000</td>\n",
       "      <td>3512.449951</td>\n",
       "      <td>1832.310059</td>\n",
       "      <td>4137.029785</td>\n",
       "      <td>3539.020020</td>\n",
       "      <td>3294850000</td>\n",
       "      <td>2292840000</td>\n",
       "      <td>2292840000</td>\n",
       "    </tr>\n",
       "    <tr>\n",
       "      <th>2014-01-07</th>\n",
       "      <td>1837.880005</td>\n",
       "      <td>4153.180176</td>\n",
       "      <td>3557.850098</td>\n",
       "      <td>1840.099976</td>\n",
       "      <td>4158.180176</td>\n",
       "      <td>3562.989990</td>\n",
       "      <td>1828.709961</td>\n",
       "      <td>4126.479980</td>\n",
       "      <td>3535.500000</td>\n",
       "      <td>1828.709961</td>\n",
       "      <td>4128.569824</td>\n",
       "      <td>3539.290039</td>\n",
       "      <td>3511750000</td>\n",
       "      <td>2278220000</td>\n",
       "      <td>2278220000</td>\n",
       "    </tr>\n",
       "    <tr>\n",
       "      <th>2014-01-08</th>\n",
       "      <td>1837.489990</td>\n",
       "      <td>4165.609863</td>\n",
       "      <td>3567.540039</td>\n",
       "      <td>1840.020020</td>\n",
       "      <td>4171.750000</td>\n",
       "      <td>3575.149902</td>\n",
       "      <td>1831.400024</td>\n",
       "      <td>4145.000000</td>\n",
       "      <td>3551.120117</td>\n",
       "      <td>1837.900024</td>\n",
       "      <td>4154.279785</td>\n",
       "      <td>3558.300049</td>\n",
       "      <td>3652140000</td>\n",
       "      <td>2345220000</td>\n",
       "      <td>2345220000</td>\n",
       "    </tr>\n",
       "  </tbody>\n",
       "</table>\n",
       "</div>"
      ],
      "text/plain": [
       "Price             Close                                   High               \\\n",
       "Ticker            ^GSPC        ^IXIC         ^NDX        ^GSPC        ^IXIC   \n",
       "Date                                                                          \n",
       "2014-01-02  1831.979980  4143.069824  3563.570068  1845.859985  4160.959961   \n",
       "2014-01-03  1831.369995  4131.910156  3538.729980  1838.239990  4152.959961   \n",
       "2014-01-06  1826.770020  4113.680176  3526.959961  1837.160034  4139.779785   \n",
       "2014-01-07  1837.880005  4153.180176  3557.850098  1840.099976  4158.180176   \n",
       "2014-01-08  1837.489990  4165.609863  3567.540039  1840.020020  4171.750000   \n",
       "\n",
       "Price                            Low                                   Open  \\\n",
       "Ticker             ^NDX        ^GSPC        ^IXIC         ^NDX        ^GSPC   \n",
       "Date                                                                          \n",
       "2014-01-02  3577.030029  1827.739990  4131.790039  3553.649902  1845.859985   \n",
       "2014-01-03  3567.510010  1829.130005  4124.959961  3537.610107  1833.209961   \n",
       "2014-01-06  3542.520020  1823.729980  4103.750000  3512.449951  1832.310059   \n",
       "2014-01-07  3562.989990  1828.709961  4126.479980  3535.500000  1828.709961   \n",
       "2014-01-08  3575.149902  1831.400024  4145.000000  3551.120117  1837.900024   \n",
       "\n",
       "Price                                     Volume                          \n",
       "Ticker            ^IXIC         ^NDX       ^GSPC       ^IXIC        ^NDX  \n",
       "Date                                                                      \n",
       "2014-01-02  4160.029785  3575.600098  3080600000  1738820000  1738820000  \n",
       "2014-01-03  4148.560059  3564.939941  2774270000  1667480000  1667480000  \n",
       "2014-01-06  4137.029785  3539.020020  3294850000  2292840000  2292840000  \n",
       "2014-01-07  4128.569824  3539.290039  3511750000  2278220000  2278220000  \n",
       "2014-01-08  4154.279785  3558.300049  3652140000  2345220000  2345220000  "
      ]
     },
     "execution_count": 63,
     "metadata": {},
     "output_type": "execute_result"
    }
   ],
   "source": [
    "tickers = [\"^NDX\", \"^IXIC\", \"^GSPC\"]\n",
    "index = yf.download(tickers, start=\"2014-01-01\", end=\"2022-12-31\")\n",
    "index.head()"
   ]
  },
  {
   "cell_type": "markdown",
   "id": "33e7e228",
   "metadata": {
    "id": "33e7e228",
    "slideshow": {
     "slide_type": "subslide"
    }
   },
   "source": [
    "**Save to CSV**"
   ]
  },
  {
   "cell_type": "code",
   "execution_count": 64,
   "id": "e6838479",
   "metadata": {
    "id": "e6838479",
    "outputId": "57c14302-97bf-40e6-aa48-7aea69dfc96d",
    "slideshow": {
     "slide_type": "fragment"
    }
   },
   "outputs": [
    {
     "name": "stdout",
     "output_type": "stream",
     "text": [
      "File saved to .\\index_data.csv\n"
     ]
    }
   ],
   "source": [
    "import os\n",
    "\n",
    "path_name = '.'\n",
    "file_name = 'index_data.csv'\n",
    "file_name = os.path.join(path_name, file_name)\n",
    "index.to_csv(file_name)\n",
    "\n",
    "print(f\"File saved to {file_name}\")"
   ]
  },
  {
   "cell_type": "markdown",
   "id": "e24e9cfc",
   "metadata": {
    "id": "e24e9cfc",
    "slideshow": {
     "slide_type": "subslide"
    }
   },
   "source": [
    "**Other Examples**"
   ]
  },
  {
   "cell_type": "markdown",
   "id": "a9e32026",
   "metadata": {
    "id": "a9e32026",
    "slideshow": {
     "slide_type": "fragment"
    }
   },
   "source": [
    "Other very simple examples include Stock Price Correlation Analysis and Portfolio Performance"
   ]
  },
  {
   "cell_type": "code",
   "execution_count": 65,
   "id": "0dcf6feb",
   "metadata": {
    "id": "0dcf6feb",
    "outputId": "fc5c3fe5-490f-4760-f5f5-f21bfeda8651",
    "slideshow": {
     "slide_type": "subslide"
    }
   },
   "outputs": [
    {
     "name": "stdout",
     "output_type": "stream",
     "text": [
      "Ticker      AAPL     GOOGL      MSFT\n",
      "Ticker                              \n",
      "AAPL    1.000000  0.691375  0.777003\n",
      "GOOGL   0.691375  1.000000  0.772643\n",
      "MSFT    0.777003  0.772643  1.000000\n"
     ]
    }
   ],
   "source": [
    "returns = close_prices.pct_change()\n",
    "correlation = returns.corr()\n",
    "print(correlation)"
   ]
  },
  {
   "cell_type": "code",
   "execution_count": 66,
   "id": "3392dc03",
   "metadata": {
    "id": "3392dc03",
    "outputId": "e893e616-71c3-45a5-cb0c-7632eed444ae",
    "slideshow": {
     "slide_type": "subslide"
    }
   },
   "outputs": [
    {
     "data": {
      "image/png": "[encoded data removed]",
      "text/plain": [
       "<Figure size 1000x300 with 1 Axes>"
      ]
     },
     "metadata": {},
     "output_type": "display_data"
    }
   ],
   "source": [
    "weights = [0.4, 0.4, 0.2]  # Allocation weights for AAPL, MSFT, GOOGL\n",
    "portfolio_returns = (returns * weights).sum(axis=1)\n",
    "portfolio_cumulative = (1 + portfolio_returns).cumprod()\n",
    "portfolio_cumulative.plot(title=\"Portfolio Performance\", figsize=(10,3))\n",
    "plt.show()"
   ]
  },
  {
   "cell_type": "markdown",
   "id": "6774f05a",
   "metadata": {
    "slideshow": {
     "slide_type": "subslide"
    }
   },
   "source": [
    "### Forex"
   ]
  },
  {
   "cell_type": "code",
   "execution_count": 67,
   "id": "4c125da5",
   "metadata": {
    "slideshow": {
     "slide_type": "skip"
    }
   },
   "outputs": [],
   "source": [
    "import yfinance as yf\n",
    "import matplotlib.pyplot as plt"
   ]
  },
  {
   "cell_type": "code",
   "execution_count": 80,
   "id": "a5525772",
   "metadata": {
    "slideshow": {
     "slide_type": "fragment"
    }
   },
   "outputs": [
    {
     "name": "stderr",
     "output_type": "stream",
     "text": [
      "[*********************100%***********************]  4 of 4 completed\n"
     ]
    }
   ],
   "source": [
    "# Define major Forex pairs\n",
    "forex_pairs = [\"EURUSD=X\", \"GBPUSD=X\", \"AUDUSD=X\", \"USDCAD=X\"]\n",
    "\n",
    "# Download last 1 year of Forex data\n",
    "forex_data = yf.download(forex_pairs, period=\"1y\", interval=\"1d\")\n",
    "\n",
    "# Extract closing prices\n",
    "forex_closing_prices = forex_data['Close']"
   ]
  },
  {
   "cell_type": "code",
   "execution_count": 81,
   "id": "cdb60c98",
   "metadata": {
    "slideshow": {
     "slide_type": "subslide"
    }
   },
   "outputs": [
    {
     "data": {
      "image/png": "[encoded data removed]",
      "text/plain": [
       "<Figure size 1000x300 with 1 Axes>"
      ]
     },
     "metadata": {},
     "output_type": "display_data"
    }
   ],
   "source": [
    "# Plot Forex exchange rates over time\n",
    "plt.figure(figsize=(10, 3))\n",
    "for pair in forex_closing_prices.columns:\n",
    "    plt.plot(forex_closing_prices.index, forex_closing_prices[pair], label=pair)\n",
    "# Formatting the plot\n",
    "plt.title(\"Forex Exchange Rates Over the Last Year\")\n",
    "plt.xlabel(\"Date\")\n",
    "plt.ylabel(\"Exchange Rate\")\n",
    "plt.legend(title=\"Currency Pairs\")\n",
    "plt.grid(True)\n",
    "# Show the plot\n",
    "plt.show()"
   ]
  },
  {
   "cell_type": "markdown",
   "id": "2787a181",
   "metadata": {
    "id": "2787a181",
    "slideshow": {
     "slide_type": "subslide"
    }
   },
   "source": [
    "### Options\n",
    "\n",
    "Yahoo Finance also provides financial option data, which can be accessed programmatically using the `yfinance` library. Below is a step-by-step guide on how to download and analyze option data from Yahoo Finance."
   ]
  },
  {
   "cell_type": "markdown",
   "id": "090f7003",
   "metadata": {
    "id": "090f7003",
    "slideshow": {
     "slide_type": "subslide"
    }
   },
   "source": [
    "**Access Option Chains**\n",
    "\n",
    "Each stock has a set of options available for different expiration dates. You can fetch these option chains using the `Ticker` object in `yfinance`. This will return a list of all available expiration dates for the options."
   ]
  },
  {
   "cell_type": "code",
   "execution_count": 82,
   "id": "c00a5461",
   "metadata": {
    "id": "c00a5461",
    "outputId": "98368e41-1c17-4fef-a552-a3d3370cbec9",
    "slideshow": {
     "slide_type": "fragment"
    }
   },
   "outputs": [
    {
     "name": "stdout",
     "output_type": "stream",
     "text": [
      "('2025-02-28', '2025-03-07', '2025-03-14', '2025-03-21', '2025-03-28', '2025-04-04', '2025-04-17', '2025-05-16', '2025-06-20', '2025-07-18', '2025-08-15', '2025-09-19', '2025-10-17', '2025-12-19', '2026-01-16', '2026-03-20', '2026-06-18', '2026-12-18', '2027-01-15', '2027-06-17')\n"
     ]
    }
   ],
   "source": [
    "#\n",
    "# Fetching Option Expiration Dates\n",
    "#\n",
    "ticker = yf.Ticker(\"AAPL\")  # Replace \"AAPL\" with your desired stock ticker\n",
    "expiration_dates = ticker.options\n",
    "print(expiration_dates)"
   ]
  },
  {
   "cell_type": "markdown",
   "id": "f27858a5",
   "metadata": {
    "id": "f27858a5",
    "slideshow": {
     "slide_type": "subslide"
    }
   },
   "source": [
    "**Download Option Data for a Specific Expiration Date**\n",
    "\n",
    "Once you have the expiration dates, you can fetch the options data (both calls and puts) for a specific expiration date. The data for calls and puts will be returned as pandas DataFrames, containing columns such as:\n",
    "<pre>\n",
    "- <strong>contractSymbol</strong>: The option symbol.\n",
    "- <strong>strike</strong>        : The strike price.\n",
    "- <strong>lastPrice</strong>     : The last traded price of the option.\n",
    "- <strong>bid</strong>           : The bid price.\n",
    "- <strong>ask</strong>           : The ask price.\n",
    "- <strong>volume</strong>        : The trading volume.\n",
    "- <strong>openInterest</strong>  : The number of open contracts.\n",
    "</pre>"
   ]
  },
  {
   "cell_type": "code",
   "execution_count": 83,
   "id": "27466e2d",
   "metadata": {
    "id": "27466e2d",
    "slideshow": {
     "slide_type": "subslide"
    }
   },
   "outputs": [],
   "source": [
    "#\n",
    "# Fetching Option Chains (Calls and Puts)\n",
    "#\n",
    "# Specify the expiration date\n",
    "expiration_date = expiration_dates[0]  # Example: Use the first available date\n",
    "\n",
    "# Fetch options data\n",
    "options_data = ticker.option_chain(expiration_date)\n",
    "\n",
    "# Separate calls and puts data\n",
    "calls = options_data.calls\n",
    "puts = options_data.puts"
   ]
  },
  {
   "cell_type": "code",
   "execution_count": 84,
   "id": "586b00af",
   "metadata": {
    "id": "586b00af",
    "outputId": "0406156b-ca0d-454c-dcee-bbf9044f8a43",
    "slideshow": {
     "slide_type": "subslide"
    }
   },
   "outputs": [
    {
     "name": "stdout",
     "output_type": "stream",
     "text": [
      "Calls:\n",
      "\n"
     ]
    },
    {
     "data": {
      "text/html": [
       "<div>\n",
       "<style scoped>\n",
       "    .dataframe tbody tr th:only-of-type {\n",
       "        vertical-align: middle;\n",
       "    }\n",
       "\n",
       "    .dataframe tbody tr th {\n",
       "        vertical-align: top;\n",
       "    }\n",
       "\n",
       "    .dataframe thead th {\n",
       "        text-align: right;\n",
       "    }\n",
       "</style>\n",
       "<table border=\"1\" class=\"dataframe\">\n",
       "  <thead>\n",
       "    <tr style=\"text-align: right;\">\n",
       "      <th></th>\n",
       "      <th>contractSymbol</th>\n",
       "      <th>lastTradeDate</th>\n",
       "      <th>strike</th>\n",
       "      <th>lastPrice</th>\n",
       "      <th>bid</th>\n",
       "      <th>ask</th>\n",
       "      <th>change</th>\n",
       "      <th>percentChange</th>\n",
       "      <th>volume</th>\n",
       "      <th>openInterest</th>\n",
       "      <th>impliedVolatility</th>\n",
       "      <th>inTheMoney</th>\n",
       "      <th>contractSize</th>\n",
       "      <th>currency</th>\n",
       "    </tr>\n",
       "  </thead>\n",
       "  <tbody>\n",
       "    <tr>\n",
       "      <th>0</th>\n",
       "      <td>AAPL250228C00110000</td>\n",
       "      <td>2025-01-21 19:20:02+00:00</td>\n",
       "      <td>110.0</td>\n",
       "      <td>111.67</td>\n",
       "      <td>133.80</td>\n",
       "      <td>136.75</td>\n",
       "      <td>0.000000</td>\n",
       "      <td>0.00000</td>\n",
       "      <td>NaN</td>\n",
       "      <td>0</td>\n",
       "      <td>3.315431</td>\n",
       "      <td>True</td>\n",
       "      <td>REGULAR</td>\n",
       "      <td>USD</td>\n",
       "    </tr>\n",
       "    <tr>\n",
       "      <th>1</th>\n",
       "      <td>AAPL250228C00140000</td>\n",
       "      <td>2025-02-20 14:59:32+00:00</td>\n",
       "      <td>140.0</td>\n",
       "      <td>105.09</td>\n",
       "      <td>103.80</td>\n",
       "      <td>106.85</td>\n",
       "      <td>0.000000</td>\n",
       "      <td>0.00000</td>\n",
       "      <td>1.0</td>\n",
       "      <td>37</td>\n",
       "      <td>2.462894</td>\n",
       "      <td>True</td>\n",
       "      <td>REGULAR</td>\n",
       "      <td>USD</td>\n",
       "    </tr>\n",
       "    <tr>\n",
       "      <th>2</th>\n",
       "      <td>AAPL250228C00145000</td>\n",
       "      <td>2025-02-11 15:05:42+00:00</td>\n",
       "      <td>145.0</td>\n",
       "      <td>86.52</td>\n",
       "      <td>98.85</td>\n",
       "      <td>101.85</td>\n",
       "      <td>0.000000</td>\n",
       "      <td>0.00000</td>\n",
       "      <td>4.0</td>\n",
       "      <td>1</td>\n",
       "      <td>2.331059</td>\n",
       "      <td>True</td>\n",
       "      <td>REGULAR</td>\n",
       "      <td>USD</td>\n",
       "    </tr>\n",
       "    <tr>\n",
       "      <th>3</th>\n",
       "      <td>AAPL250228C00150000</td>\n",
       "      <td>2025-02-18 15:36:57+00:00</td>\n",
       "      <td>150.0</td>\n",
       "      <td>94.39</td>\n",
       "      <td>94.75</td>\n",
       "      <td>96.75</td>\n",
       "      <td>0.000000</td>\n",
       "      <td>0.00000</td>\n",
       "      <td>2.0</td>\n",
       "      <td>10</td>\n",
       "      <td>1.607424</td>\n",
       "      <td>True</td>\n",
       "      <td>REGULAR</td>\n",
       "      <td>USD</td>\n",
       "    </tr>\n",
       "    <tr>\n",
       "      <th>4</th>\n",
       "      <td>AAPL250228C00165000</td>\n",
       "      <td>2025-02-21 18:26:50+00:00</td>\n",
       "      <td>165.0</td>\n",
       "      <td>82.75</td>\n",
       "      <td>79.70</td>\n",
       "      <td>81.70</td>\n",
       "      <td>17.809998</td>\n",
       "      <td>27.42531</td>\n",
       "      <td>2.0</td>\n",
       "      <td>3</td>\n",
       "      <td>1.275394</td>\n",
       "      <td>True</td>\n",
       "      <td>REGULAR</td>\n",
       "      <td>USD</td>\n",
       "    </tr>\n",
       "  </tbody>\n",
       "</table>\n",
       "</div>"
      ],
      "text/plain": [
       "        contractSymbol             lastTradeDate  strike  lastPrice     bid  \\\n",
       "0  AAPL250228C00110000 2025-01-21 19:20:02+00:00   110.0     111.67  133.80   \n",
       "1  AAPL250228C00140000 2025-02-20 14:59:32+00:00   140.0     105.09  103.80   \n",
       "2  AAPL250228C00145000 2025-02-11 15:05:42+00:00   145.0      86.52   98.85   \n",
       "3  AAPL250228C00150000 2025-02-18 15:36:57+00:00   150.0      94.39   94.75   \n",
       "4  AAPL250228C00165000 2025-02-21 18:26:50+00:00   165.0      82.75   79.70   \n",
       "\n",
       "      ask     change  percentChange  volume  openInterest  impliedVolatility  \\\n",
       "0  136.75   0.000000        0.00000     NaN             0           3.315431   \n",
       "1  106.85   0.000000        0.00000     1.0            37           2.462894   \n",
       "2  101.85   0.000000        0.00000     4.0             1           2.331059   \n",
       "3   96.75   0.000000        0.00000     2.0            10           1.607424   \n",
       "4   81.70  17.809998       27.42531     2.0             3           1.275394   \n",
       "\n",
       "   inTheMoney contractSize currency  \n",
       "0        True      REGULAR      USD  \n",
       "1        True      REGULAR      USD  \n",
       "2        True      REGULAR      USD  \n",
       "3        True      REGULAR      USD  \n",
       "4        True      REGULAR      USD  "
      ]
     },
     "execution_count": 84,
     "metadata": {},
     "output_type": "execute_result"
    }
   ],
   "source": [
    "# Display the data\n",
    "print(\"Calls:\\n\")\n",
    "calls.head()"
   ]
  },
  {
   "cell_type": "code",
   "execution_count": 74,
   "id": "90d430d4",
   "metadata": {
    "id": "90d430d4",
    "outputId": "c967f95b-5c52-46ef-abda-06bd450241a6",
    "slideshow": {
     "slide_type": "subslide"
    }
   },
   "outputs": [
    {
     "name": "stdout",
     "output_type": "stream",
     "text": [
      "Puts:\n",
      "\n"
     ]
    },
    {
     "data": {
      "text/html": [
       "<div>\n",
       "<style scoped>\n",
       "    .dataframe tbody tr th:only-of-type {\n",
       "        vertical-align: middle;\n",
       "    }\n",
       "\n",
       "    .dataframe tbody tr th {\n",
       "        vertical-align: top;\n",
       "    }\n",
       "\n",
       "    .dataframe thead th {\n",
       "        text-align: right;\n",
       "    }\n",
       "</style>\n",
       "<table border=\"1\" class=\"dataframe\">\n",
       "  <thead>\n",
       "    <tr style=\"text-align: right;\">\n",
       "      <th></th>\n",
       "      <th>contractSymbol</th>\n",
       "      <th>lastTradeDate</th>\n",
       "      <th>strike</th>\n",
       "      <th>lastPrice</th>\n",
       "      <th>bid</th>\n",
       "      <th>ask</th>\n",
       "      <th>change</th>\n",
       "      <th>percentChange</th>\n",
       "      <th>volume</th>\n",
       "      <th>openInterest</th>\n",
       "      <th>impliedVolatility</th>\n",
       "      <th>inTheMoney</th>\n",
       "      <th>contractSize</th>\n",
       "      <th>currency</th>\n",
       "    </tr>\n",
       "  </thead>\n",
       "  <tbody>\n",
       "    <tr>\n",
       "      <th>0</th>\n",
       "      <td>AAPL250228P00100000</td>\n",
       "      <td>2025-02-03 14:30:11+00:00</td>\n",
       "      <td>100.0</td>\n",
       "      <td>0.03</td>\n",
       "      <td>0.0</td>\n",
       "      <td>0.01</td>\n",
       "      <td>0.0</td>\n",
       "      <td>0.0</td>\n",
       "      <td>1</td>\n",
       "      <td>31</td>\n",
       "      <td>1.937500</td>\n",
       "      <td>False</td>\n",
       "      <td>REGULAR</td>\n",
       "      <td>USD</td>\n",
       "    </tr>\n",
       "    <tr>\n",
       "      <th>1</th>\n",
       "      <td>AAPL250228P00110000</td>\n",
       "      <td>2025-02-20 14:30:01+00:00</td>\n",
       "      <td>110.0</td>\n",
       "      <td>0.01</td>\n",
       "      <td>0.0</td>\n",
       "      <td>0.01</td>\n",
       "      <td>0.0</td>\n",
       "      <td>0.0</td>\n",
       "      <td>1</td>\n",
       "      <td>41</td>\n",
       "      <td>1.750001</td>\n",
       "      <td>False</td>\n",
       "      <td>REGULAR</td>\n",
       "      <td>USD</td>\n",
       "    </tr>\n",
       "    <tr>\n",
       "      <th>2</th>\n",
       "      <td>AAPL250228P00120000</td>\n",
       "      <td>2025-02-20 14:30:01+00:00</td>\n",
       "      <td>120.0</td>\n",
       "      <td>0.02</td>\n",
       "      <td>0.0</td>\n",
       "      <td>0.01</td>\n",
       "      <td>0.0</td>\n",
       "      <td>0.0</td>\n",
       "      <td>1</td>\n",
       "      <td>24</td>\n",
       "      <td>1.562502</td>\n",
       "      <td>False</td>\n",
       "      <td>REGULAR</td>\n",
       "      <td>USD</td>\n",
       "    </tr>\n",
       "    <tr>\n",
       "      <th>3</th>\n",
       "      <td>AAPL250228P00130000</td>\n",
       "      <td>2025-02-21 20:15:20+00:00</td>\n",
       "      <td>130.0</td>\n",
       "      <td>0.01</td>\n",
       "      <td>0.0</td>\n",
       "      <td>0.01</td>\n",
       "      <td>0.0</td>\n",
       "      <td>0.0</td>\n",
       "      <td>1</td>\n",
       "      <td>58</td>\n",
       "      <td>1.406253</td>\n",
       "      <td>False</td>\n",
       "      <td>REGULAR</td>\n",
       "      <td>USD</td>\n",
       "    </tr>\n",
       "    <tr>\n",
       "      <th>4</th>\n",
       "      <td>AAPL250228P00140000</td>\n",
       "      <td>2025-02-13 20:18:11+00:00</td>\n",
       "      <td>140.0</td>\n",
       "      <td>0.01</td>\n",
       "      <td>0.0</td>\n",
       "      <td>0.01</td>\n",
       "      <td>0.0</td>\n",
       "      <td>0.0</td>\n",
       "      <td>8</td>\n",
       "      <td>113</td>\n",
       "      <td>1.250004</td>\n",
       "      <td>False</td>\n",
       "      <td>REGULAR</td>\n",
       "      <td>USD</td>\n",
       "    </tr>\n",
       "  </tbody>\n",
       "</table>\n",
       "</div>"
      ],
      "text/plain": [
       "        contractSymbol             lastTradeDate  strike  lastPrice  bid  \\\n",
       "0  AAPL250228P00100000 2025-02-03 14:30:11+00:00   100.0       0.03  0.0   \n",
       "1  AAPL250228P00110000 2025-02-20 14:30:01+00:00   110.0       0.01  0.0   \n",
       "2  AAPL250228P00120000 2025-02-20 14:30:01+00:00   120.0       0.02  0.0   \n",
       "3  AAPL250228P00130000 2025-02-21 20:15:20+00:00   130.0       0.01  0.0   \n",
       "4  AAPL250228P00140000 2025-02-13 20:18:11+00:00   140.0       0.01  0.0   \n",
       "\n",
       "    ask  change  percentChange  volume  openInterest  impliedVolatility  \\\n",
       "0  0.01     0.0            0.0       1            31           1.937500   \n",
       "1  0.01     0.0            0.0       1            41           1.750001   \n",
       "2  0.01     0.0            0.0       1            24           1.562502   \n",
       "3  0.01     0.0            0.0       1            58           1.406253   \n",
       "4  0.01     0.0            0.0       8           113           1.250004   \n",
       "\n",
       "   inTheMoney contractSize currency  \n",
       "0       False      REGULAR      USD  \n",
       "1       False      REGULAR      USD  \n",
       "2       False      REGULAR      USD  \n",
       "3       False      REGULAR      USD  \n",
       "4       False      REGULAR      USD  "
      ]
     },
     "execution_count": 74,
     "metadata": {},
     "output_type": "execute_result"
    }
   ],
   "source": [
    "print(\"Puts:\\n\")\n",
    "puts.head()"
   ]
  },
  {
   "cell_type": "markdown",
   "id": "d6bbfdc3",
   "metadata": {
    "id": "d6bbfdc3",
    "slideshow": {
     "slide_type": "skip"
    }
   },
   "source": [
    "**Analyze Option Data**\n",
    "\n",
    "You can process and analyze the data to gain insights.\n",
    "\n",
    "Example: ***Filter Options Based on Strike Price***"
   ]
  },
  {
   "cell_type": "code",
   "execution_count": 75,
   "id": "cc6499b1",
   "metadata": {
    "id": "cc6499b1",
    "outputId": "82d33820-5a81-4541-d2ca-77edda8d1b61",
    "slideshow": {
     "slide_type": "skip"
    }
   },
   "outputs": [
    {
     "data": {
      "text/html": [
       "<div>\n",
       "<style scoped>\n",
       "    .dataframe tbody tr th:only-of-type {\n",
       "        vertical-align: middle;\n",
       "    }\n",
       "\n",
       "    .dataframe tbody tr th {\n",
       "        vertical-align: top;\n",
       "    }\n",
       "\n",
       "    .dataframe thead th {\n",
       "        text-align: right;\n",
       "    }\n",
       "</style>\n",
       "<table border=\"1\" class=\"dataframe\">\n",
       "  <thead>\n",
       "    <tr style=\"text-align: right;\">\n",
       "      <th></th>\n",
       "      <th>contractSymbol</th>\n",
       "      <th>lastTradeDate</th>\n",
       "      <th>strike</th>\n",
       "      <th>lastPrice</th>\n",
       "      <th>bid</th>\n",
       "      <th>ask</th>\n",
       "      <th>change</th>\n",
       "      <th>percentChange</th>\n",
       "      <th>volume</th>\n",
       "      <th>openInterest</th>\n",
       "      <th>impliedVolatility</th>\n",
       "      <th>inTheMoney</th>\n",
       "      <th>contractSize</th>\n",
       "      <th>currency</th>\n",
       "    </tr>\n",
       "  </thead>\n",
       "  <tbody>\n",
       "    <tr>\n",
       "      <th>4</th>\n",
       "      <td>AAPL250228C00165000</td>\n",
       "      <td>2025-02-21 18:26:50+00:00</td>\n",
       "      <td>165.0</td>\n",
       "      <td>82.75</td>\n",
       "      <td>79.70</td>\n",
       "      <td>81.70</td>\n",
       "      <td>17.809998</td>\n",
       "      <td>27.425310</td>\n",
       "      <td>2.0</td>\n",
       "      <td>3</td>\n",
       "      <td>1.275394</td>\n",
       "      <td>True</td>\n",
       "      <td>REGULAR</td>\n",
       "      <td>USD</td>\n",
       "    </tr>\n",
       "    <tr>\n",
       "      <th>5</th>\n",
       "      <td>AAPL250228C00170000</td>\n",
       "      <td>2025-02-20 19:37:20+00:00</td>\n",
       "      <td>170.0</td>\n",
       "      <td>75.30</td>\n",
       "      <td>74.75</td>\n",
       "      <td>76.70</td>\n",
       "      <td>0.000000</td>\n",
       "      <td>0.000000</td>\n",
       "      <td>1.0</td>\n",
       "      <td>10</td>\n",
       "      <td>1.214848</td>\n",
       "      <td>True</td>\n",
       "      <td>REGULAR</td>\n",
       "      <td>USD</td>\n",
       "    </tr>\n",
       "    <tr>\n",
       "      <th>6</th>\n",
       "      <td>AAPL250228C00175000</td>\n",
       "      <td>2025-02-21 18:21:14+00:00</td>\n",
       "      <td>175.0</td>\n",
       "      <td>72.50</td>\n",
       "      <td>70.35</td>\n",
       "      <td>71.15</td>\n",
       "      <td>3.720001</td>\n",
       "      <td>5.408551</td>\n",
       "      <td>427.0</td>\n",
       "      <td>523</td>\n",
       "      <td>1.152348</td>\n",
       "      <td>True</td>\n",
       "      <td>REGULAR</td>\n",
       "      <td>USD</td>\n",
       "    </tr>\n",
       "    <tr>\n",
       "      <th>7</th>\n",
       "      <td>AAPL250228C00180000</td>\n",
       "      <td>2025-02-21 19:00:48+00:00</td>\n",
       "      <td>180.0</td>\n",
       "      <td>67.99</td>\n",
       "      <td>64.80</td>\n",
       "      <td>66.50</td>\n",
       "      <td>2.430000</td>\n",
       "      <td>3.706529</td>\n",
       "      <td>11.0</td>\n",
       "      <td>199</td>\n",
       "      <td>0.968750</td>\n",
       "      <td>True</td>\n",
       "      <td>REGULAR</td>\n",
       "      <td>USD</td>\n",
       "    </tr>\n",
       "    <tr>\n",
       "      <th>8</th>\n",
       "      <td>AAPL250228C00185000</td>\n",
       "      <td>2025-02-21 20:57:07+00:00</td>\n",
       "      <td>185.0</td>\n",
       "      <td>60.77</td>\n",
       "      <td>59.70</td>\n",
       "      <td>61.75</td>\n",
       "      <td>0.010002</td>\n",
       "      <td>0.016462</td>\n",
       "      <td>3.0</td>\n",
       "      <td>121</td>\n",
       "      <td>0.964844</td>\n",
       "      <td>True</td>\n",
       "      <td>REGULAR</td>\n",
       "      <td>USD</td>\n",
       "    </tr>\n",
       "  </tbody>\n",
       "</table>\n",
       "</div>"
      ],
      "text/plain": [
       "        contractSymbol             lastTradeDate  strike  lastPrice    bid  \\\n",
       "4  AAPL250228C00165000 2025-02-21 18:26:50+00:00   165.0      82.75  79.70   \n",
       "5  AAPL250228C00170000 2025-02-20 19:37:20+00:00   170.0      75.30  74.75   \n",
       "6  AAPL250228C00175000 2025-02-21 18:21:14+00:00   175.0      72.50  70.35   \n",
       "7  AAPL250228C00180000 2025-02-21 19:00:48+00:00   180.0      67.99  64.80   \n",
       "8  AAPL250228C00185000 2025-02-21 20:57:07+00:00   185.0      60.77  59.70   \n",
       "\n",
       "     ask     change  percentChange  volume  openInterest  impliedVolatility  \\\n",
       "4  81.70  17.809998      27.425310     2.0             3           1.275394   \n",
       "5  76.70   0.000000       0.000000     1.0            10           1.214848   \n",
       "6  71.15   3.720001       5.408551   427.0           523           1.152348   \n",
       "7  66.50   2.430000       3.706529    11.0           199           0.968750   \n",
       "8  61.75   0.010002       0.016462     3.0           121           0.964844   \n",
       "\n",
       "   inTheMoney contractSize currency  \n",
       "4        True      REGULAR      USD  \n",
       "5        True      REGULAR      USD  \n",
       "6        True      REGULAR      USD  \n",
       "7        True      REGULAR      USD  \n",
       "8        True      REGULAR      USD  "
      ]
     },
     "execution_count": 75,
     "metadata": {},
     "output_type": "execute_result"
    }
   ],
   "source": [
    "# Filter calls with a strike price greater than 150\n",
    "filtered_calls = calls[calls['strike'] > 150]\n",
    "filtered_calls.head()"
   ]
  },
  {
   "cell_type": "markdown",
   "id": "05e5f6e0",
   "metadata": {
    "id": "05e5f6e0",
    "slideshow": {
     "slide_type": "skip"
    }
   },
   "source": [
    "Example: ***Sort Options by Open Interest***"
   ]
  },
  {
   "cell_type": "code",
   "execution_count": 76,
   "id": "99cf1012",
   "metadata": {
    "id": "99cf1012",
    "outputId": "80596d09-c02e-4191-d56d-dad764dacc94",
    "slideshow": {
     "slide_type": "skip"
    }
   },
   "outputs": [
    {
     "data": {
      "text/html": [
       "<div>\n",
       "<style scoped>\n",
       "    .dataframe tbody tr th:only-of-type {\n",
       "        vertical-align: middle;\n",
       "    }\n",
       "\n",
       "    .dataframe tbody tr th {\n",
       "        vertical-align: top;\n",
       "    }\n",
       "\n",
       "    .dataframe thead th {\n",
       "        text-align: right;\n",
       "    }\n",
       "</style>\n",
       "<table border=\"1\" class=\"dataframe\">\n",
       "  <thead>\n",
       "    <tr style=\"text-align: right;\">\n",
       "      <th></th>\n",
       "      <th>contractSymbol</th>\n",
       "      <th>lastTradeDate</th>\n",
       "      <th>strike</th>\n",
       "      <th>lastPrice</th>\n",
       "      <th>bid</th>\n",
       "      <th>ask</th>\n",
       "      <th>change</th>\n",
       "      <th>percentChange</th>\n",
       "      <th>volume</th>\n",
       "      <th>openInterest</th>\n",
       "      <th>impliedVolatility</th>\n",
       "      <th>inTheMoney</th>\n",
       "      <th>contractSize</th>\n",
       "      <th>currency</th>\n",
       "    </tr>\n",
       "  </thead>\n",
       "  <tbody>\n",
       "    <tr>\n",
       "      <th>33</th>\n",
       "      <td>AAPL250228P00245000</td>\n",
       "      <td>2025-02-21 20:59:58+00:00</td>\n",
       "      <td>245.0</td>\n",
       "      <td>2.63</td>\n",
       "      <td>2.57</td>\n",
       "      <td>2.65</td>\n",
       "      <td>0.23</td>\n",
       "      <td>9.583334</td>\n",
       "      <td>32187</td>\n",
       "      <td>8698</td>\n",
       "      <td>0.215340</td>\n",
       "      <td>False</td>\n",
       "      <td>REGULAR</td>\n",
       "      <td>USD</td>\n",
       "    </tr>\n",
       "    <tr>\n",
       "      <th>27</th>\n",
       "      <td>AAPL250228P00230000</td>\n",
       "      <td>2025-02-21 20:59:48+00:00</td>\n",
       "      <td>230.0</td>\n",
       "      <td>0.30</td>\n",
       "      <td>0.28</td>\n",
       "      <td>0.30</td>\n",
       "      <td>0.13</td>\n",
       "      <td>76.470600</td>\n",
       "      <td>9604</td>\n",
       "      <td>6312</td>\n",
       "      <td>0.313972</td>\n",
       "      <td>False</td>\n",
       "      <td>REGULAR</td>\n",
       "      <td>USD</td>\n",
       "    </tr>\n",
       "    <tr>\n",
       "      <th>31</th>\n",
       "      <td>AAPL250228P00240000</td>\n",
       "      <td>2025-02-21 20:59:57+00:00</td>\n",
       "      <td>240.0</td>\n",
       "      <td>1.18</td>\n",
       "      <td>1.17</td>\n",
       "      <td>1.20</td>\n",
       "      <td>0.22</td>\n",
       "      <td>22.916664</td>\n",
       "      <td>23297</td>\n",
       "      <td>5693</td>\n",
       "      <td>0.242195</td>\n",
       "      <td>False</td>\n",
       "      <td>REGULAR</td>\n",
       "      <td>USD</td>\n",
       "    </tr>\n",
       "    <tr>\n",
       "      <th>29</th>\n",
       "      <td>AAPL250228P00235000</td>\n",
       "      <td>2025-02-21 20:59:59+00:00</td>\n",
       "      <td>235.0</td>\n",
       "      <td>0.54</td>\n",
       "      <td>0.54</td>\n",
       "      <td>0.56</td>\n",
       "      <td>0.17</td>\n",
       "      <td>45.945950</td>\n",
       "      <td>12941</td>\n",
       "      <td>4751</td>\n",
       "      <td>0.274421</td>\n",
       "      <td>False</td>\n",
       "      <td>REGULAR</td>\n",
       "      <td>USD</td>\n",
       "    </tr>\n",
       "    <tr>\n",
       "      <th>30</th>\n",
       "      <td>AAPL250228P00237500</td>\n",
       "      <td>2025-02-21 20:59:58+00:00</td>\n",
       "      <td>237.5</td>\n",
       "      <td>0.81</td>\n",
       "      <td>0.79</td>\n",
       "      <td>0.82</td>\n",
       "      <td>0.22</td>\n",
       "      <td>37.288140</td>\n",
       "      <td>5224</td>\n",
       "      <td>3310</td>\n",
       "      <td>0.258552</td>\n",
       "      <td>False</td>\n",
       "      <td>REGULAR</td>\n",
       "      <td>USD</td>\n",
       "    </tr>\n",
       "  </tbody>\n",
       "</table>\n",
       "</div>"
      ],
      "text/plain": [
       "         contractSymbol             lastTradeDate  strike  lastPrice   bid  \\\n",
       "33  AAPL250228P00245000 2025-02-21 20:59:58+00:00   245.0       2.63  2.57   \n",
       "27  AAPL250228P00230000 2025-02-21 20:59:48+00:00   230.0       0.30  0.28   \n",
       "31  AAPL250228P00240000 2025-02-21 20:59:57+00:00   240.0       1.18  1.17   \n",
       "29  AAPL250228P00235000 2025-02-21 20:59:59+00:00   235.0       0.54  0.54   \n",
       "30  AAPL250228P00237500 2025-02-21 20:59:58+00:00   237.5       0.81  0.79   \n",
       "\n",
       "     ask  change  percentChange  volume  openInterest  impliedVolatility  \\\n",
       "33  2.65    0.23       9.583334   32187          8698           0.215340   \n",
       "27  0.30    0.13      76.470600    9604          6312           0.313972   \n",
       "31  1.20    0.22      22.916664   23297          5693           0.242195   \n",
       "29  0.56    0.17      45.945950   12941          4751           0.274421   \n",
       "30  0.82    0.22      37.288140    5224          3310           0.258552   \n",
       "\n",
       "    inTheMoney contractSize currency  \n",
       "33       False      REGULAR      USD  \n",
       "27       False      REGULAR      USD  \n",
       "31       False      REGULAR      USD  \n",
       "29       False      REGULAR      USD  \n",
       "30       False      REGULAR      USD  "
      ]
     },
     "execution_count": 76,
     "metadata": {},
     "output_type": "execute_result"
    }
   ],
   "source": [
    "# Sort puts by open interest in descending order\n",
    "sorted_puts = puts.sort_values(by='openInterest', ascending=False)\n",
    "sorted_puts.head()"
   ]
  },
  {
   "cell_type": "markdown",
   "id": "c25c3ade",
   "metadata": {
    "id": "c25c3ade",
    "slideshow": {
     "slide_type": "skip"
    }
   },
   "source": [
    "Example: **Merge Calls and Puts**"
   ]
  },
  {
   "cell_type": "code",
   "execution_count": 77,
   "id": "4ddd507f",
   "metadata": {
    "id": "4ddd507f",
    "outputId": "17f235c2-7685-466a-87b1-2bb30f2b9ba9",
    "slideshow": {
     "slide_type": "skip"
    }
   },
   "outputs": [
    {
     "data": {
      "text/html": [
       "<div>\n",
       "<style scoped>\n",
       "    .dataframe tbody tr th:only-of-type {\n",
       "        vertical-align: middle;\n",
       "    }\n",
       "\n",
       "    .dataframe tbody tr th {\n",
       "        vertical-align: top;\n",
       "    }\n",
       "\n",
       "    .dataframe thead th {\n",
       "        text-align: right;\n",
       "    }\n",
       "</style>\n",
       "<table border=\"1\" class=\"dataframe\">\n",
       "  <thead>\n",
       "    <tr style=\"text-align: right;\">\n",
       "      <th></th>\n",
       "      <th>contractSymbol</th>\n",
       "      <th>lastTradeDate</th>\n",
       "      <th>strike</th>\n",
       "      <th>lastPrice</th>\n",
       "      <th>bid</th>\n",
       "      <th>ask</th>\n",
       "      <th>change</th>\n",
       "      <th>percentChange</th>\n",
       "      <th>volume</th>\n",
       "      <th>openInterest</th>\n",
       "      <th>impliedVolatility</th>\n",
       "      <th>inTheMoney</th>\n",
       "      <th>contractSize</th>\n",
       "      <th>currency</th>\n",
       "      <th>type</th>\n",
       "    </tr>\n",
       "  </thead>\n",
       "  <tbody>\n",
       "    <tr>\n",
       "      <th>0</th>\n",
       "      <td>AAPL250228C00110000</td>\n",
       "      <td>2025-01-21 19:20:02+00:00</td>\n",
       "      <td>110.0</td>\n",
       "      <td>111.67</td>\n",
       "      <td>133.80</td>\n",
       "      <td>136.75</td>\n",
       "      <td>0.000000</td>\n",
       "      <td>0.00000</td>\n",
       "      <td>NaN</td>\n",
       "      <td>0</td>\n",
       "      <td>3.315431</td>\n",
       "      <td>True</td>\n",
       "      <td>REGULAR</td>\n",
       "      <td>USD</td>\n",
       "      <td>Call</td>\n",
       "    </tr>\n",
       "    <tr>\n",
       "      <th>1</th>\n",
       "      <td>AAPL250228C00140000</td>\n",
       "      <td>2025-02-20 14:59:32+00:00</td>\n",
       "      <td>140.0</td>\n",
       "      <td>105.09</td>\n",
       "      <td>103.80</td>\n",
       "      <td>106.85</td>\n",
       "      <td>0.000000</td>\n",
       "      <td>0.00000</td>\n",
       "      <td>1.0</td>\n",
       "      <td>37</td>\n",
       "      <td>2.462894</td>\n",
       "      <td>True</td>\n",
       "      <td>REGULAR</td>\n",
       "      <td>USD</td>\n",
       "      <td>Call</td>\n",
       "    </tr>\n",
       "    <tr>\n",
       "      <th>2</th>\n",
       "      <td>AAPL250228C00145000</td>\n",
       "      <td>2025-02-11 15:05:42+00:00</td>\n",
       "      <td>145.0</td>\n",
       "      <td>86.52</td>\n",
       "      <td>98.85</td>\n",
       "      <td>101.85</td>\n",
       "      <td>0.000000</td>\n",
       "      <td>0.00000</td>\n",
       "      <td>4.0</td>\n",
       "      <td>1</td>\n",
       "      <td>2.331059</td>\n",
       "      <td>True</td>\n",
       "      <td>REGULAR</td>\n",
       "      <td>USD</td>\n",
       "      <td>Call</td>\n",
       "    </tr>\n",
       "    <tr>\n",
       "      <th>3</th>\n",
       "      <td>AAPL250228C00150000</td>\n",
       "      <td>2025-02-18 15:36:57+00:00</td>\n",
       "      <td>150.0</td>\n",
       "      <td>94.39</td>\n",
       "      <td>94.75</td>\n",
       "      <td>96.75</td>\n",
       "      <td>0.000000</td>\n",
       "      <td>0.00000</td>\n",
       "      <td>2.0</td>\n",
       "      <td>10</td>\n",
       "      <td>1.607424</td>\n",
       "      <td>True</td>\n",
       "      <td>REGULAR</td>\n",
       "      <td>USD</td>\n",
       "      <td>Call</td>\n",
       "    </tr>\n",
       "    <tr>\n",
       "      <th>4</th>\n",
       "      <td>AAPL250228C00165000</td>\n",
       "      <td>2025-02-21 18:26:50+00:00</td>\n",
       "      <td>165.0</td>\n",
       "      <td>82.75</td>\n",
       "      <td>79.70</td>\n",
       "      <td>81.70</td>\n",
       "      <td>17.809998</td>\n",
       "      <td>27.42531</td>\n",
       "      <td>2.0</td>\n",
       "      <td>3</td>\n",
       "      <td>1.275394</td>\n",
       "      <td>True</td>\n",
       "      <td>REGULAR</td>\n",
       "      <td>USD</td>\n",
       "      <td>Call</td>\n",
       "    </tr>\n",
       "  </tbody>\n",
       "</table>\n",
       "</div>"
      ],
      "text/plain": [
       "        contractSymbol             lastTradeDate  strike  lastPrice     bid  \\\n",
       "0  AAPL250228C00110000 2025-01-21 19:20:02+00:00   110.0     111.67  133.80   \n",
       "1  AAPL250228C00140000 2025-02-20 14:59:32+00:00   140.0     105.09  103.80   \n",
       "2  AAPL250228C00145000 2025-02-11 15:05:42+00:00   145.0      86.52   98.85   \n",
       "3  AAPL250228C00150000 2025-02-18 15:36:57+00:00   150.0      94.39   94.75   \n",
       "4  AAPL250228C00165000 2025-02-21 18:26:50+00:00   165.0      82.75   79.70   \n",
       "\n",
       "      ask     change  percentChange  volume  openInterest  impliedVolatility  \\\n",
       "0  136.75   0.000000        0.00000     NaN             0           3.315431   \n",
       "1  106.85   0.000000        0.00000     1.0            37           2.462894   \n",
       "2  101.85   0.000000        0.00000     4.0             1           2.331059   \n",
       "3   96.75   0.000000        0.00000     2.0            10           1.607424   \n",
       "4   81.70  17.809998       27.42531     2.0             3           1.275394   \n",
       "\n",
       "   inTheMoney contractSize currency  type  \n",
       "0        True      REGULAR      USD  Call  \n",
       "1        True      REGULAR      USD  Call  \n",
       "2        True      REGULAR      USD  Call  \n",
       "3        True      REGULAR      USD  Call  \n",
       "4        True      REGULAR      USD  Call  "
      ]
     },
     "execution_count": 77,
     "metadata": {},
     "output_type": "execute_result"
    }
   ],
   "source": [
    "# Add a column to distinguish between calls and puts\n",
    "calls['type'] = 'Call'\n",
    "puts['type'] = 'Put'\n",
    "\n",
    "# Merge calls and puts\n",
    "merged_options = pd.concat([calls, puts])\n",
    "merged_options.head()"
   ]
  },
  {
   "cell_type": "markdown",
   "id": "82c8eb98",
   "metadata": {
    "id": "82c8eb98",
    "slideshow": {
     "slide_type": "skip"
    }
   },
   "source": [
    "**Save Option Data to CSV**\n",
    "\n",
    "You can save the fetched option data to a CSV file for further analysis:"
   ]
  },
  {
   "cell_type": "code",
   "execution_count": 78,
   "id": "d24c0fb2",
   "metadata": {
    "id": "d24c0fb2",
    "slideshow": {
     "slide_type": "skip"
    }
   },
   "outputs": [],
   "source": [
    "# Save calls and puts to separate CSV files\n",
    "calls.to_csv(\"./calls_data.csv\", index=False)\n",
    "puts.to_csv(\"./puts_data.csv\", index=False)"
   ]
  },
  {
   "cell_type": "markdown",
   "id": "8a0ad792",
   "metadata": {
    "id": "8a0ad792",
    "slideshow": {
     "slide_type": "subslide"
    }
   },
   "source": [
    "**Automate the Process for All Expiration Dates**\n",
    "\n",
    "If you want to fetch options data for all expiration dates..."
   ]
  },
  {
   "cell_type": "code",
   "execution_count": 79,
   "id": "6243642c",
   "metadata": {
    "id": "6243642c"
   },
   "outputs": [],
   "source": [
    "# Initialize empty lists to store call and put option data\n",
    "all_calls = []\n",
    "all_puts = []\n",
    "# Iterate over each expiration date in the list\n",
    "for date in expiration_dates:\n",
    "    # Retrieve the option chain data for the given expiration date\n",
    "    options = ticker.option_chain(date)\n",
    "    # Extract call and put options separately\n",
    "    calls, puts = options.calls, options.puts\n",
    "    # Add a new column to each DataFrame to store the expiration date\n",
    "    calls['expirationDate'] = date\n",
    "    puts['expirationDate'] = date\n",
    "    # Append the modified DataFrames to the respective lists\n",
    "    all_calls.append(calls)\n",
    "    all_puts.append(puts)\n",
    "# Combine all collected call options into a single DataFrame\n",
    "all_calls_data = pd.concat(all_calls)\n",
    "# Combine all collected put options into a single DataFrame\n",
    "all_puts_data = pd.concat(all_puts)\n",
    "# Save the combined call options data to a CSV file\n",
    "all_calls_data.to_csv(\"all_calls_data.csv\", index=False)\n",
    "# Save the combined put options data to a CSV file\n",
    "all_puts_data.to_csv(\"all_puts_data.csv\", index=False)"
   ]
  },
  {
   "cell_type": "markdown",
   "id": "bddccbb0",
   "metadata": {
    "slideshow": {
     "slide_type": "subslide"
    }
   },
   "source": [
    "<div class=\"alert alert-warning\" style=\"background-color: #FFD700; color: black;\">\n",
    "    <strong>Limitations</strong>\n",
    "\n",
    "yfinance does not provide historical options data; you can only access current data for the available expiration dates.\n",
    "</div>\n"
   ]
  },
  {
   "cell_type": "markdown",
   "id": "ff3bcc20",
   "metadata": {
    "id": "ff3bcc20",
    "slideshow": {
     "slide_type": "skip"
    }
   },
   "source": [
    "## Appendix - Python syntax reminders"
   ]
  },
  {
   "cell_type": "markdown",
   "id": "8f909e7c",
   "metadata": {
    "id": "8f909e7c",
    "slideshow": {
     "slide_type": "skip"
    }
   },
   "source": [
    "### What is a Lambda Function in Python?\n",
    "\n",
    "A **lambda function** in Python is a **small, anonymous function** that is defined using the `lambda` keyword. Unlike regular functions (`def`), a lambda function **does not have a name** and is typically used for short, one-time operations.\n",
    "\n",
    "**Syntax of a Lambda Function**\n",
    "\n",
    "```python\n",
    "lambda arguments: expression\n",
    "```\n",
    "- `lambda` → The keyword to define a lambda function.\n",
    "- `arguments` → Inputs to the function (like parameters in `def` functions).\n",
    "- `expression` → A single-line operation that **returns** a value automatically.\n",
    "\n",
    "🛑 **Key Restrictions**:\n",
    "\n",
    "- A lambda function **must have exactly one expression** (cannot contain multiple statements).\n",
    "\n",
    "- It **returns the result automatically** (no need for `return`).\n",
    "\n",
    "**Basic Example**\n",
    "\n",
    "A lambda function to add two numbers:\n",
    "```python\n",
    "add = lambda x, y: x + y\n",
    "print(add(3, 5))  # Output: 8\n",
    "```\n",
    "- `lambda x, y: x + y` → Defines a function that takes `x` and `y` and returns their sum.\n",
    "- `add(3, 5)` → Calls the lambda function with `x=3` and `y=5`.\n",
    "\n",
    "💡 **Equivalent Regular Function:**\n",
    "\n",
    "```python\n",
    "def add(x, y):\n",
    "    return x + y\n",
    "```\n",
    "\n",
    "Lambdas are just a **shorter** way to write simple functions.\n",
    "\n",
    "**Use Cases of Lambda Functions**\n",
    "\n",
    "Lambdas are often used where short, quick functions are needed, such as:\n",
    "\n",
    "**1. Using Lambda with `map()` (Apply Function to a List)**\n",
    "\n",
    "```python\n",
    "numbers = [1, 2, 3, 4]\n",
    "squared = list(map(lambda x: x ** 2, numbers))\n",
    "print(squared)  # Output: [1, 4, 9, 16]\n",
    "```\n",
    "- `map()` applies the lambda function (`x ** 2`) to **each element** in `numbers`.\n",
    "\n",
    "**2. Using Lambda with `filter()` (Filter Elements in a List)**\n",
    "\n",
    "```python\n",
    "numbers = [10, 15, 20, 25, 30]\n",
    "filtered = list(filter(lambda x: x > 15, numbers))\n",
    "print(filtered)  # Output: [20, 25, 30]\n",
    "```\n",
    "- `filter()` keeps only the values **greater than 15**.\n",
    "\n",
    "**3. Using Lambda with `sorted()` (Custom Sorting)**\n",
    "\n",
    "```python\n",
    "names = [\"Charlie\", \"Alice\", \"Bob\"]\n",
    "sorted_names = sorted(names, key=lambda name: len(name))\n",
    "print(sorted_names)  # Output: ['Bob', 'Alice', 'Charlie']\n",
    "```\n",
    "- `sorted()` sorts by **string length** using the lambda function.\n",
    "\n",
    "**4. Using Lambda in `reduce()` (Accumulate a Value)**\n",
    "\n",
    "```python\n",
    "from functools import reduce\n",
    "numbers = [1, 2, 3, 4]\n",
    "product = reduce(lambda x, y: x * y, numbers)\n",
    "print(product)  # Output: 24\n",
    "```\n",
    "- `reduce()` applies the lambda **cumulatively**:  \n",
    "  `((1*2) * 3) * 4 = 24`.\n",
    "\n",
    "**Key Differences Between `lambda` and `def`**\n",
    "\n",
    "| Feature             | `lambda` Function       | `def` Function           |\n",
    "|---------------------|------------------------|--------------------------|\n",
    "| **Definition**      | Uses `lambda` keyword   | Uses `def` keyword       |\n",
    "| **Name**           | Anonymous (nameless)    | Requires a function name |\n",
    "| **Number of Expressions** | Only one          | Multiple statements allowed |\n",
    "| **Return Keyword** | Implicit return         | Requires `return` keyword |\n",
    "| **Best Used For**  | Short, simple functions | Complex logic & multi-line code |\n",
    "\n",
    "**When to Use Lambda Functions**\n",
    "\n",
    "✅ **Use `lambda` for short, one-time use functions** (e.g., inside `map()`, `filter()`, `sorted()`).  \n",
    "\n",
    "✅ **Use `def` for complex functions** requiring multiple lines or readability.\n",
    "\n",
    "🚀 **Conclusion**: Lambda functions are **concise**, but should be used **wisely** when clarity is not compromised!"
   ]
  },
  {
   "cell_type": "markdown",
   "id": "b20b5f4f",
   "metadata": {
    "id": "b20b5f4f",
    "slideshow": {
     "slide_type": "skip"
    }
   },
   "source": [
    "### What is an f-string in Python?\n",
    "\n",
    "An **f-string** (formatted string literal) is a way to embed expressions inside string literals using curly braces `{}`. It was introduced in **Python 3.6** and provides a concise, readable, and efficient way to format strings.\n",
    "\n",
    "**Syntax of f-strings**\n",
    "\n",
    "An f-string is prefixed with `f` (or `F`), and variables or expressions are placed inside `{}`:\n",
    "\n",
    "```python\n",
    "name = \"Alice\"\n",
    "age = 30\n",
    "formatted_string = f\"My name is {name} and I am {age} years old.\"\n",
    "print(formatted_string)\n",
    "```\n",
    "\n",
    "**Output:**\n",
    "```\n",
    "My name is Alice and I am 30 years old.\n",
    "```\n",
    "\n",
    "**Key Features of f-strings**\n",
    "\n",
    "1. **Variable Interpolation**  \n",
    "   Directly insert variables into strings:\n",
    "   ```python\n",
    "   x = 5\n",
    "   y = 10\n",
    "   print(f\"The sum of {x} and {y} is {x + y}.\")\n",
    "   ```\n",
    "   **Output:**  \n",
    "   ```\n",
    "   The sum of 5 and 10 is 15.\n",
    "   ```\n",
    "\n",
    "2. **Expression Evaluation**  \n",
    "   You can use **any valid Python expression** inside `{}`:\n",
    "   ```python\n",
    "   print(f\"The square of 4 is {4**2}.\")\n",
    "   ```\n",
    "   **Output:**  \n",
    "   ```\n",
    "   The square of 4 is 16.\n",
    "   ```\n",
    "\n",
    "3. **Formatting Numbers**  \n",
    "   Use format specifiers like `.2f` (two decimal places), `,` (thousands separator), etc.:\n",
    "   ```python\n",
    "   pi = 3.14159\n",
    "   print(f\"Pi rounded to 2 decimal places: {pi:.2f}\")\n",
    "   print(f\"Large number with commas: {1000000:,}\")\n",
    "   ```\n",
    "   **Output:**  \n",
    "   ```\n",
    "   Pi rounded to 2 decimal places: 3.14\n",
    "   Large number with commas: 1,000,000\n",
    "   ```\n",
    "\n",
    "4. **Padding & Alignment**  \n",
    "   Align text and numbers:\n",
    "   ```python\n",
    "   print(f\"{'Left':<10} | {'Center':^10} | {'Right':>10}\")\n",
    "   ```\n",
    "   **Output:**  \n",
    "   ```\n",
    "   Left       |   Center   |      Right\n",
    "   ```\n",
    "\n",
    "5. **Calling Functions Inside f-strings**  \n",
    "   ```python\n",
    "   def greet(name):\n",
    "       return f\"Hello, {name}!\"\n",
    "\n",
    "   print(f\"{greet('Bob')}\")\n",
    "   ```\n",
    "   **Output:**  \n",
    "   ```\n",
    "   Hello, Bob!\n",
    "   ```\n",
    "\n",
    "**Comparison with Other Formatting Methods**\n",
    "\n",
    "| **Method**             | **Example**                                  | **Output**              |\n",
    "|------------------------|---------------------------------------------|-------------------------|\n",
    "| **f-string (Python 3.6+)** | `f\"Hello, {name}!\"`                        | `Hello, Alice!`        |\n",
    "| **`format()` method**  | `\"Hello, {}!\".format(name)`                 | `Hello, Alice!`        |\n",
    "| **Old `%` formatting** | `\"Hello, %s!\" % name`                       | `Hello, Alice!`        |\n",
    "\n",
    "🔹 **f-strings are faster and more readable** than `.format()` and `%` formatting.\n",
    "\n",
    "**Conclusion**\n",
    "\n",
    "✅ **f-strings** make string formatting **simpler, more readable, and more powerful**.  \n",
    "\n",
    "✅ They **support expressions, number formatting, and function calls**.  \n",
    "\n",
    "✅ They are the **recommended** way to format strings in modern Python (≥3.6). 🚀"
   ]
  },
  {
   "cell_type": "markdown",
   "id": "4c8a58c6",
   "metadata": {
    "id": "4c8a58c6",
    "slideshow": {
     "slide_type": "skip"
    }
   },
   "source": [
    "### What is the Meaning of the Format in the World Bank Example\n",
    "\n",
    "The lambda function in the code:\n",
    "```python\n",
    "lambda x: f\"{x:,.0f}\"\n",
    "```\n",
    "is using **Python’s formatted string literals (f-strings)** along with **format specifiers** to format the GDP values by inserting a **comma (`,`) every three digits**.\n",
    "\n",
    "**Breaking Down the Format Specifier `{x:,.0f}`**\n",
    "\n",
    "The format specifier inside the **f-string** (`f\"\"`) follows this structure:\n",
    "\n",
    "- `{x:,.0f}`\n",
    "  - `:` → Starts the format specifier.\n",
    "  - `,` → Adds a **thousands separator** (inserting commas every three digits).\n",
    "  - `.0f` → Formats the number as a **floating-point number with zero decimal places** (`.0` means no decimals, `f` stands for fixed-point notation).\n",
    "\n",
    "**How the Formatting Works**\n",
    "\n",
    "Consider an example where `x = 21000000000000`:\n",
    "\n",
    "```python\n",
    "x = 21000000000000\n",
    "formatted_x = f\"{x:,.0f}\"\n",
    "print(formatted_x)\n",
    "```\n",
    "\n",
    "**Output:**\n",
    "```\n",
    "21,000,000,000,000\n",
    "```\n",
    "\n",
    "- The comma `,` ensures that **every three digits** from the right are grouped together.\n",
    "- `.0f` removes any decimal places, converting it to an **integer-like format**.\n",
    "\n",
    "**More Examples**\n",
    "\n",
    "| **Number**         | **Formatted Output (`{x:,.0f}`)** |\n",
    "|--------------------|----------------------------------|\n",
    "| `1234567.89`      | `1,234,568` (Rounded to zero decimals) |\n",
    "| `987654321`       | `987,654,321` |\n",
    "| `15000.75`        | `15,001` (Rounded) |\n",
    "| `99999999999`     | `99,999,999,999` |\n",
    "\n",
    "If we wanted **two decimal places**, we could use `{x:,.2f}`:\n",
    "```python\n",
    "x = 1234567.891\n",
    "formatted_x = f\"{x:,.2f}\"\n",
    "print(formatted_x)\n",
    "```\n",
    "\n",
    "**Output:**\n",
    "```\n",
    "1,234,567.89\n",
    "```\n",
    "Here, `.2f` keeps **two decimal places**.\n",
    "\n",
    "\n",
    "**Conclusion**\n",
    "\n",
    "- The lambda function applies `f\"{x:,.0f}\"` to each GDP value.\n",
    "- The `,` ensures **thousands separators**.\n",
    "- The `.0f` ensures **no decimal places**.\n",
    "- The result is a **human-friendly GDP format**, making large numbers **easier to read**. 🚀"
   ]
  },
  {
   "cell_type": "markdown",
   "id": "0d7f3f81",
   "metadata": {
    "id": "0d7f3f81",
    "slideshow": {
     "slide_type": "skip"
    }
   },
   "source": [
    "### How use the `diff` method in `pandas`\n",
    "\n",
    "**Understanding the Pandas Instruction:**\n",
    "\n",
    "```python\n",
    "vix = vix.diff(periods=1, axis=0)\n",
    "```\n",
    "\n",
    "This line **computes the difference between consecutive rows** in a Pandas DataFrame or Series named `vix`.\n",
    "\n",
    "**Breaking Down the Parameters**\n",
    "\n",
    "1. **`.diff(periods=1, axis=0)`**\n",
    "\n",
    "- `periods=1` → Computes the difference between each value and the value **one row before**.\n",
    "\n",
    "- `axis=0` → Operates **row-wise** (default), meaning it subtracts the previous row from the current row.\n",
    "\n",
    "\n",
    "**Example 1: Using `.diff()` on a Pandas Series**\n",
    "\n",
    "**Original VIX Series:**\n",
    "\n",
    "```python\n",
    "import pandas as pd\n",
    "\n",
    "data = {'VIX': [15.2, 16.8, 18.1, 17.5, 19.0]}\n",
    "vix = pd.DataFrame(data)\n",
    "\n",
    "print(vix)\n",
    "```\n",
    "**Output:**\n",
    "```\n",
    "    VIX\n",
    "0  15.2\n",
    "1  16.8\n",
    "2  18.1\n",
    "3  17.5\n",
    "4  19.0\n",
    "```\n",
    "\n",
    "**Applying `.diff(periods=1, axis=0)`:**\n",
    "\n",
    "```python\n",
    "vix = vix.diff(periods=1, axis=0)\n",
    "print(vix)\n",
    "```\n",
    "**Output:**\n",
    "```\n",
    "    VIX\n",
    "0   NaN   # First row has no previous value, so it's NaN\n",
    "1   1.6   # 16.8 - 15.2\n",
    "2   1.3   # 18.1 - 16.8\n",
    "3  -0.6   # 17.5 - 18.1\n",
    "4   1.5   # 19.0 - 17.5\n",
    "```\n",
    "\n",
    "**Example 2: Using `.diff()` on a DataFrame with Multiple Columns**\n",
    "\n",
    "If `vix` is a DataFrame with multiple columns:\n",
    "\n",
    "```python\n",
    "data = {\n",
    "    'VIX': [15.2, 16.8, 18.1, 17.5, 19.0],\n",
    "    'SP500': [4500, 4520, 4535, 4510, 4540]\n",
    "}\n",
    "vix = pd.DataFrame(data)\n",
    "\n",
    "# Compute row-wise differences\n",
    "vix_diff = vix.diff(periods=1, axis=0)\n",
    "\n",
    "print(vix_diff)\n",
    "```\n",
    "**Output:**\n",
    "```\n",
    "    VIX  SP500\n",
    "0   NaN    NaN\n",
    "1   1.6   20.0\n",
    "2   1.3   15.0\n",
    "3  -0.6  -25.0\n",
    "4   1.5   30.0\n",
    "```\n",
    "Each column is processed **independently**.\n",
    "\n",
    "\n",
    "**Key Takeaways**\n",
    "\n",
    "- `.diff(periods=1, axis=0)` computes **row-wise differences**.\n",
    "\n",
    "- **First row always returns `NaN`**, since there’s no previous value to subtract.\n",
    "\n",
    "- If `periods=n`, it computes the difference with the **n-th previous row**.\n",
    "\n",
    "- Works on **both Series and DataFrames**.\n",
    "\n",
    "**Alternative Uses**\n",
    "\n",
    "**1. Computing Differences Over Longer Periods**\n",
    "\n",
    "```python\n",
    "vix.diff(periods=2)  # Difference with the row 2 periods before\n",
    "```\n",
    "\n",
    "**2. Column-Wise Differences (`axis=1`)**\n",
    "\n",
    "If `axis=1` is used, differences are computed **between columns** instead of rows:\n",
    "\n",
    "```python\n",
    "vix.diff(axis=1)"
   ]
  },
  {
   "cell_type": "markdown",
   "id": "98991422",
   "metadata": {
    "id": "98991422",
    "slideshow": {
     "slide_type": "slide"
    }
   },
   "source": [
    "## Reference and Credits"
   ]
  },
  {
   "cell_type": "markdown",
   "id": "73eca309",
   "metadata": {
    "id": "73eca309",
    "slideshow": {
     "slide_type": "subslide"
    }
   },
   "source": [
    "Here is a literature reference for using **pandas** to download financial data, specifically with `pandas_datareader` and `yfinance`:\n",
    "\n",
    "---\n",
    "\n",
    "**McKinney, W. (2017).** *Python for Data Analysis: Data Wrangling with Pandas, NumPy, and Jupyter.* O'Reilly Media.\n",
    "\n",
    "📌 **Summary:**  \n",
    "This book provides a comprehensive guide to using `pandas` for financial data analysis, including time series manipulation and integration with external data sources like Yahoo Finance, Quandl, and other APIs.\n",
    "\n",
    "---\n",
    "\n",
    "Additionally, for a more academic reference:\n",
    "\n",
    "**Wes McKinney. (2012).** *Python for Data Analysis.* O’Reilly Media.  \n",
    "**DOI:** [10.5555/2461238](https://doi.org/10.5555/2461238)\n",
    "\n",
    "This book covers practical techniques for data analysis using `pandas`, including how to fetch and process financial data.\n",
    "\n",
    "---\n",
    "\n",
    "For specific documentation references:\n",
    "\n",
    "- **Pandas Official Documentation:**  \n",
    "  [https://pandas.pydata.org/docs/](https://pandas.pydata.org/docs/)  \n",
    "\n",
    "- **pandas_datareader Documentation:**  \n",
    "  [https://pandas-datareader.readthedocs.io/en/latest/](https://pandas-datareader.readthedocs.io/en/latest/) "
   ]
  }
 ],
 "metadata": {
  "colab": {
   "provenance": []
  },
  "kernelspec": {
   "display_name": "Python 3 (ipykernel)",
   "language": "python",
   "name": "python3"
  },
  "language_info": {
   "codemirror_mode": {
    "name": "ipython",
    "version": 3
   },
   "file_extension": ".py",
   "mimetype": "text/x-python",
   "name": "python",
   "nbconvert_exporter": "python",
   "pygments_lexer": "ipython3",
   "version": "3.10.9"
  },
  "toc": {
   "base_numbering": "3",
   "nav_menu": {},
   "number_sections": true,
   "sideBar": true,
   "skip_h1_title": false,
   "title_cell": "Table of Contents",
   "title_sidebar": "Contents",
   "toc_cell": false,
   "toc_position": {},
   "toc_section_display": true,
   "toc_window_display": false
  }
 },
 "nbformat": 4,
 "nbformat_minor": 5
}
